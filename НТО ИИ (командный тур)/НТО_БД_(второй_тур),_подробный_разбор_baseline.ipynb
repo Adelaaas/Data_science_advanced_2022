{
  "cells": [
    {
      "cell_type": "markdown",
      "metadata": {
        "id": "fGx8HSWLieKw"
      },
      "source": [
        "# Описание задачи"
      ]
    },
    {
      "cell_type": "markdown",
      "metadata": {
        "id": "pD4f1scSibxv"
      },
      "source": [
        "В этом сезоне профиля «Искусственный интеллект» НТО вам предстоит поработать с новым форматом данных – видео. В рамках задачи 2 этапа вам нужно разработать алгоритм, который распределит короткие видео (<1 минуты) на 9 заданных классов: \n",
        "\n",
        "- animal – в видео присутствует одно или несколько животных;\n",
        "- car – в видео присутствуют автомобили;\n",
        "- cloud – в видео показано небо в облаках (тучах);\n",
        "- dance – в видео есть танцующий человек (люди);\n",
        "- fire – в видео присутствует пламя (огонь, пламя свечи и т.д.);\n",
        "- flower – в видео присутствуют цветы;\n",
        "- food – в видео готовят еду, либо просто присутствует еда;\n",
        "- sunset – в видео показан закат или рассвет;\n",
        "- water – в видео показана поверхность воды."
      ]
    },
    {
      "cell_type": "markdown",
      "metadata": {
        "id": "wo6KlMwpiq73"
      },
      "source": [
        "Задачи классификации, к которым относится и эта, являются важнейшим классом задач обучения с учителем (supervised learning). При этом стандартные подходы к классификации изображений могут быть расширены и на видео, которые, по сути, представляют из себя последовательность изображений, распределённых во времени. Задача классификации коротких видеофрагментов имеет широкое практическое применение, а успешные модели могут быть использованы, например, для фильтрации видео-контента или тематической классификации видео, а также в задаче поиска (information retrieval)."
      ]
    },
    {
      "cell_type": "markdown",
      "metadata": {
        "id": "WFZ0-7hmiuvz"
      },
      "source": [
        "**Формат решений**\n",
        "\n",
        "В проверяющую систему необходимо отправить код алгоритма, запакованный в ZIP-архив. Решения запускаются в изолированном окружении при помощи Docker. Время и ресурсы во время тестирования ограничены: \n",
        "\n",
        "- 5Gb на архив с решением\n",
        "- 25 минут на работу решения\n",
        "\n",
        "Так как решение не имеет доступ к интернету, все дополнительные данные, например, веса обученной модели, должны быть подгружены в контейнер. В качестве примеры организаторы предоставляют контейнер для запуска бейзлайн-решения.\n",
        "\n",
        "**Доступные ресурсы:**\n",
        "- 8 ядер CPU\n",
        "- 48Gb RAM\n",
        "- Видеокарта NVidia Tesla V100"
      ]
    },
    {
      "cell_type": "markdown",
      "metadata": {
        "id": "ia9z-87li-fG"
      },
      "source": [
        "**Метрика**\n",
        "\n",
        "Для оценки решений участников будет использована метрика accuracy, которая показывает долю верно классифицированных объектов выборки.\n",
        "\n",
        "Метрика accuracy является стандартной метрикой для задач классификации. Она характеризует долю точных совпадений среди пар предсказанных и истинных ответов, то есть отражает отношение числа совпавших ответов (когда модель участника предсказала такой же ответ, как истинный) к общему числу ответов (независимо от того, в определении какого именно класса модель допустила ошибку). Эта метрика изменяется от 0 до 1, где 0 – наихудшее значение, 1 – наилучшее."
      ]
    },
    {
      "cell_type": "markdown",
      "metadata": {
        "id": "gGF9b0FJjCDW"
      },
      "source": [
        "**Baseline**\n",
        "\n",
        "Вам доступно базовое решение от разработчиков задачи с использованием фреймворка PyTorch. \n",
        "\n",
        "Предполагаемый пайплайн работы модели включает в себя следующие этапы:\n",
        "1. вычисление для input видео соответствующих им векторных представлений (эмбеддинги);\n",
        "2. предсказание для каждого из получившихся эмбеддингов метки (лэйбла) одного из классов."
      ]
    },
    {
      "cell_type": "markdown",
      "metadata": {
        "id": "KNBKFQdbB2vL"
      },
      "source": [
        "https://drive.google.com/drive/folders/190bq-AUJTwMza179pVlH_FMDdA5sOjup?usp=share_link"
      ]
    },
    {
      "cell_type": "markdown",
      "metadata": {
        "id": "1QvSJt6mj_9G"
      },
      "source": [
        "https://ods.ai/competitions/nto22-23/data"
      ]
    },
    {
      "cell_type": "code",
      "execution_count": 1,
      "metadata": {
        "colab": {
          "base_uri": "https://localhost:8080/"
        },
        "id": "NeUimT8skem5",
        "outputId": "9d463e0c-3a7f-4bb7-e45e-b2f6732f002a"
      },
      "outputs": [
        {
          "output_type": "stream",
          "name": "stdout",
          "text": [
            "Looking in indexes: https://pypi.org/simple, https://us-python.pkg.dev/colab-wheels/public/simple/\n",
            "Collecting einops\n",
            "  Downloading einops-0.6.0-py3-none-any.whl (41 kB)\n",
            "\u001b[K     |████████████████████████████████| 41 kB 58 kB/s \n",
            "\u001b[?25hInstalling collected packages: einops\n",
            "Successfully installed einops-0.6.0\n"
          ]
        }
      ],
      "source": [
        "!pip install einops"
      ]
    },
    {
      "cell_type": "code",
      "execution_count": 2,
      "metadata": {
        "colab": {
          "base_uri": "https://localhost:8080/"
        },
        "id": "7D7xgKtyktrN",
        "outputId": "27512d67-3345-4365-a9ab-50e0a5b26ad6"
      },
      "outputs": [
        {
          "output_type": "stream",
          "name": "stdout",
          "text": [
            "Looking in indexes: https://pypi.org/simple, https://us-python.pkg.dev/colab-wheels/public/simple/\n",
            "Collecting timm\n",
            "  Downloading timm-0.6.12-py3-none-any.whl (549 kB)\n",
            "\u001b[K     |████████████████████████████████| 549 kB 29.8 MB/s \n",
            "\u001b[?25hRequirement already satisfied: pyyaml in /usr/local/lib/python3.8/dist-packages (from timm) (6.0)\n",
            "Requirement already satisfied: torch>=1.7 in /usr/local/lib/python3.8/dist-packages (from timm) (1.12.1+cu113)\n",
            "Requirement already satisfied: torchvision in /usr/local/lib/python3.8/dist-packages (from timm) (0.13.1+cu113)\n",
            "Collecting huggingface-hub\n",
            "  Downloading huggingface_hub-0.11.1-py3-none-any.whl (182 kB)\n",
            "\u001b[K     |████████████████████████████████| 182 kB 70.8 MB/s \n",
            "\u001b[?25hRequirement already satisfied: typing-extensions in /usr/local/lib/python3.8/dist-packages (from torch>=1.7->timm) (4.1.1)\n",
            "Requirement already satisfied: filelock in /usr/local/lib/python3.8/dist-packages (from huggingface-hub->timm) (3.8.0)\n",
            "Requirement already satisfied: packaging>=20.9 in /usr/local/lib/python3.8/dist-packages (from huggingface-hub->timm) (21.3)\n",
            "Requirement already satisfied: requests in /usr/local/lib/python3.8/dist-packages (from huggingface-hub->timm) (2.23.0)\n",
            "Requirement already satisfied: tqdm in /usr/local/lib/python3.8/dist-packages (from huggingface-hub->timm) (4.64.1)\n",
            "Requirement already satisfied: pyparsing!=3.0.5,>=2.0.2 in /usr/local/lib/python3.8/dist-packages (from packaging>=20.9->huggingface-hub->timm) (3.0.9)\n",
            "Requirement already satisfied: chardet<4,>=3.0.2 in /usr/local/lib/python3.8/dist-packages (from requests->huggingface-hub->timm) (3.0.4)\n",
            "Requirement already satisfied: certifi>=2017.4.17 in /usr/local/lib/python3.8/dist-packages (from requests->huggingface-hub->timm) (2022.9.24)\n",
            "Requirement already satisfied: idna<3,>=2.5 in /usr/local/lib/python3.8/dist-packages (from requests->huggingface-hub->timm) (2.10)\n",
            "Requirement already satisfied: urllib3!=1.25.0,!=1.25.1,<1.26,>=1.21.1 in /usr/local/lib/python3.8/dist-packages (from requests->huggingface-hub->timm) (1.24.3)\n",
            "Requirement already satisfied: pillow!=8.3.*,>=5.3.0 in /usr/local/lib/python3.8/dist-packages (from torchvision->timm) (7.1.2)\n",
            "Requirement already satisfied: numpy in /usr/local/lib/python3.8/dist-packages (from torchvision->timm) (1.21.6)\n",
            "Installing collected packages: huggingface-hub, timm\n",
            "Successfully installed huggingface-hub-0.11.1 timm-0.6.12\n"
          ]
        }
      ],
      "source": [
        "!pip install timm"
      ]
    },
    {
      "cell_type": "code",
      "source": [
        "!pip install wandb"
      ],
      "metadata": {
        "colab": {
          "base_uri": "https://localhost:8080/"
        },
        "id": "6oLifOenRJmY",
        "outputId": "439cfc74-2b33-49d8-8dbe-b25947e9abca"
      },
      "execution_count": 42,
      "outputs": [
        {
          "output_type": "stream",
          "name": "stdout",
          "text": [
            "Looking in indexes: https://pypi.org/simple, https://us-python.pkg.dev/colab-wheels/public/simple/\n",
            "Collecting wandb\n",
            "  Downloading wandb-0.13.5-py2.py3-none-any.whl (1.9 MB)\n",
            "\u001b[K     |████████████████████████████████| 1.9 MB 30.5 MB/s \n",
            "\u001b[?25hRequirement already satisfied: Click!=8.0.0,>=7.0 in /usr/local/lib/python3.8/dist-packages (from wandb) (7.1.2)\n",
            "Collecting shortuuid>=0.5.0\n",
            "  Downloading shortuuid-1.0.11-py3-none-any.whl (10 kB)\n",
            "Collecting docker-pycreds>=0.4.0\n",
            "  Downloading docker_pycreds-0.4.0-py2.py3-none-any.whl (9.0 kB)\n",
            "Requirement already satisfied: requests<3,>=2.0.0 in /usr/local/lib/python3.8/dist-packages (from wandb) (2.23.0)\n",
            "Requirement already satisfied: promise<3,>=2.0 in /usr/local/lib/python3.8/dist-packages (from wandb) (2.3)\n",
            "Requirement already satisfied: protobuf!=4.0.*,!=4.21.0,<5,>=3.12.0 in /usr/local/lib/python3.8/dist-packages (from wandb) (3.19.6)\n",
            "Requirement already satisfied: PyYAML in /usr/local/lib/python3.8/dist-packages (from wandb) (6.0)\n",
            "Collecting pathtools\n",
            "  Downloading pathtools-0.1.2.tar.gz (11 kB)\n",
            "Requirement already satisfied: psutil>=5.0.0 in /usr/local/lib/python3.8/dist-packages (from wandb) (5.4.8)\n",
            "Collecting setproctitle\n",
            "  Downloading setproctitle-1.3.2-cp38-cp38-manylinux_2_5_x86_64.manylinux1_x86_64.manylinux_2_17_x86_64.manylinux2014_x86_64.whl (31 kB)\n",
            "Requirement already satisfied: setuptools in /usr/local/lib/python3.8/dist-packages (from wandb) (57.4.0)\n",
            "Requirement already satisfied: six>=1.13.0 in /usr/local/lib/python3.8/dist-packages (from wandb) (1.15.0)\n",
            "Collecting GitPython>=1.0.0\n",
            "  Downloading GitPython-3.1.29-py3-none-any.whl (182 kB)\n",
            "\u001b[K     |████████████████████████████████| 182 kB 74.1 MB/s \n",
            "\u001b[?25hCollecting sentry-sdk>=1.0.0\n",
            "  Downloading sentry_sdk-1.11.1-py2.py3-none-any.whl (168 kB)\n",
            "\u001b[K     |████████████████████████████████| 168 kB 81.2 MB/s \n",
            "\u001b[?25hCollecting gitdb<5,>=4.0.1\n",
            "  Downloading gitdb-4.0.10-py3-none-any.whl (62 kB)\n",
            "\u001b[K     |████████████████████████████████| 62 kB 1.5 MB/s \n",
            "\u001b[?25hCollecting smmap<6,>=3.0.1\n",
            "  Downloading smmap-5.0.0-py3-none-any.whl (24 kB)\n",
            "Requirement already satisfied: urllib3!=1.25.0,!=1.25.1,<1.26,>=1.21.1 in /usr/local/lib/python3.8/dist-packages (from requests<3,>=2.0.0->wandb) (1.24.3)\n",
            "Requirement already satisfied: chardet<4,>=3.0.2 in /usr/local/lib/python3.8/dist-packages (from requests<3,>=2.0.0->wandb) (3.0.4)\n",
            "Requirement already satisfied: idna<3,>=2.5 in /usr/local/lib/python3.8/dist-packages (from requests<3,>=2.0.0->wandb) (2.10)\n",
            "Requirement already satisfied: certifi>=2017.4.17 in /usr/local/lib/python3.8/dist-packages (from requests<3,>=2.0.0->wandb) (2022.9.24)\n",
            "Collecting sentry-sdk>=1.0.0\n",
            "  Downloading sentry_sdk-1.11.0-py2.py3-none-any.whl (168 kB)\n",
            "\u001b[K     |████████████████████████████████| 168 kB 83.0 MB/s \n",
            "\u001b[?25h  Downloading sentry_sdk-1.10.1-py2.py3-none-any.whl (166 kB)\n",
            "\u001b[K     |████████████████████████████████| 166 kB 87.8 MB/s \n",
            "\u001b[?25h  Downloading sentry_sdk-1.10.0-py2.py3-none-any.whl (166 kB)\n",
            "\u001b[K     |████████████████████████████████| 166 kB 88.0 MB/s \n",
            "\u001b[?25h  Downloading sentry_sdk-1.9.10-py2.py3-none-any.whl (162 kB)\n",
            "\u001b[K     |████████████████████████████████| 162 kB 86.4 MB/s \n",
            "\u001b[?25h  Downloading sentry_sdk-1.9.9-py2.py3-none-any.whl (162 kB)\n",
            "\u001b[K     |████████████████████████████████| 162 kB 81.3 MB/s \n",
            "\u001b[?25h  Downloading sentry_sdk-1.9.8-py2.py3-none-any.whl (158 kB)\n",
            "\u001b[K     |████████████████████████████████| 158 kB 86.6 MB/s \n",
            "\u001b[?25h  Downloading sentry_sdk-1.9.7-py2.py3-none-any.whl (157 kB)\n",
            "\u001b[K     |████████████████████████████████| 157 kB 85.7 MB/s \n",
            "\u001b[?25h  Downloading sentry_sdk-1.9.6-py2.py3-none-any.whl (157 kB)\n",
            "\u001b[K     |████████████████████████████████| 157 kB 82.2 MB/s \n",
            "\u001b[?25h  Downloading sentry_sdk-1.9.5-py2.py3-none-any.whl (157 kB)\n",
            "\u001b[K     |████████████████████████████████| 157 kB 87.6 MB/s \n",
            "\u001b[?25h  Downloading sentry_sdk-1.9.4-py2.py3-none-any.whl (157 kB)\n",
            "\u001b[K     |████████████████████████████████| 157 kB 87.8 MB/s \n",
            "\u001b[?25h  Downloading sentry_sdk-1.9.3-py2.py3-none-any.whl (157 kB)\n",
            "\u001b[K     |████████████████████████████████| 157 kB 85.3 MB/s \n",
            "\u001b[?25h  Downloading sentry_sdk-1.9.2-py2.py3-none-any.whl (157 kB)\n",
            "\u001b[K     |████████████████████████████████| 157 kB 87.2 MB/s \n",
            "\u001b[?25h  Downloading sentry_sdk-1.9.1-py2.py3-none-any.whl (157 kB)\n",
            "\u001b[K     |████████████████████████████████| 157 kB 87.7 MB/s \n",
            "\u001b[?25h  Downloading sentry_sdk-1.9.0-py2.py3-none-any.whl (156 kB)\n",
            "\u001b[K     |████████████████████████████████| 156 kB 86.7 MB/s \n",
            "\u001b[?25hBuilding wheels for collected packages: pathtools\n",
            "  Building wheel for pathtools (setup.py) ... \u001b[?25l\u001b[?25hdone\n",
            "  Created wheel for pathtools: filename=pathtools-0.1.2-py3-none-any.whl size=8806 sha256=168af00b2fc1ebaa091c7480882f8de1165c6f42732f3cd80f73ce59e7d2f6bd\n",
            "  Stored in directory: /root/.cache/pip/wheels/4c/8e/7e/72fbc243e1aeecae64a96875432e70d4e92f3d2d18123be004\n",
            "Successfully built pathtools\n",
            "Installing collected packages: smmap, gitdb, shortuuid, setproctitle, sentry-sdk, pathtools, GitPython, docker-pycreds, wandb\n",
            "Successfully installed GitPython-3.1.29 docker-pycreds-0.4.0 gitdb-4.0.10 pathtools-0.1.2 sentry-sdk-1.9.0 setproctitle-1.3.2 shortuuid-1.0.11 smmap-5.0.0 wandb-0.13.5\n"
          ]
        }
      ]
    },
    {
      "cell_type": "code",
      "execution_count": 43,
      "metadata": {
        "id": "D7JDlfU7jiPc"
      },
      "outputs": [],
      "source": [
        "import os\n",
        "import sys\n",
        "import re\n",
        "import gc\n",
        "import platform\n",
        "import random\n",
        "import argparse\n",
        "\n",
        "import numpy as np\n",
        "import pandas as pd\n",
        "\n",
        "import torch\n",
        "import torch.nn as nn\n",
        "import torch.nn.functional as F\n",
        "from torch.utils.data import DataLoader, Dataset\n",
        "\n",
        "import einops\n",
        "\n",
        "import albumentations as A\n",
        "from albumentations.pytorch import ToTensorV2\n",
        "\n",
        "import timm\n",
        "import glob\n",
        "import cv2\n",
        "\n",
        "from numpy import array\n",
        "from numpy import argmax\n",
        "\n",
        "from tqdm import tqdm\n",
        "from tqdm.contrib import tzip\n",
        "\n",
        "import warnings\n",
        "\n",
        "import wandb\n",
        "\n",
        "warnings.simplefilter('ignore')"
      ]
    },
    {
      "cell_type": "code",
      "execution_count": 5,
      "metadata": {
        "colab": {
          "base_uri": "https://localhost:8080/"
        },
        "id": "n3RW6soRmz0U",
        "outputId": "d469e91d-ee17-4e26-b168-28648721da96"
      },
      "outputs": [
        {
          "output_type": "stream",
          "name": "stdout",
          "text": [
            "Mounted at /content/gdrive\n"
          ]
        }
      ],
      "source": [
        "# Монтирует google disk в colab\n",
        "from google.colab import drive\n",
        "drive.mount('/content/gdrive')"
      ]
    },
    {
      "cell_type": "code",
      "execution_count": 6,
      "metadata": {
        "colab": {
          "base_uri": "https://localhost:8080/",
          "height": 35
        },
        "id": "7pn9pcipnCfU",
        "outputId": "2ad5576f-2969-43bb-c000-162b046e8e79"
      },
      "outputs": [
        {
          "output_type": "execute_result",
          "data": {
            "text/plain": [
              "'/content/gdrive/MyDrive/Я-профи подготовка по машинному обучению/нто БД/БД второй тур (командный)'"
            ],
            "application/vnd.google.colaboratory.intrinsic+json": {
              "type": "string"
            }
          },
          "metadata": {},
          "execution_count": 6
        }
      ],
      "source": [
        "url = os.chdir(r\"/content/gdrive/MyDrive/Я-профи подготовка по машинному обучению/нто БД/БД второй тур (командный)\")\n",
        "os.getcwd()"
      ]
    },
    {
      "cell_type": "code",
      "execution_count": null,
      "metadata": {
        "id": "-WHDNfilnxhJ"
      },
      "outputs": [],
      "source": [
        "os.listdir('train_video/')"
      ]
    },
    {
      "cell_type": "code",
      "execution_count": 7,
      "metadata": {
        "id": "msxVFb3wkOZG"
      },
      "outputs": [],
      "source": [
        "def read_video(path, img_size, transform=None, frames_num=6):\n",
        "    frames = []\n",
        "    cap = cv2.VideoCapture(path)\n",
        "\n",
        "    fps = int(cap.get(cv2.CAP_PROP_FPS)) # число кадров в секунду\n",
        "    # print(fps)\n",
        "\n",
        "    length = int(cap.get(cv2.CAP_PROP_FRAME_COUNT)) # количество кадров\n",
        "    # print(length)\n",
        "\n",
        "    # мы берем не все кадры из видео, потому что их может быть много\n",
        "    # а только frames_num (ну тут 6 написано)\n",
        "    #  как мы берем? первые 6? последние 6? в середине 6?\n",
        "    # нет берем кадры через определенный шаг, он вычисляется как N:\n",
        "    N = length // (frames_num)\n",
        "\n",
        "    current_frame = 1\n",
        "\n",
        "    # в цикле по очереди считываем кадрый из видео\n",
        "    for i in range(length):\n",
        "        ret, frame = cap.read(current_frame)\n",
        "\n",
        "        if ret and i == current_frame and len(frames) < frames_num:\n",
        "            frame = cv2.cvtColor(frame, cv2.COLOR_BGR2RGB) # все кадры в BGR (поэтому перводим в RGB)\n",
        "            frame = cv2.resize(frame, img_size)\n",
        "\n",
        "            frames.append(frame)\n",
        "            current_frame += N\n",
        "\n",
        "    cap.release()\n",
        "    \n",
        "    # frames - это список состоящий из 6 трехмерных матрицы\n",
        "    # 6 кадров\n",
        "    # каждый кадр - это трех мерная матрица (потому что RGB)\n",
        "    return frames"
      ]
    },
    {
      "cell_type": "code",
      "execution_count": null,
      "metadata": {
        "id": "LajYYZFiIbWI"
      },
      "outputs": [],
      "source": [
        "video1 = read_video('train_video/Oregon Portland south park art museum_preview.mp4', (224, 224))"
      ]
    },
    {
      "cell_type": "code",
      "execution_count": null,
      "metadata": {
        "colab": {
          "base_uri": "https://localhost:8080/"
        },
        "id": "za1HQ0tZpmfm",
        "outputId": "d9438d35-6d83-4716-8660-f3689e7b08b4"
      },
      "outputs": [
        {
          "data": {
            "text/plain": [
              "(224, 224, 3)"
            ]
          },
          "execution_count": 9,
          "metadata": {},
          "output_type": "execute_result"
        }
      ],
      "source": [
        "video1[0].shape"
      ]
    },
    {
      "cell_type": "code",
      "execution_count": null,
      "metadata": {
        "id": "TtvCQnd5q08S"
      },
      "outputs": [],
      "source": [
        "from google.colab.patches import cv2_imshow"
      ]
    },
    {
      "cell_type": "code",
      "source": [
        "video1[0]"
      ],
      "metadata": {
        "id": "nuAPvNgYtfop"
      },
      "execution_count": null,
      "outputs": []
    },
    {
      "cell_type": "code",
      "execution_count": null,
      "metadata": {
        "colab": {
          "base_uri": "https://localhost:8080/",
          "height": 241
        },
        "id": "VvZl32P6qhok",
        "outputId": "b48b7c0b-4ee7-42d9-dd70-b22a507ef6f4"
      },
      "outputs": [
        {
          "output_type": "display_data",
          "data": {
            "text/plain": [
              "<PIL.Image.Image image mode=RGB size=224x224 at 0x7F9C28CEB450>"
            ],
            "image/png": "[encoded data removed]"
          },
          "metadata": {}
        }
      ],
      "source": [
        "cv2_imshow(video1[4])"
      ]
    },
    {
      "cell_type": "markdown",
      "metadata": {
        "id": "1V9CVAJXvQZe"
      },
      "source": [
        "**Про класс DataSet:**\n",
        "\n",
        "https://habr.com/ru/company/piter/blog/354912/"
      ]
    },
    {
      "cell_type": "code",
      "execution_count": 8,
      "metadata": {
        "id": "WMQTku1jlCeE"
      },
      "outputs": [],
      "source": [
        "# Класс для создания датасета\n",
        "# он создается наследую базовый класс pytorch - Dataset \n",
        "class RSNADataset(Dataset):\n",
        "    # def __init__ - конструктор класс\n",
        "    def __init__(self, df,  conf, is_test=False):\n",
        "        # conf - это переменная в которой просто разные настройки лежат\n",
        "        # она ниже определена\n",
        "        self.conf = conf\n",
        "        # df - это train.csv (где лежит название видео и его класс)\n",
        "        self.df = df\n",
        "        # transform - преобразование матриц кадров в тензоры (так как pytorch работает только с тензорами)\n",
        "        # тензор по сути тоже самое что вектор (ну почти:) )\n",
        "        self.transform = A.Compose([\n",
        "            ToTensorV2(p=1.0),\n",
        "        ],p=1.)\n",
        "        \n",
        "        self.is_test = is_test\n",
        "        self.samples = []\n",
        "        self.cls = {'water':0,'car':1,'cloud':2,'food':3,'flower':4,'dance':5,'animal':6,\n",
        "                    'sunset':7,'fire':8,'cloud, sunset':2,'water, flower':0,'cloud, water':2}\n",
        "        \n",
        "        for path, label in tzip(df.path, df.labels):\n",
        "            frames = read_video(self.conf['video_path'] + f'/{path}', self.conf['IMG_SIZE'], self.conf['MAX_FRAMES'])\n",
        "            self.samples +=[{'label': self.cls[str(label)],'frames': frames}]\n",
        "        \n",
        "    def __len__(self):\n",
        "        return len(self.df)\n",
        "\n",
        "    def __getitem__(self, idx):\n",
        "        sample = self.samples[idx]\n",
        "        \n",
        "        frames = sample['frames']\n",
        "\n",
        "        frames_tr = torch.from_numpy(np.stack(frames, axis=2)).permute(2, 3, 0, 1)\n",
        "            \n",
        "        if self.is_test:\n",
        "            return frames_tr\n",
        "        else:\n",
        "            label = torch.tensor(sample['label']).long()\n",
        "            return frames_tr, label"
      ]
    },
    {
      "cell_type": "markdown",
      "source": [
        "По сути в samples лежит словарь для каждого видео, в словаре два ключа:\n",
        "1. label - класс к каждому кадру из видео\n",
        "2. frames - кадры из этого видео"
      ],
      "metadata": {
        "id": "3R7Gtu3z4dxC"
      }
    },
    {
      "cell_type": "markdown",
      "source": [
        "![Frame 34.png](data:image/png;base64,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)"
      ],
      "metadata": {
        "id": "nZCnrgsVAKG2"
      }
    },
    {
      "cell_type": "code",
      "execution_count": 10,
      "metadata": {
        "colab": {
          "base_uri": "https://localhost:8080/",
          "height": 206
        },
        "id": "_KqHAr3Gvmsl",
        "outputId": "a3c71c97-96c2-482f-d545-4e1a6f62505e"
      },
      "outputs": [
        {
          "output_type": "execute_result",
          "data": {
            "text/plain": [
              "                                                  path  labels\n",
              "578  France Argentiere church and cross with Alps_p...   cloud\n",
              "229  Georgia Okefenokee reflections in scummy water...   water\n",
              "544                    170728_Berlin_A_012_preview.mp4  sunset\n",
              "369               170209D_039_Diving_1080p_preview.mp4   water\n",
              "442            motionplaces flower-Oct2018_preview.mp4  flower"
            ],
            "text/html": [
              "\n",
              "  <div id=\"df-28124a56-87a9-4ab9-bcf5-345c46a82ee3\">\n",
              "    <div class=\"colab-df-container\">\n",
              "      <div>\n",
              "<style scoped>\n",
              "    .dataframe tbody tr th:only-of-type {\n",
              "        vertical-align: middle;\n",
              "    }\n",
              "\n",
              "    .dataframe tbody tr th {\n",
              "        vertical-align: top;\n",
              "    }\n",
              "\n",
              "    .dataframe thead th {\n",
              "        text-align: right;\n",
              "    }\n",
              "</style>\n",
              "<table border=\"1\" class=\"dataframe\">\n",
              "  <thead>\n",
              "    <tr style=\"text-align: right;\">\n",
              "      <th></th>\n",
              "      <th>path</th>\n",
              "      <th>labels</th>\n",
              "    </tr>\n",
              "  </thead>\n",
              "  <tbody>\n",
              "    <tr>\n",
              "      <th>578</th>\n",
              "      <td>France Argentiere church and cross with Alps_p...</td>\n",
              "      <td>cloud</td>\n",
              "    </tr>\n",
              "    <tr>\n",
              "      <th>229</th>\n",
              "      <td>Georgia Okefenokee reflections in scummy water...</td>\n",
              "      <td>water</td>\n",
              "    </tr>\n",
              "    <tr>\n",
              "      <th>544</th>\n",
              "      <td>170728_Berlin_A_012_preview.mp4</td>\n",
              "      <td>sunset</td>\n",
              "    </tr>\n",
              "    <tr>\n",
              "      <th>369</th>\n",
              "      <td>170209D_039_Diving_1080p_preview.mp4</td>\n",
              "      <td>water</td>\n",
              "    </tr>\n",
              "    <tr>\n",
              "      <th>442</th>\n",
              "      <td>motionplaces flower-Oct2018_preview.mp4</td>\n",
              "      <td>flower</td>\n",
              "    </tr>\n",
              "  </tbody>\n",
              "</table>\n",
              "</div>\n",
              "      <button class=\"colab-df-convert\" onclick=\"convertToInteractive('df-28124a56-87a9-4ab9-bcf5-345c46a82ee3')\"\n",
              "              title=\"Convert this dataframe to an interactive table.\"\n",
              "              style=\"display:none;\">\n",
              "        \n",
              "  <svg xmlns=\"http://www.w3.org/2000/svg\" height=\"24px\"viewBox=\"0 0 24 24\"\n",
              "       width=\"24px\">\n",
              "    <path d=\"M0 0h24v24H0V0z\" fill=\"none\"/>\n",
              "    <path d=\"M18.56 5.44l.94 2.06.94-2.06 2.06-.94-2.06-.94-.94-2.06-.94 2.06-2.06.94zm-11 1L8.5 8.5l.94-2.06 2.06-.94-2.06-.94L8.5 2.5l-.94 2.06-2.06.94zm10 10l.94 2.06.94-2.06 2.06-.94-2.06-.94-.94-2.06-.94 2.06-2.06.94z\"/><path d=\"M17.41 7.96l-1.37-1.37c-.4-.4-.92-.59-1.43-.59-.52 0-1.04.2-1.43.59L10.3 9.45l-7.72 7.72c-.78.78-.78 2.05 0 2.83L4 21.41c.39.39.9.59 1.41.59.51 0 1.02-.2 1.41-.59l7.78-7.78 2.81-2.81c.8-.78.8-2.07 0-2.86zM5.41 20L4 18.59l7.72-7.72 1.47 1.35L5.41 20z\"/>\n",
              "  </svg>\n",
              "      </button>\n",
              "      \n",
              "  <style>\n",
              "    .colab-df-container {\n",
              "      display:flex;\n",
              "      flex-wrap:wrap;\n",
              "      gap: 12px;\n",
              "    }\n",
              "\n",
              "    .colab-df-convert {\n",
              "      background-color: #E8F0FE;\n",
              "      border: none;\n",
              "      border-radius: 50%;\n",
              "      cursor: pointer;\n",
              "      display: none;\n",
              "      fill: #1967D2;\n",
              "      height: 32px;\n",
              "      padding: 0 0 0 0;\n",
              "      width: 32px;\n",
              "    }\n",
              "\n",
              "    .colab-df-convert:hover {\n",
              "      background-color: #E2EBFA;\n",
              "      box-shadow: 0px 1px 2px rgba(60, 64, 67, 0.3), 0px 1px 3px 1px rgba(60, 64, 67, 0.15);\n",
              "      fill: #174EA6;\n",
              "    }\n",
              "\n",
              "    [theme=dark] .colab-df-convert {\n",
              "      background-color: #3B4455;\n",
              "      fill: #D2E3FC;\n",
              "    }\n",
              "\n",
              "    [theme=dark] .colab-df-convert:hover {\n",
              "      background-color: #434B5C;\n",
              "      box-shadow: 0px 1px 3px 1px rgba(0, 0, 0, 0.15);\n",
              "      filter: drop-shadow(0px 1px 2px rgba(0, 0, 0, 0.3));\n",
              "      fill: #FFFFFF;\n",
              "    }\n",
              "  </style>\n",
              "\n",
              "      <script>\n",
              "        const buttonEl =\n",
              "          document.querySelector('#df-28124a56-87a9-4ab9-bcf5-345c46a82ee3 button.colab-df-convert');\n",
              "        buttonEl.style.display =\n",
              "          google.colab.kernel.accessAllowed ? 'block' : 'none';\n",
              "\n",
              "        async function convertToInteractive(key) {\n",
              "          const element = document.querySelector('#df-28124a56-87a9-4ab9-bcf5-345c46a82ee3');\n",
              "          const dataTable =\n",
              "            await google.colab.kernel.invokeFunction('convertToInteractive',\n",
              "                                                     [key], {});\n",
              "          if (!dataTable) return;\n",
              "\n",
              "          const docLinkHtml = 'Like what you see? Visit the ' +\n",
              "            '<a target=\"_blank\" href=https://colab.research.google.com/notebooks/data_table.ipynb>data table notebook</a>'\n",
              "            + ' to learn more about interactive tables.';\n",
              "          element.innerHTML = '';\n",
              "          dataTable['output_type'] = 'display_data';\n",
              "          await google.colab.output.renderOutput(dataTable, element);\n",
              "          const docLink = document.createElement('div');\n",
              "          docLink.innerHTML = docLinkHtml;\n",
              "          element.appendChild(docLink);\n",
              "        }\n",
              "      </script>\n",
              "    </div>\n",
              "  </div>\n",
              "  "
            ]
          },
          "metadata": {},
          "execution_count": 10
        }
      ],
      "source": [
        "df_train = pd.read_csv('/content/gdrive/MyDrive/Я-профи подготовка по машинному обучению/нто БД/БД второй тур (командный)/train.csv', index_col=0)\n",
        "\n",
        "df_train.head()"
      ]
    },
    {
      "cell_type": "code",
      "execution_count": 11,
      "metadata": {
        "id": "1JtEvfd2xNII",
        "colab": {
          "base_uri": "https://localhost:8080/",
          "height": 84,
          "referenced_widgets": [
            "a790defad87f4f6487237291482b7a90",
            "bf7de4e810f74ad9badfc02f6499f979",
            "550ecd0cdd15471dbb7eec6b7c565435",
            "6603261efdab49de81545a13412990fd",
            "c428af18eaa449558b86ab1c58bb6616",
            "68aafa7645f7442898118d6fb38f63e0",
            "d020249fac6641bfb23128fb78f6d8eb",
            "9ab91346e8e6419284ccdf36e379d41f",
            "12a6f1af3b4b4ee8bb95bdeea3f02a1c",
            "4b11833076aa471ead293fff9c23f7e7",
            "3b38c3526ea64df2a6672a1736e6a20b"
          ]
        },
        "outputId": "4d3be2d0-c278-4a9e-a7f8-3370611bd418"
      },
      "outputs": [
        {
          "output_type": "display_data",
          "data": {
            "text/plain": [
              "  0%|          | 0/522 [00:00<?, ?it/s]"
            ],
            "application/vnd.jupyter.widget-view+json": {
              "version_major": 2,
              "version_minor": 0,
              "model_id": "a790defad87f4f6487237291482b7a90"
            }
          },
          "metadata": {}
        },
        {
          "output_type": "stream",
          "name": "stdout",
          "text": [
            "CPU times: user 2min 23s, sys: 9.93 s, total: 2min 33s\n",
            "Wall time: 11min 43s\n"
          ]
        }
      ],
      "source": [
        "%%time\n",
        "conf = dict(\n",
        "        MAX_FRAMES=12,\n",
        "        EPOCHS=5,\n",
        "        LR=2e-4,\n",
        "        IMG_SIZE=(224, 224),\n",
        "        FEATURE_EXTRACTOR='resnext50_32x4d',\n",
        "        DR_RATE=0.35,\n",
        "        NUM_CLASSES=12,\n",
        "        RNN_HIDDEN_SIZE=256,\n",
        "        RNN_LAYERS=1,\n",
        "        TEST_BS=4,\n",
        "        NUM_WORKERS=4,\n",
        "        # MODEL_PATH=args.weight_path,\n",
        "        video_path='train_video/'\n",
        "    )\n",
        "\n",
        "train_data = RSNADataset(df_train, conf)\n",
        "\n",
        "train_loader = DataLoader(\n",
        "        train_data,\n",
        "        batch_size=4,\n",
        "        shuffle=False\n",
        "    )"
      ]
    },
    {
      "cell_type": "code",
      "execution_count": 12,
      "metadata": {
        "id": "A6jXD9nrQ9lN",
        "colab": {
          "base_uri": "https://localhost:8080/",
          "height": 500
        },
        "outputId": "af4b4082-0edc-4bb8-f58b-3620ce98579f"
      },
      "outputs": [
        {
          "output_type": "execute_result",
          "data": {
            "text/plain": [
              "<matplotlib.axes._subplots.AxesSubplot at 0x7fab7de3d670>"
            ]
          },
          "metadata": {},
          "execution_count": 12
        },
        {
          "output_type": "display_data",
          "data": {
            "text/plain": [
              "<Figure size 1152x576 with 1 Axes>"
            ],
            "image/png": "[encoded data removed]"
          },
          "metadata": {
            "needs_background": "light"
          }
        }
      ],
      "source": [
        "df_train.labels.hist(figsize=(16,8))"
      ]
    },
    {
      "cell_type": "code",
      "source": [
        "df_train['labels'].value_counts()"
      ],
      "metadata": {
        "colab": {
          "base_uri": "https://localhost:8080/"
        },
        "id": "WDmAXJl0H-7_",
        "outputId": "f35cdf84-262d-4eb2-b221-669c4014eb38"
      },
      "execution_count": 13,
      "outputs": [
        {
          "output_type": "execute_result",
          "data": {
            "text/plain": [
              "water            120\n",
              "car               86\n",
              "cloud             79\n",
              "food              53\n",
              "flower            49\n",
              "dance             41\n",
              "animal            41\n",
              "sunset            35\n",
              "fire              16\n",
              "cloud, sunset      1\n",
              "cloud, water       1\n",
              "Name: labels, dtype: int64"
            ]
          },
          "metadata": {},
          "execution_count": 13
        }
      ]
    },
    {
      "cell_type": "code",
      "execution_count": 26,
      "metadata": {
        "colab": {
          "base_uri": "https://localhost:8080/"
        },
        "id": "rkaLvFUX2sk6",
        "outputId": "ca4e4490-37a0-48c8-d044-1d8774cf87a0"
      },
      "outputs": [
        {
          "output_type": "stream",
          "name": "stdout",
          "text": [
            "Sample len (это эквивалентно количество видео): 522\n",
            "Что лежит в одном видео: 2\n",
            "Какие ключи: dict_keys(['label', 'frames'])\n",
            "Что лежит в ключе labels: 2\n",
            "размерность данных по ключу frames: 6\n",
            "Размерность одного кадра, frame: (224, 224, 3)\n"
          ]
        }
      ],
      "source": [
        "print(f'Sample len (это эквивалентно количество видео): {len(train_data.samples)}') # всего в датасете 522 видео\n",
        "print(f'Что лежит в одном видео: {len(train_data.samples[0])}') # в каждом видео лежат два ключа\n",
        "print(f'Какие ключи: {train_data.samples[0].keys()}')# в каждом видео лежат два ключа\n",
        "print(f'Что лежит в ключе labels: {train_data.samples[0][\"label\"]}')# ключ label\n",
        "print(f'размерность данных по ключу frames: {len(train_data.samples[0][\"frames\"])}')# лежит 6, так как кадров из видео 6\n",
        "print(f'Размерность одного кадра, frame: {train_data.samples[0][\"frames\"][0].shape}') # что лежит в одном кадре, его размерность"
      ]
    },
    {
      "cell_type": "code",
      "execution_count": 27,
      "metadata": {
        "id": "8dcUcy6VvjJB"
      },
      "outputs": [],
      "source": [
        "## Model Class\n",
        "# \n",
        "\n",
        "class ResNextModel(nn.Module):\n",
        "    def __init__(self, conf):\n",
        "        super(ResNextModel, self).__init__()\n",
        "        self.conf = conf\n",
        "        self.backbone = timm.create_model(self.conf['FEATURE_EXTRACTOR'])\n",
        "\n",
        "    def forward(self, x):\n",
        "        return self.backbone(x)\n",
        "\n",
        "\n",
        "class Identity(nn.Module):\n",
        "    def __init__(self):\n",
        "        super(Identity, self).__init__()\n",
        "\n",
        "    def forward(self, x):\n",
        "        return x\n",
        "\n",
        "\n",
        "class RSNAModel(nn.Module):\n",
        "    def __init__(self, conf, pretrained=True):\n",
        "        super(RSNAModel, self).__init__()\n",
        "        self.conf = conf\n",
        "        self.backbone = ResNextModel(self.conf)\n",
        "        for param in self.backbone.parameters():\n",
        "            param.requires_grad = False\n",
        "        self.num_features = self.backbone.backbone.fc.in_features\n",
        "\n",
        "        self.backbone.backbone.fc = Identity()\n",
        "        self.dropout = nn.Dropout(self.conf['DR_RATE'])\n",
        "        self.rnn = nn.LSTM(self.num_features, self.conf['RNN_HIDDEN_SIZE'], self.conf['RNN_LAYERS'], dropout=0.1,\n",
        "                           batch_first=True, bidirectional=True)  # bidirectional=True\n",
        "        self.fc1 = nn.Linear(self.conf['RNN_HIDDEN_SIZE'] * 2, self.conf['NUM_CLASSES'])\n",
        "\n",
        "    def forward(self, x):\n",
        "        b, f, c, h, w = x.shape\n",
        "        # print(x.reshape(b * f, c, h, w).shape)\n",
        "        x = self.backbone(x.reshape(b * f, c, h, w))\n",
        "        # print(x.shape)\n",
        "        x = x.reshape(b, f, self.num_features)\n",
        "        # print(x.shape)\n",
        "        x, _ = self.rnn(x)\n",
        "        # print(x.shape)\n",
        "        x = self.dropout(x[:, -1])  #\n",
        "        # print(x.shape, self.num_features)\n",
        "        x = self.fc1(x)\n",
        "        return x"
      ]
    },
    {
      "cell_type": "code",
      "source": [
        "# Функции обучения нейронной сети\n",
        "def train_one_epoch(model, train_loader, optimizer, loss_fn, epoch, device, log_wandb=True, verbose=False):\n",
        "    \"\"\"\n",
        "    Trains model for one epoch\n",
        "    \"\"\"\n",
        "    model.train()\n",
        "    running_loss = 0\n",
        "    prog_bar = tqdm(enumerate(train_loader), total=len(train_loader))\n",
        "    for batch, (frames, targets) in prog_bar:\n",
        "        optimizer.zero_grad()\n",
        "        \n",
        "        frames = frames.to(device, torch.float)\n",
        "        targets = targets.to(device)\n",
        "        \n",
        "        # Re arrange the frames in the format our model wants to recieve\n",
        "        preds = model(frames)\n",
        "        loss = loss_fn(preds, targets)\n",
        "        \n",
        "        loss.backward()\n",
        "        optimizer.step()\n",
        "        \n",
        "        loss_item = loss.item()\n",
        "        running_loss += loss_item\n",
        "        \n",
        "        prog_bar.set_description(f\"loss: {loss_item:.4f}\")\n",
        "        \n",
        "        # if log_wandb == True:\n",
        "        #     wandb_log(\n",
        "        #         batch_train_loss=loss_item\n",
        "        #     )\n",
        "        \n",
        "        if verbose == True and batch % 20 == 0:\n",
        "            print(f\"Batch: {batch}, Loss: {loss_item}\")\n",
        "    \n",
        "    avg_loss = running_loss / len(train_loader)\n",
        "    \n",
        "    return avg_loss\n",
        "\n",
        "# @torch.no_grad()\n",
        "# def valid_one_epoch(model, valid_loader, loss_fn, epoch, device, log_wandb=True, verbose=False):\n",
        "#     \"\"\"\n",
        "#     Validates the model for one epoch\n",
        "#     \"\"\"\n",
        "#     model.eval()\n",
        "#     running_loss = 0\n",
        "#     prog_bar = tqdm(enumerate(valid_dataloader), total=len(valid_dataloader))\n",
        "#     for batch, (frames, targets) in prog_bar:\n",
        "#         frames = frames.to(device, torch.float)\n",
        "#         targets = targets.to(device)\n",
        "        \n",
        "#         # Re arrange the frames in the format our model wants to recieve\n",
        "#         preds = model(frames)\n",
        "#         loss = loss_fn(preds, targets)\n",
        "        \n",
        "#         loss_item = loss.item()\n",
        "#         running_loss += loss_item\n",
        "        \n",
        "#         prog_bar.set_description(f\"val_loss: {loss_item:.4f}\")\n",
        "        \n",
        "#         if log_wandb == True:\n",
        "#             wandb_log(\n",
        "#                 batch_val_loss=loss_item\n",
        "#             )\n",
        "        \n",
        "#         if verbose == True and batch % 10 == 0:\n",
        "#             print(f\"Batch: {batch}, Loss: {loss_item}\")\n",
        "    \n",
        "#     avg_val_loss = running_loss / len(valid_loader)\n",
        "    \n",
        "#     return avg_val_loss"
      ],
      "metadata": {
        "id": "55aBKOHrLUDc"
      },
      "execution_count": 49,
      "outputs": []
    },
    {
      "cell_type": "markdown",
      "metadata": {
        "id": "L1FVhyr70RWS"
      },
      "source": [
        "https://learn.microsoft.com/en-us/windows/ai/windows-ml/tutorials/pytorch-train-model"
      ]
    },
    {
      "cell_type": "code",
      "source": [
        "def wandb_log(**kwargs):\n",
        "    \"\"\"\n",
        "    Logs a key-value pair to W&B\n",
        "    \"\"\"\n",
        "    for k, v in kwargs.items():\n",
        "        wandb.log({k: v})"
      ],
      "metadata": {
        "id": "42M2kwTFQnLp"
      },
      "execution_count": 36,
      "outputs": []
    },
    {
      "cell_type": "code",
      "execution_count": 50,
      "metadata": {
        "id": "w5ZTKNP3nVy8"
      },
      "outputs": [],
      "source": [
        "# Функция main, которая собирает все вместе\n",
        "# она принимает разные конфигурации для выполнения всех программ\n",
        "# лоадер данных - df_loader\n",
        "# df - это датафрейм (где путь, класс)\n",
        "# output_path - путь куда сохранить ответы\n",
        "# device - GPU/CPU - на чем делать вычисления\n",
        "def main(conf, df_loader, df, output_path, device):\n",
        "\n",
        "    # создаем модель\n",
        "    model = RSNAModel(conf)\n",
        "    # загружаем веса модели\n",
        "    model.load_state_dict(torch.load(conf['MODEL_PATH']))\n",
        "    # передаем модели на чем делать вычисления GPU/CPU\n",
        "    model = model.to(device)\n",
        "\n",
        "    # Тут начинается обучение модели\n",
        "    model.train()\n",
        "    optimizer = torch.optim.AdamW(model.parameters(), lr=conf['LR'])\n",
        "\n",
        "    train_loss_fn = nn.CrossEntropyLoss()\n",
        "\n",
        "    print(f\"\\nUsing Backbone: {conf['FEATURE_EXTRACTOR']}\")\n",
        "\n",
        "    current_loss = 1000\n",
        "    for epoch in range(conf['EPOCHS']):\n",
        "        print(f\"\\n{'--'*8} EPOCH: {epoch+1} {'--'*8}\\n\")\n",
        "            \n",
        "        train_loss = train_one_epoch(model, train_loader, optimizer, train_loss_fn, epoch=epoch, device=device, log_wandb=log_wandb)\n",
        "            \n",
        "        # if log_wandb == True:\n",
        "        #     wandb_log(\n",
        "        #             train_loss=train_loss\n",
        "        #     )\n",
        "            \n",
        "        if train_loss < current_loss:\n",
        "            current_loss = train_loss\n",
        "            torch.save(model.state_dict(), f\"model_myself_{conf['FEATURE_EXTRACTOR']}.pt\")\n",
        "\n",
        "    # тут происходит предсказание ответа\n",
        "    gt = []\n",
        "    pred = [] # массив куда будем сохранять ответы\n",
        "    model.eval()\n",
        "\n",
        "    # prog_bar - это просто чтобы красиво выводился процесс вычисления\n",
        "    # в виде бегущей крассивой штукой и показом процента выполнения\n",
        "    prog_bar = tqdm(enumerate(df_loader), total=len(df_loader))\n",
        "    for batch, (frames, targets) in prog_bar:\n",
        "        frames = frames.to('cuda').float()\n",
        "        gt +=  list(targets.numpy())\n",
        "\n",
        "        with torch.no_grad():\n",
        "            pred += list(model(frames).argmax(dim=-1).to('cpu').flatten().numpy())\n",
        "\n",
        "    # сохраняем ответы в датафрейм с путями в новую колонку labels_pred\n",
        "    df['labels_pred'] = pred\n",
        "\n",
        "    # сохраняем ответы в файл csv\n",
        "    os.makedirs(output_path, exist_ok=True)\n",
        "    df['labels_pred'].to_csv(output_path + 'predictions.csv')"
      ]
    },
    {
      "cell_type": "code",
      "execution_count": 51,
      "metadata": {
        "colab": {
          "base_uri": "https://localhost:8080/"
        },
        "id": "MvKIoL1sC94V",
        "outputId": "238e54ce-fad9-4e78-e24c-3a6868953bb4"
      },
      "outputs": [
        {
          "output_type": "stream",
          "name": "stdout",
          "text": [
            "Using GPU: Tesla T4\n",
            "\n",
            "\n",
            "Using Backbone: resnext50_32x4d\n",
            "\n",
            "---------------- EPOCH: 1 ----------------\n",
            "\n"
          ]
        },
        {
          "output_type": "stream",
          "name": "stderr",
          "text": [
            "loss: 0.8756: 100%|██████████| 131/131 [00:15<00:00,  8.59it/s]\n"
          ]
        },
        {
          "output_type": "stream",
          "name": "stdout",
          "text": [
            "\n",
            "---------------- EPOCH: 2 ----------------\n",
            "\n"
          ]
        },
        {
          "output_type": "stream",
          "name": "stderr",
          "text": [
            "loss: 1.1040: 100%|██████████| 131/131 [00:15<00:00,  8.41it/s]\n"
          ]
        },
        {
          "output_type": "stream",
          "name": "stdout",
          "text": [
            "\n",
            "---------------- EPOCH: 3 ----------------\n",
            "\n"
          ]
        },
        {
          "output_type": "stream",
          "name": "stderr",
          "text": [
            "loss: 0.6159: 100%|██████████| 131/131 [00:15<00:00,  8.45it/s]\n"
          ]
        },
        {
          "output_type": "stream",
          "name": "stdout",
          "text": [
            "\n",
            "---------------- EPOCH: 4 ----------------\n",
            "\n"
          ]
        },
        {
          "output_type": "stream",
          "name": "stderr",
          "text": [
            "loss: 0.4188: 100%|██████████| 131/131 [00:15<00:00,  8.29it/s]\n"
          ]
        },
        {
          "output_type": "stream",
          "name": "stdout",
          "text": [
            "\n",
            "---------------- EPOCH: 5 ----------------\n",
            "\n"
          ]
        },
        {
          "output_type": "stream",
          "name": "stderr",
          "text": [
            "loss: 0.2515: 100%|██████████| 131/131 [00:16<00:00,  8.16it/s]\n",
            "100%|██████████| 131/131 [00:14<00:00,  9.15it/s]"
          ]
        },
        {
          "output_type": "stream",
          "name": "stdout",
          "text": [
            "CPU times: user 1min 31s, sys: 1.31 s, total: 1min 32s\n",
            "Wall time: 1min 35s\n"
          ]
        },
        {
          "output_type": "stream",
          "name": "stderr",
          "text": [
            "\n"
          ]
        }
      ],
      "source": [
        "%%time\n",
        "\n",
        "# ВСЕ ЗАПУСКАЕМ\n",
        "\n",
        "conf = dict(\n",
        "    MAX_FRAMES=12,\n",
        "    EPOCHS=5,\n",
        "    LR=2e-4,\n",
        "    IMG_SIZE=(224, 224),\n",
        "    FEATURE_EXTRACTOR='resnext50_32x4d',\n",
        "    DR_RATE=0.35,\n",
        "    NUM_CLASSES=12,\n",
        "    RNN_HIDDEN_SIZE=256,\n",
        "    RNN_LAYERS=1,\n",
        "    TEST_BS=4,\n",
        "    NUM_WORKERS=4,\n",
        "    MODEL_PATH='submit/weights/model_resnext50_32x4d.pt',\n",
        "    video_path='train_video/'\n",
        ")\n",
        "\n",
        "if torch.cuda.is_available():\n",
        "    print(\"Using GPU: {}\\n\".format(torch.cuda.get_device_name()))\n",
        "    device = torch.device('cuda')\n",
        "else:\n",
        "    print(\"\\nGPU not found. Using CPU: {}\\n\".format(platform.processor()))\n",
        "    device = torch.device('cpu')\n",
        "\n",
        "main(conf,  train_loader, df_train, 'output/', device)"
      ]
    },
    {
      "cell_type": "code",
      "source": [
        "classes = {'water':0,'car':1,'cloud':2,'food':3,'flower':4,'dance':5,'animal':6,\n",
        "           'sunset':7,'fire':8,'cloud, sunset':2,'water, flower':0,'cloud, water':2}\n",
        "\n",
        "df_train['labels_num'] = df_train['labels'].map(classes)\n",
        "\n",
        "df_train"
      ],
      "metadata": {
        "colab": {
          "base_uri": "https://localhost:8080/",
          "height": 424
        },
        "id": "E5sHV9f8Uzjw",
        "outputId": "59af83cc-092b-4645-c72e-a5d7c36c0989"
      },
      "execution_count": 55,
      "outputs": [
        {
          "output_type": "execute_result",
          "data": {
            "text/plain": [
              "                                                  path  labels  labels_pred  \\\n",
              "578  France Argentiere church and cross with Alps_p...   cloud            2   \n",
              "229  Georgia Okefenokee reflections in scummy water...   water            0   \n",
              "544                    170728_Berlin_A_012_preview.mp4  sunset            7   \n",
              "369               170209D_039_Diving_1080p_preview.mp4   water            0   \n",
              "442            motionplaces flower-Oct2018_preview.mp4  flower            4   \n",
              "..                                                 ...     ...          ...   \n",
              "125     190212_03_MarrakechKoutoubia_HD_07_preview.mp4   water            0   \n",
              "401           170609_B_DelhiJamaMasjid_004_preview.mp4    food            3   \n",
              "464  034660478-berlin-reichstag-backlit-drama_previ...   cloud            2   \n",
              "182        California smoke in evening sky_preview.mp4   cloud            2   \n",
              "494  _Massachusetts Salem Witch's House with sign_p...     car            1   \n",
              "\n",
              "     labels_num  \n",
              "578           2  \n",
              "229           0  \n",
              "544           7  \n",
              "369           0  \n",
              "442           4  \n",
              "..          ...  \n",
              "125           0  \n",
              "401           3  \n",
              "464           2  \n",
              "182           2  \n",
              "494           1  \n",
              "\n",
              "[522 rows x 4 columns]"
            ],
            "text/html": [
              "\n",
              "  <div id=\"df-8df87b5c-e3a2-4e5a-85fe-b9129869cec8\">\n",
              "    <div class=\"colab-df-container\">\n",
              "      <div>\n",
              "<style scoped>\n",
              "    .dataframe tbody tr th:only-of-type {\n",
              "        vertical-align: middle;\n",
              "    }\n",
              "\n",
              "    .dataframe tbody tr th {\n",
              "        vertical-align: top;\n",
              "    }\n",
              "\n",
              "    .dataframe thead th {\n",
              "        text-align: right;\n",
              "    }\n",
              "</style>\n",
              "<table border=\"1\" class=\"dataframe\">\n",
              "  <thead>\n",
              "    <tr style=\"text-align: right;\">\n",
              "      <th></th>\n",
              "      <th>path</th>\n",
              "      <th>labels</th>\n",
              "      <th>labels_pred</th>\n",
              "      <th>labels_num</th>\n",
              "    </tr>\n",
              "  </thead>\n",
              "  <tbody>\n",
              "    <tr>\n",
              "      <th>578</th>\n",
              "      <td>France Argentiere church and cross with Alps_p...</td>\n",
              "      <td>cloud</td>\n",
              "      <td>2</td>\n",
              "      <td>2</td>\n",
              "    </tr>\n",
              "    <tr>\n",
              "      <th>229</th>\n",
              "      <td>Georgia Okefenokee reflections in scummy water...</td>\n",
              "      <td>water</td>\n",
              "      <td>0</td>\n",
              "      <td>0</td>\n",
              "    </tr>\n",
              "    <tr>\n",
              "      <th>544</th>\n",
              "      <td>170728_Berlin_A_012_preview.mp4</td>\n",
              "      <td>sunset</td>\n",
              "      <td>7</td>\n",
              "      <td>7</td>\n",
              "    </tr>\n",
              "    <tr>\n",
              "      <th>369</th>\n",
              "      <td>170209D_039_Diving_1080p_preview.mp4</td>\n",
              "      <td>water</td>\n",
              "      <td>0</td>\n",
              "      <td>0</td>\n",
              "    </tr>\n",
              "    <tr>\n",
              "      <th>442</th>\n",
              "      <td>motionplaces flower-Oct2018_preview.mp4</td>\n",
              "      <td>flower</td>\n",
              "      <td>4</td>\n",
              "      <td>4</td>\n",
              "    </tr>\n",
              "    <tr>\n",
              "      <th>...</th>\n",
              "      <td>...</td>\n",
              "      <td>...</td>\n",
              "      <td>...</td>\n",
              "      <td>...</td>\n",
              "    </tr>\n",
              "    <tr>\n",
              "      <th>125</th>\n",
              "      <td>190212_03_MarrakechKoutoubia_HD_07_preview.mp4</td>\n",
              "      <td>water</td>\n",
              "      <td>0</td>\n",
              "      <td>0</td>\n",
              "    </tr>\n",
              "    <tr>\n",
              "      <th>401</th>\n",
              "      <td>170609_B_DelhiJamaMasjid_004_preview.mp4</td>\n",
              "      <td>food</td>\n",
              "      <td>3</td>\n",
              "      <td>3</td>\n",
              "    </tr>\n",
              "    <tr>\n",
              "      <th>464</th>\n",
              "      <td>034660478-berlin-reichstag-backlit-drama_previ...</td>\n",
              "      <td>cloud</td>\n",
              "      <td>2</td>\n",
              "      <td>2</td>\n",
              "    </tr>\n",
              "    <tr>\n",
              "      <th>182</th>\n",
              "      <td>California smoke in evening sky_preview.mp4</td>\n",
              "      <td>cloud</td>\n",
              "      <td>2</td>\n",
              "      <td>2</td>\n",
              "    </tr>\n",
              "    <tr>\n",
              "      <th>494</th>\n",
              "      <td>_Massachusetts Salem Witch's House with sign_p...</td>\n",
              "      <td>car</td>\n",
              "      <td>1</td>\n",
              "      <td>1</td>\n",
              "    </tr>\n",
              "  </tbody>\n",
              "</table>\n",
              "<p>522 rows × 4 columns</p>\n",
              "</div>\n",
              "      <button class=\"colab-df-convert\" onclick=\"convertToInteractive('df-8df87b5c-e3a2-4e5a-85fe-b9129869cec8')\"\n",
              "              title=\"Convert this dataframe to an interactive table.\"\n",
              "              style=\"display:none;\">\n",
              "        \n",
              "  <svg xmlns=\"http://www.w3.org/2000/svg\" height=\"24px\"viewBox=\"0 0 24 24\"\n",
              "       width=\"24px\">\n",
              "    <path d=\"M0 0h24v24H0V0z\" fill=\"none\"/>\n",
              "    <path d=\"M18.56 5.44l.94 2.06.94-2.06 2.06-.94-2.06-.94-.94-2.06-.94 2.06-2.06.94zm-11 1L8.5 8.5l.94-2.06 2.06-.94-2.06-.94L8.5 2.5l-.94 2.06-2.06.94zm10 10l.94 2.06.94-2.06 2.06-.94-2.06-.94-.94-2.06-.94 2.06-2.06.94z\"/><path d=\"M17.41 7.96l-1.37-1.37c-.4-.4-.92-.59-1.43-.59-.52 0-1.04.2-1.43.59L10.3 9.45l-7.72 7.72c-.78.78-.78 2.05 0 2.83L4 21.41c.39.39.9.59 1.41.59.51 0 1.02-.2 1.41-.59l7.78-7.78 2.81-2.81c.8-.78.8-2.07 0-2.86zM5.41 20L4 18.59l7.72-7.72 1.47 1.35L5.41 20z\"/>\n",
              "  </svg>\n",
              "      </button>\n",
              "      \n",
              "  <style>\n",
              "    .colab-df-container {\n",
              "      display:flex;\n",
              "      flex-wrap:wrap;\n",
              "      gap: 12px;\n",
              "    }\n",
              "\n",
              "    .colab-df-convert {\n",
              "      background-color: #E8F0FE;\n",
              "      border: none;\n",
              "      border-radius: 50%;\n",
              "      cursor: pointer;\n",
              "      display: none;\n",
              "      fill: #1967D2;\n",
              "      height: 32px;\n",
              "      padding: 0 0 0 0;\n",
              "      width: 32px;\n",
              "    }\n",
              "\n",
              "    .colab-df-convert:hover {\n",
              "      background-color: #E2EBFA;\n",
              "      box-shadow: 0px 1px 2px rgba(60, 64, 67, 0.3), 0px 1px 3px 1px rgba(60, 64, 67, 0.15);\n",
              "      fill: #174EA6;\n",
              "    }\n",
              "\n",
              "    [theme=dark] .colab-df-convert {\n",
              "      background-color: #3B4455;\n",
              "      fill: #D2E3FC;\n",
              "    }\n",
              "\n",
              "    [theme=dark] .colab-df-convert:hover {\n",
              "      background-color: #434B5C;\n",
              "      box-shadow: 0px 1px 3px 1px rgba(0, 0, 0, 0.15);\n",
              "      filter: drop-shadow(0px 1px 2px rgba(0, 0, 0, 0.3));\n",
              "      fill: #FFFFFF;\n",
              "    }\n",
              "  </style>\n",
              "\n",
              "      <script>\n",
              "        const buttonEl =\n",
              "          document.querySelector('#df-8df87b5c-e3a2-4e5a-85fe-b9129869cec8 button.colab-df-convert');\n",
              "        buttonEl.style.display =\n",
              "          google.colab.kernel.accessAllowed ? 'block' : 'none';\n",
              "\n",
              "        async function convertToInteractive(key) {\n",
              "          const element = document.querySelector('#df-8df87b5c-e3a2-4e5a-85fe-b9129869cec8');\n",
              "          const dataTable =\n",
              "            await google.colab.kernel.invokeFunction('convertToInteractive',\n",
              "                                                     [key], {});\n",
              "          if (!dataTable) return;\n",
              "\n",
              "          const docLinkHtml = 'Like what you see? Visit the ' +\n",
              "            '<a target=\"_blank\" href=https://colab.research.google.com/notebooks/data_table.ipynb>data table notebook</a>'\n",
              "            + ' to learn more about interactive tables.';\n",
              "          element.innerHTML = '';\n",
              "          dataTable['output_type'] = 'display_data';\n",
              "          await google.colab.output.renderOutput(dataTable, element);\n",
              "          const docLink = document.createElement('div');\n",
              "          docLink.innerHTML = docLinkHtml;\n",
              "          element.appendChild(docLink);\n",
              "        }\n",
              "      </script>\n",
              "    </div>\n",
              "  </div>\n",
              "  "
            ]
          },
          "metadata": {},
          "execution_count": 55
        }
      ]
    },
    {
      "cell_type": "code",
      "source": [
        "from sklearn.metrics import accuracy_score, f1_score\n",
        "print(accuracy_score(df_train['labels_num'].values, df_train['labels_pred'].values))\n",
        "print(f1_score(df_train['labels_num'].values, df_train['labels_pred'].values, average='weighted'))"
      ],
      "metadata": {
        "colab": {
          "base_uri": "https://localhost:8080/"
        },
        "id": "EDg2v0OsOTjq",
        "outputId": "ae4320de-34a7-43c0-ce53-1e451dc31b7c"
      },
      "execution_count": 58,
      "outputs": [
        {
          "output_type": "stream",
          "name": "stdout",
          "text": [
            "0.89272030651341\n",
            "0.8931084235860929\n"
          ]
        }
      ]
    }
  ],
  "metadata": {
    "accelerator": "GPU",
    "colab": {
      "provenance": []
    },
    "gpuClass": "standard",
    "kernelspec": {
      "display_name": "Python 3",
      "name": "python3"
    },
    "language_info": {
      "name": "python"
    },
    "widgets": {
      "application/vnd.jupyter.widget-state+json": {
        "a790defad87f4f6487237291482b7a90": {
          "model_module": "@jupyter-widgets/controls",
          "model_name": "HBoxModel",
          "model_module_version": "1.5.0",
          "state": {
            "_dom_classes": [],
            "_model_module": "@jupyter-widgets/controls",
            "_model_module_version": "1.5.0",
            "_model_name": "HBoxModel",
            "_view_count": null,
            "_view_module": "@jupyter-widgets/controls",
            "_view_module_version": "1.5.0",
            "_view_name": "HBoxView",
            "box_style": "",
            "children": [
              "IPY_MODEL_bf7de4e810f74ad9badfc02f6499f979",
              "IPY_MODEL_550ecd0cdd15471dbb7eec6b7c565435",
              "IPY_MODEL_6603261efdab49de81545a13412990fd"
            ],
            "layout": "IPY_MODEL_c428af18eaa449558b86ab1c58bb6616"
          }
        },
        "bf7de4e810f74ad9badfc02f6499f979": {
          "model_module": "@jupyter-widgets/controls",
          "model_name": "HTMLModel",
          "model_module_version": "1.5.0",
          "state": {
            "_dom_classes": [],
            "_model_module": "@jupyter-widgets/controls",
            "_model_module_version": "1.5.0",
            "_model_name": "HTMLModel",
            "_view_count": null,
            "_view_module": "@jupyter-widgets/controls",
            "_view_module_version": "1.5.0",
            "_view_name": "HTMLView",
            "description": "",
            "description_tooltip": null,
            "layout": "IPY_MODEL_68aafa7645f7442898118d6fb38f63e0",
            "placeholder": "​",
            "style": "IPY_MODEL_d020249fac6641bfb23128fb78f6d8eb",
            "value": "100%"
          }
        },
        "550ecd0cdd15471dbb7eec6b7c565435": {
          "model_module": "@jupyter-widgets/controls",
          "model_name": "FloatProgressModel",
          "model_module_version": "1.5.0",
          "state": {
            "_dom_classes": [],
            "_model_module": "@jupyter-widgets/controls",
            "_model_module_version": "1.5.0",
            "_model_name": "FloatProgressModel",
            "_view_count": null,
            "_view_module": "@jupyter-widgets/controls",
            "_view_module_version": "1.5.0",
            "_view_name": "ProgressView",
            "bar_style": "success",
            "description": "",
            "description_tooltip": null,
            "layout": "IPY_MODEL_9ab91346e8e6419284ccdf36e379d41f",
            "max": 522,
            "min": 0,
            "orientation": "horizontal",
            "style": "IPY_MODEL_12a6f1af3b4b4ee8bb95bdeea3f02a1c",
            "value": 522
          }
        },
        "6603261efdab49de81545a13412990fd": {
          "model_module": "@jupyter-widgets/controls",
          "model_name": "HTMLModel",
          "model_module_version": "1.5.0",
          "state": {
            "_dom_classes": [],
            "_model_module": "@jupyter-widgets/controls",
            "_model_module_version": "1.5.0",
            "_model_name": "HTMLModel",
            "_view_count": null,
            "_view_module": "@jupyter-widgets/controls",
            "_view_module_version": "1.5.0",
            "_view_name": "HTMLView",
            "description": "",
            "description_tooltip": null,
            "layout": "IPY_MODEL_4b11833076aa471ead293fff9c23f7e7",
            "placeholder": "​",
            "style": "IPY_MODEL_3b38c3526ea64df2a6672a1736e6a20b",
            "value": " 522/522 [11:43&lt;00:00,  1.55s/it]"
          }
        },
        "c428af18eaa449558b86ab1c58bb6616": {
          "model_module": "@jupyter-widgets/base",
          "model_name": "LayoutModel",
          "model_module_version": "1.2.0",
          "state": {
            "_model_module": "@jupyter-widgets/base",
            "_model_module_version": "1.2.0",
            "_model_name": "LayoutModel",
            "_view_count": null,
            "_view_module": "@jupyter-widgets/base",
            "_view_module_version": "1.2.0",
            "_view_name": "LayoutView",
            "align_content": null,
            "align_items": null,
            "align_self": null,
            "border": null,
            "bottom": null,
            "display": null,
            "flex": null,
            "flex_flow": null,
            "grid_area": null,
            "grid_auto_columns": null,
            "grid_auto_flow": null,
            "grid_auto_rows": null,
            "grid_column": null,
            "grid_gap": null,
            "grid_row": null,
            "grid_template_areas": null,
            "grid_template_columns": null,
            "grid_template_rows": null,
            "height": null,
            "justify_content": null,
            "justify_items": null,
            "left": null,
            "margin": null,
            "max_height": null,
            "max_width": null,
            "min_height": null,
            "min_width": null,
            "object_fit": null,
            "object_position": null,
            "order": null,
            "overflow": null,
            "overflow_x": null,
            "overflow_y": null,
            "padding": null,
            "right": null,
            "top": null,
            "visibility": null,
            "width": null
          }
        },
        "68aafa7645f7442898118d6fb38f63e0": {
          "model_module": "@jupyter-widgets/base",
          "model_name": "LayoutModel",
          "model_module_version": "1.2.0",
          "state": {
            "_model_module": "@jupyter-widgets/base",
            "_model_module_version": "1.2.0",
            "_model_name": "LayoutModel",
            "_view_count": null,
            "_view_module": "@jupyter-widgets/base",
            "_view_module_version": "1.2.0",
            "_view_name": "LayoutView",
            "align_content": null,
            "align_items": null,
            "align_self": null,
            "border": null,
            "bottom": null,
            "display": null,
            "flex": null,
            "flex_flow": null,
            "grid_area": null,
            "grid_auto_columns": null,
            "grid_auto_flow": null,
            "grid_auto_rows": null,
            "grid_column": null,
            "grid_gap": null,
            "grid_row": null,
            "grid_template_areas": null,
            "grid_template_columns": null,
            "grid_template_rows": null,
            "height": null,
            "justify_content": null,
            "justify_items": null,
            "left": null,
            "margin": null,
            "max_height": null,
            "max_width": null,
            "min_height": null,
            "min_width": null,
            "object_fit": null,
            "object_position": null,
            "order": null,
            "overflow": null,
            "overflow_x": null,
            "overflow_y": null,
            "padding": null,
            "right": null,
            "top": null,
            "visibility": null,
            "width": null
          }
        },
        "d020249fac6641bfb23128fb78f6d8eb": {
          "model_module": "@jupyter-widgets/controls",
          "model_name": "DescriptionStyleModel",
          "model_module_version": "1.5.0",
          "state": {
            "_model_module": "@jupyter-widgets/controls",
            "_model_module_version": "1.5.0",
            "_model_name": "DescriptionStyleModel",
            "_view_count": null,
            "_view_module": "@jupyter-widgets/base",
            "_view_module_version": "1.2.0",
            "_view_name": "StyleView",
            "description_width": ""
          }
        },
        "9ab91346e8e6419284ccdf36e379d41f": {
          "model_module": "@jupyter-widgets/base",
          "model_name": "LayoutModel",
          "model_module_version": "1.2.0",
          "state": {
            "_model_module": "@jupyter-widgets/base",
            "_model_module_version": "1.2.0",
            "_model_name": "LayoutModel",
            "_view_count": null,
            "_view_module": "@jupyter-widgets/base",
            "_view_module_version": "1.2.0",
            "_view_name": "LayoutView",
            "align_content": null,
            "align_items": null,
            "align_self": null,
            "border": null,
            "bottom": null,
            "display": null,
            "flex": null,
            "flex_flow": null,
            "grid_area": null,
            "grid_auto_columns": null,
            "grid_auto_flow": null,
            "grid_auto_rows": null,
            "grid_column": null,
            "grid_gap": null,
            "grid_row": null,
            "grid_template_areas": null,
            "grid_template_columns": null,
            "grid_template_rows": null,
            "height": null,
            "justify_content": null,
            "justify_items": null,
            "left": null,
            "margin": null,
            "max_height": null,
            "max_width": null,
            "min_height": null,
            "min_width": null,
            "object_fit": null,
            "object_position": null,
            "order": null,
            "overflow": null,
            "overflow_x": null,
            "overflow_y": null,
            "padding": null,
            "right": null,
            "top": null,
            "visibility": null,
            "width": null
          }
        },
        "12a6f1af3b4b4ee8bb95bdeea3f02a1c": {
          "model_module": "@jupyter-widgets/controls",
          "model_name": "ProgressStyleModel",
          "model_module_version": "1.5.0",
          "state": {
            "_model_module": "@jupyter-widgets/controls",
            "_model_module_version": "1.5.0",
            "_model_name": "ProgressStyleModel",
            "_view_count": null,
            "_view_module": "@jupyter-widgets/base",
            "_view_module_version": "1.2.0",
            "_view_name": "StyleView",
            "bar_color": null,
            "description_width": ""
          }
        },
        "4b11833076aa471ead293fff9c23f7e7": {
          "model_module": "@jupyter-widgets/base",
          "model_name": "LayoutModel",
          "model_module_version": "1.2.0",
          "state": {
            "_model_module": "@jupyter-widgets/base",
            "_model_module_version": "1.2.0",
            "_model_name": "LayoutModel",
            "_view_count": null,
            "_view_module": "@jupyter-widgets/base",
            "_view_module_version": "1.2.0",
            "_view_name": "LayoutView",
            "align_content": null,
            "align_items": null,
            "align_self": null,
            "border": null,
            "bottom": null,
            "display": null,
            "flex": null,
            "flex_flow": null,
            "grid_area": null,
            "grid_auto_columns": null,
            "grid_auto_flow": null,
            "grid_auto_rows": null,
            "grid_column": null,
            "grid_gap": null,
            "grid_row": null,
            "grid_template_areas": null,
            "grid_template_columns": null,
            "grid_template_rows": null,
            "height": null,
            "justify_content": null,
            "justify_items": null,
            "left": null,
            "margin": null,
            "max_height": null,
            "max_width": null,
            "min_height": null,
            "min_width": null,
            "object_fit": null,
            "object_position": null,
            "order": null,
            "overflow": null,
            "overflow_x": null,
            "overflow_y": null,
            "padding": null,
            "right": null,
            "top": null,
            "visibility": null,
            "width": null
          }
        },
        "3b38c3526ea64df2a6672a1736e6a20b": {
          "model_module": "@jupyter-widgets/controls",
          "model_name": "DescriptionStyleModel",
          "model_module_version": "1.5.0",
          "state": {
            "_model_module": "@jupyter-widgets/controls",
            "_model_module_version": "1.5.0",
            "_model_name": "DescriptionStyleModel",
            "_view_count": null,
            "_view_module": "@jupyter-widgets/base",
            "_view_module_version": "1.2.0",
            "_view_name": "StyleView",
            "description_width": ""
          }
        }
      }
    }
  },
  "nbformat": 4,
  "nbformat_minor": 0
}
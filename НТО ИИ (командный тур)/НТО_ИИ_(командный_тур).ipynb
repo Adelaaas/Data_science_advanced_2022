{
  "nbformat": 4,
  "nbformat_minor": 0,
  "metadata": {
    "colab": {
      "provenance": []
    },
    "kernelspec": {
      "name": "python3",
      "display_name": "Python 3"
    },
    "language_info": {
      "name": "python"
    },
    "accelerator": "GPU",
    "gpuClass": "standard"
  },
  "cells": [
    {
      "cell_type": "markdown",
      "source": [
        "# Описание задачи"
      ],
      "metadata": {
        "id": "fGx8HSWLieKw"
      }
    },
    {
      "cell_type": "markdown",
      "source": [
        "В этом сезоне профиля «Искусственный интеллект» НТО вам предстоит поработать с новым форматом данных – видео. В рамках задачи 2 этапа вам нужно разработать алгоритм, который распределит короткие видео (<1 минуты) на 9 заданных классов: \n",
        "\n",
        "- animal – в видео присутствует одно или несколько животных;\n",
        "- car – в видео присутствуют автомобили;\n",
        "- cloud – в видео показано небо в облаках (тучах);\n",
        "- dance – в видео есть танцующий человек (люди);\n",
        "- fire – в видео присутствует пламя (огонь, пламя свечи и т.д.);\n",
        "- flower – в видео присутствуют цветы;\n",
        "- food – в видео готовят еду, либо просто присутствует еда;\n",
        "- sunset – в видео показан закат или рассвет;\n",
        "- water – в видео показана поверхность воды."
      ],
      "metadata": {
        "id": "pD4f1scSibxv"
      }
    },
    {
      "cell_type": "markdown",
      "source": [
        "Задачи классификации, к которым относится и эта, являются важнейшим классом задач обучения с учителем (supervised learning). При этом стандартные подходы к классификации изображений могут быть расширены и на видео, которые, по сути, представляют из себя последовательность изображений, распределённых во времени. Задача классификации коротких видеофрагментов имеет широкое практическое применение, а успешные модели могут быть использованы, например, для фильтрации видео-контента или тематической классификации видео, а также в задаче поиска (information retrieval)."
      ],
      "metadata": {
        "id": "wo6KlMwpiq73"
      }
    },
    {
      "cell_type": "markdown",
      "source": [
        "**Формат решений**\n",
        "\n",
        "В проверяющую систему необходимо отправить код алгоритма, запакованный в ZIP-архив. Решения запускаются в изолированном окружении при помощи Docker. Время и ресурсы во время тестирования ограничены: \n",
        "\n",
        "- 5Gb на архив с решением\n",
        "- 25 минут на работу решения\n",
        "\n",
        "Так как решение не имеет доступ к интернету, все дополнительные данные, например, веса обученной модели, должны быть подгружены в контейнер. В качестве примеры организаторы предоставляют контейнер для запуска бейзлайн-решения.\n",
        "\n",
        "**Доступные ресурсы:**\n",
        "- 8 ядер CPU\n",
        "- 48Gb RAM\n",
        "- Видеокарта NVidia Tesla V100"
      ],
      "metadata": {
        "id": "WFZ0-7hmiuvz"
      }
    },
    {
      "cell_type": "markdown",
      "source": [
        "**Метрика**\n",
        "\n",
        "Для оценки решений участников будет использована метрика accuracy, которая показывает долю верно классифицированных объектов выборки.\n",
        "\n",
        "Метрика accuracy является стандартной метрикой для задач классификации. Она характеризует долю точных совпадений среди пар предсказанных и истинных ответов, то есть отражает отношение числа совпавших ответов (когда модель участника предсказала такой же ответ, как истинный) к общему числу ответов (независимо от того, в определении какого именно класса модель допустила ошибку). Эта метрика изменяется от 0 до 1, где 0 – наихудшее значение, 1 – наилучшее."
      ],
      "metadata": {
        "id": "ia9z-87li-fG"
      }
    },
    {
      "cell_type": "markdown",
      "source": [
        "**Baseline**\n",
        "\n",
        "Вам доступно базовое решение от разработчиков задачи с использованием фреймворка PyTorch. \n",
        "\n",
        "Предполагаемый пайплайн работы модели включает в себя следующие этапы:\n",
        "1. вычисление для input видео соответствующих им векторных представлений (эмбеддинги);\n",
        "2. предсказание для каждого из получившихся эмбеддингов метки (лэйбла) одного из классов."
      ],
      "metadata": {
        "id": "gGF9b0FJjCDW"
      }
    },
    {
      "cell_type": "markdown",
      "source": [
        "https://ods.ai/competitions/nto22-23/data"
      ],
      "metadata": {
        "id": "1QvSJt6mj_9G"
      }
    },
    {
      "cell_type": "code",
      "source": [
        "!pip install einops"
      ],
      "metadata": {
        "colab": {
          "base_uri": "https://localhost:8080/"
        },
        "id": "NeUimT8skem5",
        "outputId": "ea6a22b5-8d9f-4132-b75c-5add7c92c66e"
      },
      "execution_count": null,
      "outputs": [
        {
          "output_type": "stream",
          "name": "stdout",
          "text": [
            "Looking in indexes: https://pypi.org/simple, https://us-python.pkg.dev/colab-wheels/public/simple/\n",
            "Collecting einops\n",
            "  Downloading einops-0.6.0-py3-none-any.whl (41 kB)\n",
            "\u001b[K     |████████████████████████████████| 41 kB 472 kB/s \n",
            "\u001b[?25hInstalling collected packages: einops\n",
            "Successfully installed einops-0.6.0\n"
          ]
        }
      ]
    },
    {
      "cell_type": "code",
      "source": [
        "!pip install timm"
      ],
      "metadata": {
        "colab": {
          "base_uri": "https://localhost:8080/"
        },
        "id": "7D7xgKtyktrN",
        "outputId": "429818a0-b36c-45a4-84ec-cda16679d8ef"
      },
      "execution_count": null,
      "outputs": [
        {
          "output_type": "stream",
          "name": "stdout",
          "text": [
            "Looking in indexes: https://pypi.org/simple, https://us-python.pkg.dev/colab-wheels/public/simple/\n",
            "Collecting timm\n",
            "  Downloading timm-0.6.12-py3-none-any.whl (549 kB)\n",
            "\u001b[K     |████████████████████████████████| 549 kB 33.4 MB/s \n",
            "\u001b[?25hRequirement already satisfied: torch>=1.7 in /usr/local/lib/python3.7/dist-packages (from timm) (1.12.1+cu113)\n",
            "Requirement already satisfied: pyyaml in /usr/local/lib/python3.7/dist-packages (from timm) (6.0)\n",
            "Requirement already satisfied: torchvision in /usr/local/lib/python3.7/dist-packages (from timm) (0.13.1+cu113)\n",
            "Collecting huggingface-hub\n",
            "  Downloading huggingface_hub-0.11.0-py3-none-any.whl (182 kB)\n",
            "\u001b[K     |████████████████████████████████| 182 kB 67.3 MB/s \n",
            "\u001b[?25hRequirement already satisfied: typing-extensions in /usr/local/lib/python3.7/dist-packages (from torch>=1.7->timm) (4.1.1)\n",
            "Requirement already satisfied: filelock in /usr/local/lib/python3.7/dist-packages (from huggingface-hub->timm) (3.8.0)\n",
            "Requirement already satisfied: importlib-metadata in /usr/local/lib/python3.7/dist-packages (from huggingface-hub->timm) (4.13.0)\n",
            "Requirement already satisfied: packaging>=20.9 in /usr/local/lib/python3.7/dist-packages (from huggingface-hub->timm) (21.3)\n",
            "Requirement already satisfied: requests in /usr/local/lib/python3.7/dist-packages (from huggingface-hub->timm) (2.23.0)\n",
            "Requirement already satisfied: tqdm in /usr/local/lib/python3.7/dist-packages (from huggingface-hub->timm) (4.64.1)\n",
            "Requirement already satisfied: pyparsing!=3.0.5,>=2.0.2 in /usr/local/lib/python3.7/dist-packages (from packaging>=20.9->huggingface-hub->timm) (3.0.9)\n",
            "Requirement already satisfied: zipp>=0.5 in /usr/local/lib/python3.7/dist-packages (from importlib-metadata->huggingface-hub->timm) (3.10.0)\n",
            "Requirement already satisfied: certifi>=2017.4.17 in /usr/local/lib/python3.7/dist-packages (from requests->huggingface-hub->timm) (2022.9.24)\n",
            "Requirement already satisfied: idna<3,>=2.5 in /usr/local/lib/python3.7/dist-packages (from requests->huggingface-hub->timm) (2.10)\n",
            "Requirement already satisfied: urllib3!=1.25.0,!=1.25.1,<1.26,>=1.21.1 in /usr/local/lib/python3.7/dist-packages (from requests->huggingface-hub->timm) (1.24.3)\n",
            "Requirement already satisfied: chardet<4,>=3.0.2 in /usr/local/lib/python3.7/dist-packages (from requests->huggingface-hub->timm) (3.0.4)\n",
            "Requirement already satisfied: pillow!=8.3.*,>=5.3.0 in /usr/local/lib/python3.7/dist-packages (from torchvision->timm) (7.1.2)\n",
            "Requirement already satisfied: numpy in /usr/local/lib/python3.7/dist-packages (from torchvision->timm) (1.21.6)\n",
            "Installing collected packages: huggingface-hub, timm\n",
            "Successfully installed huggingface-hub-0.11.0 timm-0.6.12\n"
          ]
        }
      ]
    },
    {
      "cell_type": "code",
      "source": [
        "import os\n",
        "import sys\n",
        "import re\n",
        "import gc\n",
        "import platform\n",
        "import random\n",
        "import argparse\n",
        "\n",
        "import numpy as np\n",
        "import pandas as pd\n",
        "\n",
        "import torch\n",
        "import torch.nn as nn\n",
        "import torch.nn.functional as F\n",
        "from torch.utils.data import DataLoader, Dataset\n",
        "\n",
        "import einops\n",
        "\n",
        "import albumentations as A\n",
        "from albumentations.pytorch import ToTensorV2\n",
        "\n",
        "import timm\n",
        "import glob\n",
        "import cv2\n",
        "\n",
        "from numpy import array\n",
        "from numpy import argmax\n",
        "\n",
        "from tqdm import tqdm\n",
        "\n",
        "import warnings\n",
        "\n",
        "warnings.simplefilter('ignore')"
      ],
      "metadata": {
        "id": "D7JDlfU7jiPc"
      },
      "execution_count": null,
      "outputs": []
    },
    {
      "cell_type": "code",
      "source": [
        "# Монтирует google disk в colab\n",
        "from google.colab import drive\n",
        "drive.mount('/content/gdrive')"
      ],
      "metadata": {
        "colab": {
          "base_uri": "https://localhost:8080/"
        },
        "id": "n3RW6soRmz0U",
        "outputId": "2bf62716-1244-4cdc-914d-ae2f631e1e30"
      },
      "execution_count": null,
      "outputs": [
        {
          "output_type": "stream",
          "name": "stdout",
          "text": [
            "Mounted at /content/gdrive\n"
          ]
        }
      ]
    },
    {
      "cell_type": "code",
      "source": [
        "url = os.chdir(r\"/content/gdrive/MyDrive/Я-профи подготовка по машинному обучению/нто БД/БД второй тур (командный)\")\n",
        "os.getcwd()"
      ],
      "metadata": {
        "colab": {
          "base_uri": "https://localhost:8080/",
          "height": 35
        },
        "id": "7pn9pcipnCfU",
        "outputId": "ba56573e-cbb1-4233-c6d4-608b39c6e7ed"
      },
      "execution_count": null,
      "outputs": [
        {
          "output_type": "execute_result",
          "data": {
            "text/plain": [
              "'/content/gdrive/MyDrive/Я-профи подготовка по машинному обучению/нто БД/БД второй тур (командный)'"
            ],
            "application/vnd.google.colaboratory.intrinsic+json": {
              "type": "string"
            }
          },
          "metadata": {},
          "execution_count": 6
        }
      ]
    },
    {
      "cell_type": "code",
      "source": [
        "os.listdir('train_video/')"
      ],
      "metadata": {
        "id": "-WHDNfilnxhJ"
      },
      "execution_count": null,
      "outputs": []
    },
    {
      "cell_type": "code",
      "source": [
        "def read_video(path, img_size, transform=None, frames_num=6):\n",
        "    frames = []\n",
        "    cap = cv2.VideoCapture(path)\n",
        "\n",
        "    fps = int(cap.get(cv2.CAP_PROP_FPS)) # число кадров в секунду\n",
        "    print(fps)\n",
        "\n",
        "    length = int(cap.get(cv2.CAP_PROP_FRAME_COUNT)) # количество кадров\n",
        "    print(length)\n",
        "\n",
        "    N = length // (frames_num)\n",
        "\n",
        "    current_frame = 1\n",
        "\n",
        "    for i in range(length):\n",
        "        ret, frame = cap.read(current_frame)\n",
        "\n",
        "        if ret and i == current_frame and len(frames) < frames_num:\n",
        "            frame = cv2.cvtColor(frame, cv2.COLOR_BGR2RGB) # все кадры в BGR (поэтому перводим в RGB)\n",
        "            frame = cv2.resize(frame, img_size)\n",
        "\n",
        "            frames.append(frame)\n",
        "            current_frame += N\n",
        "\n",
        "    cap.release()\n",
        "    # print(frames)\n",
        "    return frames\n",
        "\n",
        "video1 = read_video('train_video/Sydney_storm_preview.mp4', (224, 224))"
      ],
      "metadata": {
        "colab": {
          "base_uri": "https://localhost:8080/"
        },
        "id": "msxVFb3wkOZG",
        "outputId": "ddda0eb8-37a6-4f35-91c8-5e302c962143"
      },
      "execution_count": null,
      "outputs": [
        {
          "output_type": "stream",
          "name": "stdout",
          "text": [
            "50\n",
            "783\n"
          ]
        }
      ]
    },
    {
      "cell_type": "code",
      "source": [
        "video1[0].shape"
      ],
      "metadata": {
        "colab": {
          "base_uri": "https://localhost:8080/"
        },
        "id": "za1HQ0tZpmfm",
        "outputId": "cde7f13c-9fb3-4604-810a-329f70ec61a3"
      },
      "execution_count": null,
      "outputs": [
        {
          "output_type": "execute_result",
          "data": {
            "text/plain": [
              "(224, 224, 3)"
            ]
          },
          "metadata": {},
          "execution_count": 17
        }
      ]
    },
    {
      "cell_type": "code",
      "source": [
        "from google.colab.patches import cv2_imshow"
      ],
      "metadata": {
        "id": "TtvCQnd5q08S"
      },
      "execution_count": null,
      "outputs": []
    },
    {
      "cell_type": "code",
      "source": [
        "cv2_imshow(video1[0])"
      ],
      "metadata": {
        "colab": {
          "base_uri": "https://localhost:8080/",
          "height": 241
        },
        "id": "VvZl32P6qhok",
        "outputId": "69cfb7d3-6853-4de3-ecb6-f51fa59a2e7a"
      },
      "execution_count": null,
      "outputs": [
        {
          "output_type": "display_data",
          "data": {
            "text/plain": [
              "<PIL.Image.Image image mode=RGB size=224x224 at 0x7F93C9EDC090>"
            ],
            "image/png": "[encoded data removed]"
          },
          "metadata": {}
        }
      ]
    },
    {
      "cell_type": "code",
      "source": [
        "cls = {'water': 0, 'car': 1, 'cloud': 2, 'food': 3, 'flower': 4, 'dance': 5, 'animal': 6, 'sunset': 7,\n",
        "       'fire': 8, 'cloud, sunset': 2, 'water, flower': 0, 'cloud, water': 2}"
      ],
      "metadata": {
        "id": "LfmcapCaspOy"
      },
      "execution_count": null,
      "outputs": []
    },
    {
      "cell_type": "markdown",
      "source": [
        "**Про класс DataSet:**\n",
        "\n",
        "https://habr.com/ru/company/piter/blog/354912/"
      ],
      "metadata": {
        "id": "1V9CVAJXvQZe"
      }
    },
    {
      "cell_type": "code",
      "source": [
        "class RSNADataset(Dataset):\n",
        "    def __init__(self, df, conf, is_test=False):\n",
        "        self.conf = conf\n",
        "        self.df = df\n",
        "        # последовательность действий по трансформации картинок\n",
        "        # p - задает вероятность действий\n",
        "        self.transform = A.Compose([\n",
        "            ToTensorV2(p=1.0),\n",
        "        ], p=1.)\n",
        "\n",
        "        self.is_test = is_test\n",
        "        self.samples = []\n",
        "        self.cls = {'water': 0, 'car': 1, 'cloud': 2, 'food': 3, 'flower': 4, 'dance': 5, 'animal': 6, 'sunset': 7,\n",
        "                    'fire': 8, 'cloud, sunset': 2, 'water, flower': 0, 'cloud, water': 2}\n",
        "        paths = []\n",
        "        for path in df.path:\n",
        "            \n",
        "            frames = read_video(self.conf['video_path'] + f'/{path}', self.conf['IMG_SIZE'], self.conf['MAX_FRAMES'])\n",
        "            self.samples += [{'frames': frames}]\n",
        "            paths.append((path, len(frames),))\n",
        "        print(f'paths: {paths}')\n",
        "\n",
        "    def __len__(self):\n",
        "        return len(self.df)\n",
        "\n",
        "    def __getitem__(self, idx):\n",
        "        print(f'processing item {idx}')\n",
        "        sample = self.samples[idx]\n",
        "\n",
        "        frames = sample['frames']\n",
        "\n",
        "        frames_tr = torch.from_numpy(np.stack(frames, axis=2)).permute(2, 3, 0, 1)\n",
        "\n",
        "        return frames_tr"
      ],
      "metadata": {
        "id": "WMQTku1jlCeE"
      },
      "execution_count": null,
      "outputs": []
    },
    {
      "cell_type": "code",
      "source": [
        "df_train = pd.read_csv('/content/gdrive/MyDrive/Я-профи подготовка по машинному обучению/нто БД/БД второй тур (командный)/train.csv', index_col=0)\n",
        "\n",
        "df_train.head()"
      ],
      "metadata": {
        "colab": {
          "base_uri": "https://localhost:8080/",
          "height": 206
        },
        "id": "_KqHAr3Gvmsl",
        "outputId": "8eabaf7d-cbe3-4219-ad80-5cc9008781fa"
      },
      "execution_count": null,
      "outputs": [
        {
          "output_type": "execute_result",
          "data": {
            "text/plain": [
              "                                                  path  labels\n",
              "578  France Argentiere church and cross with Alps_p...   cloud\n",
              "229  Georgia Okefenokee reflections in scummy water...   water\n",
              "544                    170728_Berlin_A_012_preview.mp4  sunset\n",
              "369               170209D_039_Diving_1080p_preview.mp4   water\n",
              "442            motionplaces flower-Oct2018_preview.mp4  flower"
            ],
            "text/html": [
              "\n",
              "  <div id=\"df-a9475e8a-f6a8-4129-a34f-c4d00b4f1fb3\">\n",
              "    <div class=\"colab-df-container\">\n",
              "      <div>\n",
              "<style scoped>\n",
              "    .dataframe tbody tr th:only-of-type {\n",
              "        vertical-align: middle;\n",
              "    }\n",
              "\n",
              "    .dataframe tbody tr th {\n",
              "        vertical-align: top;\n",
              "    }\n",
              "\n",
              "    .dataframe thead th {\n",
              "        text-align: right;\n",
              "    }\n",
              "</style>\n",
              "<table border=\"1\" class=\"dataframe\">\n",
              "  <thead>\n",
              "    <tr style=\"text-align: right;\">\n",
              "      <th></th>\n",
              "      <th>path</th>\n",
              "      <th>labels</th>\n",
              "    </tr>\n",
              "  </thead>\n",
              "  <tbody>\n",
              "    <tr>\n",
              "      <th>578</th>\n",
              "      <td>France Argentiere church and cross with Alps_p...</td>\n",
              "      <td>cloud</td>\n",
              "    </tr>\n",
              "    <tr>\n",
              "      <th>229</th>\n",
              "      <td>Georgia Okefenokee reflections in scummy water...</td>\n",
              "      <td>water</td>\n",
              "    </tr>\n",
              "    <tr>\n",
              "      <th>544</th>\n",
              "      <td>170728_Berlin_A_012_preview.mp4</td>\n",
              "      <td>sunset</td>\n",
              "    </tr>\n",
              "    <tr>\n",
              "      <th>369</th>\n",
              "      <td>170209D_039_Diving_1080p_preview.mp4</td>\n",
              "      <td>water</td>\n",
              "    </tr>\n",
              "    <tr>\n",
              "      <th>442</th>\n",
              "      <td>motionplaces flower-Oct2018_preview.mp4</td>\n",
              "      <td>flower</td>\n",
              "    </tr>\n",
              "  </tbody>\n",
              "</table>\n",
              "</div>\n",
              "      <button class=\"colab-df-convert\" onclick=\"convertToInteractive('df-a9475e8a-f6a8-4129-a34f-c4d00b4f1fb3')\"\n",
              "              title=\"Convert this dataframe to an interactive table.\"\n",
              "              style=\"display:none;\">\n",
              "        \n",
              "  <svg xmlns=\"http://www.w3.org/2000/svg\" height=\"24px\"viewBox=\"0 0 24 24\"\n",
              "       width=\"24px\">\n",
              "    <path d=\"M0 0h24v24H0V0z\" fill=\"none\"/>\n",
              "    <path d=\"M18.56 5.44l.94 2.06.94-2.06 2.06-.94-2.06-.94-.94-2.06-.94 2.06-2.06.94zm-11 1L8.5 8.5l.94-2.06 2.06-.94-2.06-.94L8.5 2.5l-.94 2.06-2.06.94zm10 10l.94 2.06.94-2.06 2.06-.94-2.06-.94-.94-2.06-.94 2.06-2.06.94z\"/><path d=\"M17.41 7.96l-1.37-1.37c-.4-.4-.92-.59-1.43-.59-.52 0-1.04.2-1.43.59L10.3 9.45l-7.72 7.72c-.78.78-.78 2.05 0 2.83L4 21.41c.39.39.9.59 1.41.59.51 0 1.02-.2 1.41-.59l7.78-7.78 2.81-2.81c.8-.78.8-2.07 0-2.86zM5.41 20L4 18.59l7.72-7.72 1.47 1.35L5.41 20z\"/>\n",
              "  </svg>\n",
              "      </button>\n",
              "      \n",
              "  <style>\n",
              "    .colab-df-container {\n",
              "      display:flex;\n",
              "      flex-wrap:wrap;\n",
              "      gap: 12px;\n",
              "    }\n",
              "\n",
              "    .colab-df-convert {\n",
              "      background-color: #E8F0FE;\n",
              "      border: none;\n",
              "      border-radius: 50%;\n",
              "      cursor: pointer;\n",
              "      display: none;\n",
              "      fill: #1967D2;\n",
              "      height: 32px;\n",
              "      padding: 0 0 0 0;\n",
              "      width: 32px;\n",
              "    }\n",
              "\n",
              "    .colab-df-convert:hover {\n",
              "      background-color: #E2EBFA;\n",
              "      box-shadow: 0px 1px 2px rgba(60, 64, 67, 0.3), 0px 1px 3px 1px rgba(60, 64, 67, 0.15);\n",
              "      fill: #174EA6;\n",
              "    }\n",
              "\n",
              "    [theme=dark] .colab-df-convert {\n",
              "      background-color: #3B4455;\n",
              "      fill: #D2E3FC;\n",
              "    }\n",
              "\n",
              "    [theme=dark] .colab-df-convert:hover {\n",
              "      background-color: #434B5C;\n",
              "      box-shadow: 0px 1px 3px 1px rgba(0, 0, 0, 0.15);\n",
              "      filter: drop-shadow(0px 1px 2px rgba(0, 0, 0, 0.3));\n",
              "      fill: #FFFFFF;\n",
              "    }\n",
              "  </style>\n",
              "\n",
              "      <script>\n",
              "        const buttonEl =\n",
              "          document.querySelector('#df-a9475e8a-f6a8-4129-a34f-c4d00b4f1fb3 button.colab-df-convert');\n",
              "        buttonEl.style.display =\n",
              "          google.colab.kernel.accessAllowed ? 'block' : 'none';\n",
              "\n",
              "        async function convertToInteractive(key) {\n",
              "          const element = document.querySelector('#df-a9475e8a-f6a8-4129-a34f-c4d00b4f1fb3');\n",
              "          const dataTable =\n",
              "            await google.colab.kernel.invokeFunction('convertToInteractive',\n",
              "                                                     [key], {});\n",
              "          if (!dataTable) return;\n",
              "\n",
              "          const docLinkHtml = 'Like what you see? Visit the ' +\n",
              "            '<a target=\"_blank\" href=https://colab.research.google.com/notebooks/data_table.ipynb>data table notebook</a>'\n",
              "            + ' to learn more about interactive tables.';\n",
              "          element.innerHTML = '';\n",
              "          dataTable['output_type'] = 'display_data';\n",
              "          await google.colab.output.renderOutput(dataTable, element);\n",
              "          const docLink = document.createElement('div');\n",
              "          docLink.innerHTML = docLinkHtml;\n",
              "          element.appendChild(docLink);\n",
              "        }\n",
              "      </script>\n",
              "    </div>\n",
              "  </div>\n",
              "  "
            ]
          },
          "metadata": {},
          "execution_count": 11
        }
      ]
    },
    {
      "cell_type": "code",
      "source": [
        "df_train.shape"
      ],
      "metadata": {
        "id": "rkaLvFUX2sk6",
        "outputId": "1cb0d69d-9668-4d06-c660-f7f980e90795",
        "colab": {
          "base_uri": "https://localhost:8080/"
        }
      },
      "execution_count": null,
      "outputs": [
        {
          "output_type": "execute_result",
          "data": {
            "text/plain": [
              "(522, 2)"
            ]
          },
          "metadata": {},
          "execution_count": 35
        }
      ]
    },
    {
      "cell_type": "code",
      "source": [
        "conf = dict(\n",
        "        MAX_FRAMES=12,\n",
        "        EPOCHS=5,\n",
        "        LR=2e-4,\n",
        "        IMG_SIZE=(224, 224),\n",
        "        FEATURE_EXTRACTOR='resnext50_32x4d',\n",
        "        DR_RATE=0.35,\n",
        "        NUM_CLASSES=12,\n",
        "        RNN_HIDDEN_SIZE=256,\n",
        "        RNN_LAYERS=1,\n",
        "        TEST_BS=4,\n",
        "        NUM_WORKERS=4,\n",
        "        # MODEL_PATH=args.weight_path,\n",
        "        video_path='train_video/'\n",
        "    )\n"
      ],
      "metadata": {
        "id": "1JtEvfd2xNII"
      },
      "execution_count": null,
      "outputs": []
    },
    {
      "cell_type": "code",
      "source": [
        "%%time\n",
        "train_data = RSNADataset(df_train, conf)\n",
        "\n",
        "train_loader = DataLoader(\n",
        "        train_data,\n",
        "        batch_size=4,\n",
        "        shuffle=False,\n",
        "        num_workers=4\n",
        "    )\n",
        "\n",
        "train_loader"
      ],
      "metadata": {
        "id": "oc-GORdJxhIS"
      },
      "execution_count": null,
      "outputs": []
    },
    {
      "cell_type": "code",
      "source": [
        "len(train_data.samples[6]['frames'])"
      ],
      "metadata": {
        "colab": {
          "base_uri": "https://localhost:8080/"
        },
        "id": "5yNw1Aoq15LM",
        "outputId": "6e566a21-5a63-4cfd-be71-f06c23e0c12f"
      },
      "execution_count": null,
      "outputs": [
        {
          "output_type": "execute_result",
          "data": {
            "text/plain": [
              "6"
            ]
          },
          "metadata": {},
          "execution_count": 30
        }
      ]
    },
    {
      "cell_type": "code",
      "source": [
        "train_data.samples[7].keys()"
      ],
      "metadata": {
        "colab": {
          "base_uri": "https://localhost:8080/"
        },
        "id": "2AgdLcD62ivQ",
        "outputId": "4d09bf04-34d7-4d1e-9358-bff281191341"
      },
      "execution_count": null,
      "outputs": [
        {
          "output_type": "execute_result",
          "data": {
            "text/plain": [
              "dict_keys(['frames'])"
            ]
          },
          "metadata": {},
          "execution_count": 34
        }
      ]
    },
    {
      "cell_type": "code",
      "source": [
        "## Model Class\n",
        "\n",
        "class ResNextModel(nn.Module):\n",
        "    def __init__(self, conf):\n",
        "        super(ResNextModel, self).__init__()\n",
        "        self.conf = conf\n",
        "        self.backbone = timm.create_model(self.conf['FEATURE_EXTRACTOR'])\n",
        "\n",
        "    def forward(self, x):\n",
        "        return self.backbone(x)\n",
        "\n",
        "\n",
        "class Identity(nn.Module):\n",
        "    def __init__(self):\n",
        "        super(Identity, self).__init__()\n",
        "\n",
        "    def forward(self, x):\n",
        "        return x\n",
        "\n",
        "\n",
        "class RSNAModel(nn.Module):\n",
        "    def __init__(self, conf, pretrained=True):\n",
        "        super(RSNAModel, self).__init__()\n",
        "        self.conf = conf\n",
        "        self.backbone = ResNextModel(self.conf)\n",
        "        for param in self.backbone.parameters():\n",
        "            param.requires_grad = False\n",
        "        self.num_features = self.backbone.backbone.fc.in_features\n",
        "\n",
        "        self.backbone.backbone.fc = Identity()\n",
        "        self.dropout = nn.Dropout(self.conf['DR_RATE'])\n",
        "        self.rnn = nn.LSTM(self.num_features, self.conf['RNN_HIDDEN_SIZE'], self.conf['RNN_LAYERS'], dropout=0.1,\n",
        "                           batch_first=True, bidirectional=True)  # bidirectional=True\n",
        "        self.fc1 = nn.Linear(self.conf['RNN_HIDDEN_SIZE'] * 2, self.conf['NUM_CLASSES'])\n",
        "\n",
        "    def forward(self, x):\n",
        "        b, f, c, h, w = x.shape\n",
        "        # print(x.reshape(b * f, c, h, w).shape)\n",
        "        x = self.backbone(x.reshape(b * f, c, h, w))\n",
        "        # print(x.shape)\n",
        "        x = x.reshape(b, f, self.num_features)\n",
        "        # print(x.shape)\n",
        "        x, _ = self.rnn(x)\n",
        "        # print(x.shape)\n",
        "        x = self.dropout(x[:, -1])  #\n",
        "        # print(x.shape, self.num_features)\n",
        "        x = self.fc1(x)\n",
        "        return x\n",
        "\n",
        "\n",
        "def main(conf, args, device):\n",
        "    df_test = pd.read_csv(args.test_path, index_col=0)\n",
        "\n",
        "    test_data = RSNADataset(df_test, conf)\n",
        "\n",
        "    test_loader = DataLoader(\n",
        "        test_data,\n",
        "        batch_size=conf['TEST_BS'],\n",
        "        shuffle=False,\n",
        "        num_workers=conf['NUM_WORKERS']\n",
        "    )\n",
        "\n",
        "    model = RSNAModel(conf)\n",
        "    model.load_state_dict(torch.load(conf['MODEL_PATH']))\n",
        "    model = model.to(device)\n",
        "\n",
        "    pred = []\n",
        "    model.eval()\n",
        "    prog_bar = tqdm(enumerate(test_loader), total=len(test_loader))\n",
        "    for batch, frames in prog_bar:\n",
        "        frames = frames.to('cuda').float()\n",
        "        with torch.no_grad():\n",
        "            pred += list(model(frames).argmax(dim=-1).to('cpu').flatten().numpy())\n",
        "\n",
        "    df_test['labels'] = pred\n",
        "\n",
        "    os.makedirs(args.output_path, exist_ok=True)\n",
        "    df_test['labels'].to_csv(args.output_path + 'predictions.csv')\n",
        "\n",
        "\n",
        "if __name__ == \"__main__\":\n",
        "    parser = argparse.ArgumentParser()\n",
        "    parser.add_argument('--test_path', default='./input/test.csv', type=str, help='config path')\n",
        "    parser.add_argument('--weight_path', default='./weights/model_resnext50_32x4d.pt', type=str, help='config path')\n",
        "    parser.add_argument('--output_path', default='./output/', type=str, help='config path')\n",
        "    parser.add_argument('--video_path', default='./video', type=str, help='config path')\n",
        "    args = parser.parse_args()\n",
        "\n",
        "    conf = dict(\n",
        "        MAX_FRAMES=12,\n",
        "        EPOCHS=5,\n",
        "        LR=2e-4,\n",
        "        IMG_SIZE=(224, 224),\n",
        "        FEATURE_EXTRACTOR='resnext50_32x4d',\n",
        "        DR_RATE=0.35,\n",
        "        NUM_CLASSES=12,\n",
        "        RNN_HIDDEN_SIZE=256,\n",
        "        RNN_LAYERS=1,\n",
        "        TEST_BS=4,\n",
        "        NUM_WORKERS=4,\n",
        "        MODEL_PATH=args.weight_path,\n",
        "        video_path=args.video_path\n",
        "    )\n",
        "\n",
        "    if torch.cuda.is_available():\n",
        "        print(\"Using GPU: {}\\n\".format(torch.cuda.get_device_name()))\n",
        "        device = torch.device('cuda')\n",
        "    else:\n",
        "        print(\"\\nGPU not found. Using CPU: {}\\n\".format(platform.processor()))\n",
        "        device = torch.device('cpu')\n",
        "\n",
        "    main(conf, args, device)"
      ],
      "metadata": {
        "id": "8dcUcy6VvjJB"
      },
      "execution_count": null,
      "outputs": []
    },
    {
      "cell_type": "markdown",
      "source": [
        "https://learn.microsoft.com/en-us/windows/ai/windows-ml/tutorials/pytorch-train-model"
      ],
      "metadata": {
        "id": "L1FVhyr70RWS"
      }
    }
  ]
}
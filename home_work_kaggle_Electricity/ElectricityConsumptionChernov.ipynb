{
 "cells": [
  {
   "cell_type": "code",
   "execution_count": 1,
   "metadata": {},
   "outputs": [],
   "source": [
    "import numpy as np\n",
    "import pandas as pd\n",
    "from sklearn.linear_model import LinearRegression\n",
    "from sklearn.metrics import mean_squared_error as msa\n",
    "from sklearn.metrics import mean_absolute_error as maa\n",
    "train = pd.read_csv(\"electricity_consumption_train.csv\")"
   ]
  },
  {
   "cell_type": "code",
   "execution_count": 2,
   "metadata": {},
   "outputs": [
    {
     "name": "stdout",
     "output_type": "stream",
     "text": [
      "<bound method NDFrame.head of              total  hours  years  months  days\n",
      "0      190000.0000      0      0       0     0\n",
      "1      154139.8084      1      0       0     0\n",
      "2      157818.3593      2      0       0     0\n",
      "3      149310.6991      3      0       0     0\n",
      "4      138282.0380      4      0       0     0\n",
      "...            ...    ...    ...     ...   ...\n",
      "35059  249376.3608     19      3      11    30\n",
      "35060  246510.5725     20      3      11    30\n",
      "35061  226469.4133     21      3      11    30\n",
      "35062  199907.3942     22      3      11    30\n",
      "35063  151086.2414     23      3      11    30\n",
      "\n",
      "[35064 rows x 5 columns]>\n"
     ]
    }
   ],
   "source": [
    "train[\"hours\"] = 0\n",
    "train[\"years\"] = 0\n",
    "train[\"months\"] = 0\n",
    "train[\"days\"] = 0\n",
    "for i, row in train.iterrows():\n",
    "    s = train.loc[i, \"datetime\"]\n",
    "    timedata = s.split()\n",
    "    train.loc[i, \"hours\"] = int(timedata[1].split(\":\")[0])\n",
    "    train.loc[i, \"years\"] = [\"2005\", \"2006\", \"2007\", \"2008\"].index(timedata[0].split(\".\")[2])\n",
    "    train.loc[i, \"months\"] = (int(timedata[0].split(\".\")[1]) - 1)\n",
    "    train.loc[i, \"days\"] = (int(timedata[0].split(\".\")[0]) - 1)\n",
    "    if pd.isna(train.loc[i, \"total\"]):\n",
    "        train.loc[i, \"total\"] = 190000.0\n",
    "train = train.drop([\"datetime\"], axis=1)\n",
    "print(train.head)"
   ]
  },
  {
   "cell_type": "code",
   "execution_count": 3,
   "metadata": {},
   "outputs": [
    {
     "name": "stdout",
     "output_type": "stream",
     "text": [
      "MSA: 1040807683.7228062\n",
      "MAA: 26509.062008291232\n"
     ]
    }
   ],
   "source": [
    "y = train['total']\n",
    "X = train.drop(columns = ['total'])\n",
    "model = LinearRegression()\n",
    "model.fit(X, y)\n",
    "pred = model.predict(X)\n",
    "print(f\"MSA: {msa(y, pred)}\")\n",
    "print(f\"MAA: {maa(y, pred)}\")"
   ]
  },
  {
   "cell_type": "code",
   "execution_count": 4,
   "metadata": {},
   "outputs": [],
   "source": [
    "test = pd.read_csv(\"electricity_consumption_sample.csv\")\n",
    "result = pd.read_csv(\"electricity_consumption_sample.csv\")\n",
    "test[\"hours\"] = 0\n",
    "test[\"years\"] = 0\n",
    "test[\"months\"] = 0\n",
    "test[\"days\"] = 0\n",
    "for i, row in test.iterrows():\n",
    "    s = test.loc[i, \"datetime\"]\n",
    "    timedata = s.split()\n",
    "    test.loc[i, \"hours\"] = int(timedata[1].split(\":\")[0])\n",
    "    test.loc[i, \"years\"] = 4\n",
    "    test.loc[i, \"months\"] = (int(timedata[0].split(\".\")[1]) - 1)\n",
    "    test.loc[i, \"days\"] = (int(timedata[0].split(\".\")[0]) - 1)\n",
    "test = test.drop([\"datetime\"], axis=1)\n",
    "X_test = test.drop(columns = ['total'])\n",
    "pred_test = model.predict(X_test)\n",
    "for i, row in result.iterrows():\n",
    "    result.loc[i, \"total\"] = pred_test[i]\n",
    "result.to_csv(\"electricity_consumption_result.csv\", index=False)"
   ]
  }
 ],
 "metadata": {
  "kernelspec": {
   "display_name": "Python 3",
   "language": "python",
   "name": "python3"
  },
  "language_info": {
   "codemirror_mode": {
    "name": "ipython",
    "version": 3
   },
   "file_extension": ".py",
   "mimetype": "text/x-python",
   "name": "python",
   "nbconvert_exporter": "python",
   "pygments_lexer": "ipython3",
   "version": "3.10.8"
  },
  "orig_nbformat": 4,
  "vscode": {
   "interpreter": {
    "hash": "e7370f93d1d0cde622a1f8e1c04877d8463912d04d973331ad4851f04de6915a"
   }
  }
 },
 "nbformat": 4,
 "nbformat_minor": 2
}

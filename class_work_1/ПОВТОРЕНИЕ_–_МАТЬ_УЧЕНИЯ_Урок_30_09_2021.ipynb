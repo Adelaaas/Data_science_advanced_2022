{
  "nbformat": 4,
  "nbformat_minor": 0,
  "metadata": {
    "colab": {
      "provenance": []
    },
    "kernelspec": {
      "name": "python3",
      "display_name": "Python 3"
    },
    "language_info": {
      "name": "python"
    }
  },
  "cells": [
    {
      "cell_type": "markdown",
      "metadata": {
        "id": "F7zt390vxS__"
      },
      "source": [
        "# Вводная"
      ]
    },
    {
      "cell_type": "markdown",
      "metadata": {
        "id": "jjLCL0MGOK1a"
      },
      "source": [
        "Что мы уже прошли и что должны знать?\n",
        "\n",
        "- типы данных в Python\n",
        "- функции \n",
        "- что такое машинное обучение?\n",
        "- обучение с учителем (классификация, регрессия)\n",
        "- обучение без учителя (кластеризация)\n",
        "- методы оценки моделей (MSE. R-squered, accuracy, recoll, precision)\n",
        "- что такое нейронные сети и как они устроены\n",
        "\n",
        "Что будем делать в этом году и что узнаем?\n",
        "- решать задачи НТИ по профилям \"Большие данные\" и \"Искусственный интеллект\"\n",
        "- что такое NLP и как с этим жить?\n",
        "- работа с аудио, распознование голоса и прочее\n",
        "- работа с изображениями, распознавание и прочее\n",
        "- реализация своих проектов и много решение разных задач"
      ]
    },
    {
      "cell_type": "code",
      "metadata": {
        "id": "f6Pk5dr8N-Ic"
      },
      "source": [
        "# какие типы данных вы знаете?\n",
        "int\n",
        "bool\n",
        "float\n",
        "string\n",
        "list\n",
        "dict\n",
        "tuple\n",
        "set\n",
        "dataframe\n",
        "series"
      ],
      "execution_count": null,
      "outputs": []
    },
    {
      "cell_type": "code",
      "metadata": {
        "id": "0SWlGqdbxb_E",
        "colab": {
          "base_uri": "https://localhost:8080/"
        },
        "outputId": "e04003b5-53f7-41ef-8c0c-d111c120510a"
      },
      "source": [
        "# создайте функцию сложения трех чисел и вернуть\n",
        "def sum(a,b,c):\n",
        "    return a+b+c\n",
        "\n",
        "sum(1,2,3)"
      ],
      "execution_count": 1,
      "outputs": [
        {
          "output_type": "execute_result",
          "data": {
            "text/plain": [
              "6"
            ]
          },
          "metadata": {},
          "execution_count": 1
        }
      ]
    },
    {
      "cell_type": "code",
      "metadata": {
        "id": "Tdm2FTDqxgV1"
      },
      "source": [
        "# что такое обучение с учителем?\n",
        "логистическая регрессия - классификация\n",
        "линейная регрессия - регрессия\n",
        "# что такое обучение без учителя?\n"
      ],
      "execution_count": null,
      "outputs": []
    },
    {
      "cell_type": "code",
      "metadata": {
        "id": "9zMHoGvqxlxF"
      },
      "source": [
        "# задачи классификации - это?\n",
        "# дискретные\n",
        "# задачи кластеризации - это?\n",
        "# разбивает группы на похожие объекты\n",
        "# kmeans\n",
        "# задачи регресии - это?\n",
        "# непрывные"
      ],
      "execution_count": null,
      "outputs": []
    },
    {
      "cell_type": "code",
      "metadata": {
        "id": "fElcPT7gxt-V"
      },
      "source": [
        "# для какого типа задач используется метрика MSE? - регрессия\n",
        "# для какого типа задач используется метрика recall? - классификация\n",
        "# что такое accuracy? - классификация"
      ],
      "execution_count": null,
      "outputs": []
    },
    {
      "cell_type": "markdown",
      "metadata": {
        "id": "ZXD65wMJyBwP"
      },
      "source": [
        "# Практика"
      ]
    },
    {
      "cell_type": "markdown",
      "metadata": {
        "id": "xoKn4onJyEm2"
      },
      "source": [
        "В этот набор данных включены все виды данных, связанных с астероидом.\n",
        "\n",
        "Базовое определение столбца:\n",
        "- SPK-ID: основной SPK-ID объекта.\n",
        "- Object ID: идентификатор внутренней базы данных объекта.\n",
        "- Object fullname: Полное наименование / обозначение объекта.\n",
        "- pdes: Первичное обозначение объекта\n",
        "- name: имя объекта IAU\n",
        "- NEO: флаг объекта, сближающегося с Землей (NEO)\n",
        "- PHA: флаг потенциально опасного астероида (PHA)\n",
        "- H: параметр абсолютной величины\n",
        "- Diameter: диаметр объекта (от эквивалентной сферы) км.\n",
        "- Albedo: геометрическое альбедо\n",
        "- Diameter_sigma: неопределенность 1 сигма в диаметре объекта км Единица измерения\n",
        "- Orbit_id: ID решения для орбиты\n",
        "- Epoch: Эпоха оскала в модифицированной форме юлианского дня.\n",
        "- Equinox: Равноденствие системы отсчета.\n",
        "- e: эксцентриситет\n",
        "- a: Большая полуось au Unit\n",
        "- q: расстояние перигелия au Единица\n",
        "- i: наклон; угол относительно плоскости эклиптики xy\n",
        "- tp: Время прохождения перигелия TDB Unit\n",
        "- moid_ld: Минимальное расстояние пересечения орбиты Земли au Unit\n",
        "\n",
        "https://www.kaggle.com/sakhawat18/asteroid-dataset"
      ]
    },
    {
      "cell_type": "markdown",
      "metadata": {
        "id": "nFe4VCiA0907"
      },
      "source": [
        "**Problem Definition**\n",
        "\n",
        "How we can use various python based Machine Learning Model to and the given parameters to predict if the Asteroids Protential Hazard or not?"
      ]
    },
    {
      "cell_type": "code",
      "metadata": {
        "id": "NlO132AczPE7"
      },
      "source": [
        "from google.colab import files\n",
        "uploaded = files.upload()"
      ],
      "execution_count": null,
      "outputs": []
    },
    {
      "cell_type": "code",
      "metadata": {
        "colab": {
          "base_uri": "https://localhost:8080/"
        },
        "id": "oMkVJFmu9sf9",
        "outputId": "4708fad3-019a-4745-c492-0c396afeb0fb"
      },
      "source": [
        "from google.colab import drive\n",
        "drive.mount('/content/drive')"
      ],
      "execution_count": 2,
      "outputs": [
        {
          "output_type": "stream",
          "name": "stdout",
          "text": [
            "Mounted at /content/drive\n"
          ]
        }
      ]
    },
    {
      "cell_type": "code",
      "metadata": {
        "colab": {
          "base_uri": "https://localhost:8080/"
        },
        "id": "dCui5izb-sSE",
        "outputId": "dc53ac6e-3cdc-4750-adab-92e128f1651d"
      },
      "source": [
        "import os\n",
        "\n",
        "os.chdir(r\"./drive/MyDrive/Data Science для школьников/Data science 2021 2022 - продвинутый курс\")\n",
        "print(os.getcwd())"
      ],
      "execution_count": 3,
      "outputs": [
        {
          "output_type": "stream",
          "name": "stdout",
          "text": [
            "/content/drive/MyDrive/Data Science для школьников/Data science 2021 2022 - продвинутый курс\n"
          ]
        }
      ]
    },
    {
      "cell_type": "code",
      "metadata": {
        "id": "B5RBt6dM_cDE",
        "colab": {
          "base_uri": "https://localhost:8080/"
        },
        "outputId": "745f0999-7eef-48b8-d450-8719b6e214b0"
      },
      "source": [
        "url = os.getcwd()\n",
        "files = os.listdir(url)\n",
        "files"
      ],
      "execution_count": 4,
      "outputs": [
        {
          "output_type": "execute_result",
          "data": {
            "text/plain": [
              "['ПОВТОРЕНИЕ – МАТЬ УЧЕНИЯ. Урок 30.09.2021.ipynb',\n",
              " 'dataset.csv',\n",
              " 'Новый документ.gdoc',\n",
              " '1 домашка',\n",
              " '02_Введение_в_NLP (1).ipynb',\n",
              " 'План уроков и оценки (продвинутый курс).gsheet']"
            ]
          },
          "metadata": {},
          "execution_count": 4
        }
      ]
    },
    {
      "cell_type": "code",
      "metadata": {
        "colab": {
          "base_uri": "https://localhost:8080/",
          "height": 697
        },
        "id": "ojp3pl5Kz_l9",
        "outputId": "c0aa9f66-cae0-4f35-930e-6d271f8ba60c"
      },
      "source": [
        "import pandas as pd\n",
        "\n",
        "df = pd.read_csv('dataset.csv')\n",
        "df"
      ],
      "execution_count": 5,
      "outputs": [
        {
          "output_type": "stream",
          "name": "stderr",
          "text": [
            "/usr/local/lib/python3.7/dist-packages/IPython/core/interactiveshell.py:3326: DtypeWarning: Columns (3,4,5) have mixed types.Specify dtype option on import or set low_memory=False.\n",
            "  exec(code_obj, self.user_global_ns, self.user_ns)\n"
          ]
        },
        {
          "output_type": "execute_result",
          "data": {
            "text/plain": [
              "              id    spkid          full_name      pdes     name prefix neo  \\\n",
              "0       a0000001  2000001            1 Ceres         1    Ceres    NaN   N   \n",
              "1       a0000002  2000002           2 Pallas         2   Pallas    NaN   N   \n",
              "2       a0000003  2000003             3 Juno         3     Juno    NaN   N   \n",
              "3       a0000004  2000004            4 Vesta         4    Vesta    NaN   N   \n",
              "4       a0000005  2000005          5 Astraea         5  Astraea    NaN   N   \n",
              "...          ...      ...                ...       ...      ...    ...  ..   \n",
              "958519  bPLS6013  3246801         (6013 P-L)  6013 P-L      NaN    NaN   N   \n",
              "958520  bPLS6331  3246834         (6331 P-L)  6331 P-L      NaN    NaN   N   \n",
              "958521  bPLS6344  3013075         (6344 P-L)  6344 P-L      NaN    NaN   Y   \n",
              "958522  bT2S2060  3246457         (2060 T-2)  2060 T-2      NaN    NaN   N   \n",
              "958523  bT3S2678  3246553         (2678 T-3)  2678 T-3      NaN    NaN   N   \n",
              "\n",
              "       pha       H  diameter  ...       sigma_i      sigma_om       sigma_w  \\\n",
              "0        N   3.400   939.400  ...  4.608900e-09  6.168800e-08  6.624800e-08   \n",
              "1        N   4.200   545.000  ...  3.469400e-06  6.272400e-06  9.128200e-06   \n",
              "2        N   5.330   246.596  ...  3.223100e-06  1.664600e-05  1.772100e-05   \n",
              "3        N   3.000   525.400  ...  2.170600e-07  3.880800e-07  1.789300e-07   \n",
              "4        N   6.900   106.699  ...  2.740800e-06  2.894900e-05  2.984200e-05   \n",
              "...     ..     ...       ...  ...           ...           ...           ...   \n",
              "958519   N  17.135       NaN  ...  6.969000e+00  7.433000e+00  4.631100e+01   \n",
              "958520   N  18.500       NaN  ...  1.563500e-05  5.598600e-05  2.380400e-04   \n",
              "958521   Y  20.400       NaN  ...  1.853300e-05  5.691700e-05  8.969200e-05   \n",
              "958522   N  18.071       NaN  ...  5.448800e-01  4.391600e+00  1.898800e+01   \n",
              "958523   N  18.060       NaN  ...  1.102300e+00  3.117000e-01  1.284300e+00   \n",
              "\n",
              "            sigma_ma      sigma_ad       sigma_n      sigma_tp     sigma_per  \\\n",
              "0       7.820700e-09  1.111300e-11  1.196500e-12  3.782900e-08  9.415900e-09   \n",
              "1       8.859100e-06  4.961300e-09  4.653600e-10  4.078700e-05  3.680700e-06   \n",
              "2       8.110400e-06  4.363900e-09  4.413400e-10  3.528800e-05  3.107200e-06   \n",
              "3       1.206800e-06  1.648600e-09  2.612500e-10  4.103700e-06  1.274900e-06   \n",
              "4       8.303800e-06  4.729000e-09  5.522700e-10  3.474300e-05  3.490500e-06   \n",
              "...              ...           ...           ...           ...           ...   \n",
              "958519  2.738300e+01  1.041200e+00  1.652100e-01  1.309700e+02  7.264900e+02   \n",
              "958520  1.298200e-04  2.418900e-08  3.346100e-09  4.690200e-04  1.578500e-05   \n",
              "958521  5.272600e-05  1.650100e-07  1.101600e-08  2.830600e-04  9.127500e-05   \n",
              "958522  1.083800e+01  7.171600e-01  1.016700e-01  3.898400e+01  5.035500e+02   \n",
              "958523  4.736100e-01  1.626700e-01  2.487900e-02  5.523600e+00  1.064800e+02   \n",
              "\n",
              "        class      rms  \n",
              "0         MBA  0.43301  \n",
              "1         MBA  0.35936  \n",
              "2         MBA  0.33848  \n",
              "3         MBA  0.39980  \n",
              "4         MBA  0.52191  \n",
              "...       ...      ...  \n",
              "958519    MBA  0.23839  \n",
              "958520    MBA  0.53633  \n",
              "958521    APO  0.51556  \n",
              "958522    MBA  0.25641  \n",
              "958523    MBA  0.26980  \n",
              "\n",
              "[958524 rows x 45 columns]"
            ],
            "text/html": [
              "\n",
              "  <div id=\"df-e156bfda-b791-4e77-be1c-1389bf47903c\">\n",
              "    <div class=\"colab-df-container\">\n",
              "      <div>\n",
              "<style scoped>\n",
              "    .dataframe tbody tr th:only-of-type {\n",
              "        vertical-align: middle;\n",
              "    }\n",
              "\n",
              "    .dataframe tbody tr th {\n",
              "        vertical-align: top;\n",
              "    }\n",
              "\n",
              "    .dataframe thead th {\n",
              "        text-align: right;\n",
              "    }\n",
              "</style>\n",
              "<table border=\"1\" class=\"dataframe\">\n",
              "  <thead>\n",
              "    <tr style=\"text-align: right;\">\n",
              "      <th></th>\n",
              "      <th>id</th>\n",
              "      <th>spkid</th>\n",
              "      <th>full_name</th>\n",
              "      <th>pdes</th>\n",
              "      <th>name</th>\n",
              "      <th>prefix</th>\n",
              "      <th>neo</th>\n",
              "      <th>pha</th>\n",
              "      <th>H</th>\n",
              "      <th>diameter</th>\n",
              "      <th>...</th>\n",
              "      <th>sigma_i</th>\n",
              "      <th>sigma_om</th>\n",
              "      <th>sigma_w</th>\n",
              "      <th>sigma_ma</th>\n",
              "      <th>sigma_ad</th>\n",
              "      <th>sigma_n</th>\n",
              "      <th>sigma_tp</th>\n",
              "      <th>sigma_per</th>\n",
              "      <th>class</th>\n",
              "      <th>rms</th>\n",
              "    </tr>\n",
              "  </thead>\n",
              "  <tbody>\n",
              "    <tr>\n",
              "      <th>0</th>\n",
              "      <td>a0000001</td>\n",
              "      <td>2000001</td>\n",
              "      <td>1 Ceres</td>\n",
              "      <td>1</td>\n",
              "      <td>Ceres</td>\n",
              "      <td>NaN</td>\n",
              "      <td>N</td>\n",
              "      <td>N</td>\n",
              "      <td>3.400</td>\n",
              "      <td>939.400</td>\n",
              "      <td>...</td>\n",
              "      <td>4.608900e-09</td>\n",
              "      <td>6.168800e-08</td>\n",
              "      <td>6.624800e-08</td>\n",
              "      <td>7.820700e-09</td>\n",
              "      <td>1.111300e-11</td>\n",
              "      <td>1.196500e-12</td>\n",
              "      <td>3.782900e-08</td>\n",
              "      <td>9.415900e-09</td>\n",
              "      <td>MBA</td>\n",
              "      <td>0.43301</td>\n",
              "    </tr>\n",
              "    <tr>\n",
              "      <th>1</th>\n",
              "      <td>a0000002</td>\n",
              "      <td>2000002</td>\n",
              "      <td>2 Pallas</td>\n",
              "      <td>2</td>\n",
              "      <td>Pallas</td>\n",
              "      <td>NaN</td>\n",
              "      <td>N</td>\n",
              "      <td>N</td>\n",
              "      <td>4.200</td>\n",
              "      <td>545.000</td>\n",
              "      <td>...</td>\n",
              "      <td>3.469400e-06</td>\n",
              "      <td>6.272400e-06</td>\n",
              "      <td>9.128200e-06</td>\n",
              "      <td>8.859100e-06</td>\n",
              "      <td>4.961300e-09</td>\n",
              "      <td>4.653600e-10</td>\n",
              "      <td>4.078700e-05</td>\n",
              "      <td>3.680700e-06</td>\n",
              "      <td>MBA</td>\n",
              "      <td>0.35936</td>\n",
              "    </tr>\n",
              "    <tr>\n",
              "      <th>2</th>\n",
              "      <td>a0000003</td>\n",
              "      <td>2000003</td>\n",
              "      <td>3 Juno</td>\n",
              "      <td>3</td>\n",
              "      <td>Juno</td>\n",
              "      <td>NaN</td>\n",
              "      <td>N</td>\n",
              "      <td>N</td>\n",
              "      <td>5.330</td>\n",
              "      <td>246.596</td>\n",
              "      <td>...</td>\n",
              "      <td>3.223100e-06</td>\n",
              "      <td>1.664600e-05</td>\n",
              "      <td>1.772100e-05</td>\n",
              "      <td>8.110400e-06</td>\n",
              "      <td>4.363900e-09</td>\n",
              "      <td>4.413400e-10</td>\n",
              "      <td>3.528800e-05</td>\n",
              "      <td>3.107200e-06</td>\n",
              "      <td>MBA</td>\n",
              "      <td>0.33848</td>\n",
              "    </tr>\n",
              "    <tr>\n",
              "      <th>3</th>\n",
              "      <td>a0000004</td>\n",
              "      <td>2000004</td>\n",
              "      <td>4 Vesta</td>\n",
              "      <td>4</td>\n",
              "      <td>Vesta</td>\n",
              "      <td>NaN</td>\n",
              "      <td>N</td>\n",
              "      <td>N</td>\n",
              "      <td>3.000</td>\n",
              "      <td>525.400</td>\n",
              "      <td>...</td>\n",
              "      <td>2.170600e-07</td>\n",
              "      <td>3.880800e-07</td>\n",
              "      <td>1.789300e-07</td>\n",
              "      <td>1.206800e-06</td>\n",
              "      <td>1.648600e-09</td>\n",
              "      <td>2.612500e-10</td>\n",
              "      <td>4.103700e-06</td>\n",
              "      <td>1.274900e-06</td>\n",
              "      <td>MBA</td>\n",
              "      <td>0.39980</td>\n",
              "    </tr>\n",
              "    <tr>\n",
              "      <th>4</th>\n",
              "      <td>a0000005</td>\n",
              "      <td>2000005</td>\n",
              "      <td>5 Astraea</td>\n",
              "      <td>5</td>\n",
              "      <td>Astraea</td>\n",
              "      <td>NaN</td>\n",
              "      <td>N</td>\n",
              "      <td>N</td>\n",
              "      <td>6.900</td>\n",
              "      <td>106.699</td>\n",
              "      <td>...</td>\n",
              "      <td>2.740800e-06</td>\n",
              "      <td>2.894900e-05</td>\n",
              "      <td>2.984200e-05</td>\n",
              "      <td>8.303800e-06</td>\n",
              "      <td>4.729000e-09</td>\n",
              "      <td>5.522700e-10</td>\n",
              "      <td>3.474300e-05</td>\n",
              "      <td>3.490500e-06</td>\n",
              "      <td>MBA</td>\n",
              "      <td>0.52191</td>\n",
              "    </tr>\n",
              "    <tr>\n",
              "      <th>...</th>\n",
              "      <td>...</td>\n",
              "      <td>...</td>\n",
              "      <td>...</td>\n",
              "      <td>...</td>\n",
              "      <td>...</td>\n",
              "      <td>...</td>\n",
              "      <td>...</td>\n",
              "      <td>...</td>\n",
              "      <td>...</td>\n",
              "      <td>...</td>\n",
              "      <td>...</td>\n",
              "      <td>...</td>\n",
              "      <td>...</td>\n",
              "      <td>...</td>\n",
              "      <td>...</td>\n",
              "      <td>...</td>\n",
              "      <td>...</td>\n",
              "      <td>...</td>\n",
              "      <td>...</td>\n",
              "      <td>...</td>\n",
              "      <td>...</td>\n",
              "    </tr>\n",
              "    <tr>\n",
              "      <th>958519</th>\n",
              "      <td>bPLS6013</td>\n",
              "      <td>3246801</td>\n",
              "      <td>(6013 P-L)</td>\n",
              "      <td>6013 P-L</td>\n",
              "      <td>NaN</td>\n",
              "      <td>NaN</td>\n",
              "      <td>N</td>\n",
              "      <td>N</td>\n",
              "      <td>17.135</td>\n",
              "      <td>NaN</td>\n",
              "      <td>...</td>\n",
              "      <td>6.969000e+00</td>\n",
              "      <td>7.433000e+00</td>\n",
              "      <td>4.631100e+01</td>\n",
              "      <td>2.738300e+01</td>\n",
              "      <td>1.041200e+00</td>\n",
              "      <td>1.652100e-01</td>\n",
              "      <td>1.309700e+02</td>\n",
              "      <td>7.264900e+02</td>\n",
              "      <td>MBA</td>\n",
              "      <td>0.23839</td>\n",
              "    </tr>\n",
              "    <tr>\n",
              "      <th>958520</th>\n",
              "      <td>bPLS6331</td>\n",
              "      <td>3246834</td>\n",
              "      <td>(6331 P-L)</td>\n",
              "      <td>6331 P-L</td>\n",
              "      <td>NaN</td>\n",
              "      <td>NaN</td>\n",
              "      <td>N</td>\n",
              "      <td>N</td>\n",
              "      <td>18.500</td>\n",
              "      <td>NaN</td>\n",
              "      <td>...</td>\n",
              "      <td>1.563500e-05</td>\n",
              "      <td>5.598600e-05</td>\n",
              "      <td>2.380400e-04</td>\n",
              "      <td>1.298200e-04</td>\n",
              "      <td>2.418900e-08</td>\n",
              "      <td>3.346100e-09</td>\n",
              "      <td>4.690200e-04</td>\n",
              "      <td>1.578500e-05</td>\n",
              "      <td>MBA</td>\n",
              "      <td>0.53633</td>\n",
              "    </tr>\n",
              "    <tr>\n",
              "      <th>958521</th>\n",
              "      <td>bPLS6344</td>\n",
              "      <td>3013075</td>\n",
              "      <td>(6344 P-L)</td>\n",
              "      <td>6344 P-L</td>\n",
              "      <td>NaN</td>\n",
              "      <td>NaN</td>\n",
              "      <td>Y</td>\n",
              "      <td>Y</td>\n",
              "      <td>20.400</td>\n",
              "      <td>NaN</td>\n",
              "      <td>...</td>\n",
              "      <td>1.853300e-05</td>\n",
              "      <td>5.691700e-05</td>\n",
              "      <td>8.969200e-05</td>\n",
              "      <td>5.272600e-05</td>\n",
              "      <td>1.650100e-07</td>\n",
              "      <td>1.101600e-08</td>\n",
              "      <td>2.830600e-04</td>\n",
              "      <td>9.127500e-05</td>\n",
              "      <td>APO</td>\n",
              "      <td>0.51556</td>\n",
              "    </tr>\n",
              "    <tr>\n",
              "      <th>958522</th>\n",
              "      <td>bT2S2060</td>\n",
              "      <td>3246457</td>\n",
              "      <td>(2060 T-2)</td>\n",
              "      <td>2060 T-2</td>\n",
              "      <td>NaN</td>\n",
              "      <td>NaN</td>\n",
              "      <td>N</td>\n",
              "      <td>N</td>\n",
              "      <td>18.071</td>\n",
              "      <td>NaN</td>\n",
              "      <td>...</td>\n",
              "      <td>5.448800e-01</td>\n",
              "      <td>4.391600e+00</td>\n",
              "      <td>1.898800e+01</td>\n",
              "      <td>1.083800e+01</td>\n",
              "      <td>7.171600e-01</td>\n",
              "      <td>1.016700e-01</td>\n",
              "      <td>3.898400e+01</td>\n",
              "      <td>5.035500e+02</td>\n",
              "      <td>MBA</td>\n",
              "      <td>0.25641</td>\n",
              "    </tr>\n",
              "    <tr>\n",
              "      <th>958523</th>\n",
              "      <td>bT3S2678</td>\n",
              "      <td>3246553</td>\n",
              "      <td>(2678 T-3)</td>\n",
              "      <td>2678 T-3</td>\n",
              "      <td>NaN</td>\n",
              "      <td>NaN</td>\n",
              "      <td>N</td>\n",
              "      <td>N</td>\n",
              "      <td>18.060</td>\n",
              "      <td>NaN</td>\n",
              "      <td>...</td>\n",
              "      <td>1.102300e+00</td>\n",
              "      <td>3.117000e-01</td>\n",
              "      <td>1.284300e+00</td>\n",
              "      <td>4.736100e-01</td>\n",
              "      <td>1.626700e-01</td>\n",
              "      <td>2.487900e-02</td>\n",
              "      <td>5.523600e+00</td>\n",
              "      <td>1.064800e+02</td>\n",
              "      <td>MBA</td>\n",
              "      <td>0.26980</td>\n",
              "    </tr>\n",
              "  </tbody>\n",
              "</table>\n",
              "<p>958524 rows × 45 columns</p>\n",
              "</div>\n",
              "      <button class=\"colab-df-convert\" onclick=\"convertToInteractive('df-e156bfda-b791-4e77-be1c-1389bf47903c')\"\n",
              "              title=\"Convert this dataframe to an interactive table.\"\n",
              "              style=\"display:none;\">\n",
              "        \n",
              "  <svg xmlns=\"http://www.w3.org/2000/svg\" height=\"24px\"viewBox=\"0 0 24 24\"\n",
              "       width=\"24px\">\n",
              "    <path d=\"M0 0h24v24H0V0z\" fill=\"none\"/>\n",
              "    <path d=\"M18.56 5.44l.94 2.06.94-2.06 2.06-.94-2.06-.94-.94-2.06-.94 2.06-2.06.94zm-11 1L8.5 8.5l.94-2.06 2.06-.94-2.06-.94L8.5 2.5l-.94 2.06-2.06.94zm10 10l.94 2.06.94-2.06 2.06-.94-2.06-.94-.94-2.06-.94 2.06-2.06.94z\"/><path d=\"M17.41 7.96l-1.37-1.37c-.4-.4-.92-.59-1.43-.59-.52 0-1.04.2-1.43.59L10.3 9.45l-7.72 7.72c-.78.78-.78 2.05 0 2.83L4 21.41c.39.39.9.59 1.41.59.51 0 1.02-.2 1.41-.59l7.78-7.78 2.81-2.81c.8-.78.8-2.07 0-2.86zM5.41 20L4 18.59l7.72-7.72 1.47 1.35L5.41 20z\"/>\n",
              "  </svg>\n",
              "      </button>\n",
              "      \n",
              "  <style>\n",
              "    .colab-df-container {\n",
              "      display:flex;\n",
              "      flex-wrap:wrap;\n",
              "      gap: 12px;\n",
              "    }\n",
              "\n",
              "    .colab-df-convert {\n",
              "      background-color: #E8F0FE;\n",
              "      border: none;\n",
              "      border-radius: 50%;\n",
              "      cursor: pointer;\n",
              "      display: none;\n",
              "      fill: #1967D2;\n",
              "      height: 32px;\n",
              "      padding: 0 0 0 0;\n",
              "      width: 32px;\n",
              "    }\n",
              "\n",
              "    .colab-df-convert:hover {\n",
              "      background-color: #E2EBFA;\n",
              "      box-shadow: 0px 1px 2px rgba(60, 64, 67, 0.3), 0px 1px 3px 1px rgba(60, 64, 67, 0.15);\n",
              "      fill: #174EA6;\n",
              "    }\n",
              "\n",
              "    [theme=dark] .colab-df-convert {\n",
              "      background-color: #3B4455;\n",
              "      fill: #D2E3FC;\n",
              "    }\n",
              "\n",
              "    [theme=dark] .colab-df-convert:hover {\n",
              "      background-color: #434B5C;\n",
              "      box-shadow: 0px 1px 3px 1px rgba(0, 0, 0, 0.15);\n",
              "      filter: drop-shadow(0px 1px 2px rgba(0, 0, 0, 0.3));\n",
              "      fill: #FFFFFF;\n",
              "    }\n",
              "  </style>\n",
              "\n",
              "      <script>\n",
              "        const buttonEl =\n",
              "          document.querySelector('#df-e156bfda-b791-4e77-be1c-1389bf47903c button.colab-df-convert');\n",
              "        buttonEl.style.display =\n",
              "          google.colab.kernel.accessAllowed ? 'block' : 'none';\n",
              "\n",
              "        async function convertToInteractive(key) {\n",
              "          const element = document.querySelector('#df-e156bfda-b791-4e77-be1c-1389bf47903c');\n",
              "          const dataTable =\n",
              "            await google.colab.kernel.invokeFunction('convertToInteractive',\n",
              "                                                     [key], {});\n",
              "          if (!dataTable) return;\n",
              "\n",
              "          const docLinkHtml = 'Like what you see? Visit the ' +\n",
              "            '<a target=\"_blank\" href=https://colab.research.google.com/notebooks/data_table.ipynb>data table notebook</a>'\n",
              "            + ' to learn more about interactive tables.';\n",
              "          element.innerHTML = '';\n",
              "          dataTable['output_type'] = 'display_data';\n",
              "          await google.colab.output.renderOutput(dataTable, element);\n",
              "          const docLink = document.createElement('div');\n",
              "          docLink.innerHTML = docLinkHtml;\n",
              "          element.appendChild(docLink);\n",
              "        }\n",
              "      </script>\n",
              "    </div>\n",
              "  </div>\n",
              "  "
            ]
          },
          "metadata": {},
          "execution_count": 5
        }
      ]
    },
    {
      "cell_type": "code",
      "metadata": {
        "colab": {
          "base_uri": "https://localhost:8080/"
        },
        "id": "qY_yd2N332Qt",
        "outputId": "e08f138f-3184-43b6-c58f-4c40355719aa"
      },
      "source": [
        "df.info()"
      ],
      "execution_count": null,
      "outputs": [
        {
          "output_type": "stream",
          "name": "stdout",
          "text": [
            "<class 'pandas.core.frame.DataFrame'>\n",
            "RangeIndex: 958524 entries, 0 to 958523\n",
            "Data columns (total 45 columns):\n",
            " #   Column          Non-Null Count   Dtype  \n",
            "---  ------          --------------   -----  \n",
            " 0   id              958524 non-null  object \n",
            " 1   spkid           958524 non-null  int64  \n",
            " 2   full_name       958524 non-null  object \n",
            " 3   pdes            958524 non-null  object \n",
            " 4   name            22064 non-null   object \n",
            " 5   prefix          18 non-null      object \n",
            " 6   neo             958520 non-null  object \n",
            " 7   pha             938603 non-null  object \n",
            " 8   H               952261 non-null  float64\n",
            " 9   diameter        136209 non-null  float64\n",
            " 10  albedo          135103 non-null  float64\n",
            " 11  diameter_sigma  136081 non-null  float64\n",
            " 12  orbit_id        958524 non-null  object \n",
            " 13  epoch           958524 non-null  float64\n",
            " 14  epoch_mjd       958524 non-null  int64  \n",
            " 15  epoch_cal       958524 non-null  float64\n",
            " 16  equinox         958524 non-null  object \n",
            " 17  e               958524 non-null  float64\n",
            " 18  a               958524 non-null  float64\n",
            " 19  q               958524 non-null  float64\n",
            " 20  i               958524 non-null  float64\n",
            " 21  om              958524 non-null  float64\n",
            " 22  w               958524 non-null  float64\n",
            " 23  ma              958523 non-null  float64\n",
            " 24  ad              958520 non-null  float64\n",
            " 25  n               958524 non-null  float64\n",
            " 26  tp              958524 non-null  float64\n",
            " 27  tp_cal          958524 non-null  float64\n",
            " 28  per             958520 non-null  float64\n",
            " 29  per_y           958523 non-null  float64\n",
            " 30  moid            938603 non-null  float64\n",
            " 31  moid_ld         958397 non-null  float64\n",
            " 32  sigma_e         938602 non-null  float64\n",
            " 33  sigma_a         938602 non-null  float64\n",
            " 34  sigma_q         938602 non-null  float64\n",
            " 35  sigma_i         938602 non-null  float64\n",
            " 36  sigma_om        938602 non-null  float64\n",
            " 37  sigma_w         938602 non-null  float64\n",
            " 38  sigma_ma        938602 non-null  float64\n",
            " 39  sigma_ad        938598 non-null  float64\n",
            " 40  sigma_n         938602 non-null  float64\n",
            " 41  sigma_tp        938602 non-null  float64\n",
            " 42  sigma_per       938598 non-null  float64\n",
            " 43  class           958524 non-null  object \n",
            " 44  rms             958522 non-null  float64\n",
            "dtypes: float64(33), int64(2), object(10)\n",
            "memory usage: 329.1+ MB\n"
          ]
        }
      ]
    },
    {
      "cell_type": "code",
      "metadata": {
        "id": "sx5_vUoVAc4b"
      },
      "source": [
        "import pandas as pd\n",
        "import numpy as np\n",
        "import matplotlib.pyplot as plt\n",
        "import seaborn as sns\n",
        "\n",
        "df.isnull().sum()"
      ],
      "execution_count": null,
      "outputs": []
    },
    {
      "cell_type": "code",
      "metadata": {
        "id": "AE1-2Lc9A1bc"
      },
      "source": [
        "# We have choose to drop the name and prefix for now as this will not impact the model\n",
        "\n",
        "df = df.drop(['name', 'prefix'], axis=1)\n",
        "df = df.drop(['id', 'spkid','full_name', 'equinox','orbit_id','pdes'], axis=1)"
      ],
      "execution_count": null,
      "outputs": []
    },
    {
      "cell_type": "code",
      "metadata": {
        "id": "psEY9STDBF82"
      },
      "source": [
        "df = df.dropna()"
      ],
      "execution_count": null,
      "outputs": []
    },
    {
      "cell_type": "code",
      "metadata": {
        "colab": {
          "base_uri": "https://localhost:8080/"
        },
        "id": "pMTlmAik41Bz",
        "outputId": "f4be3056-936e-4fc8-c062-4e4b312bcee0"
      },
      "source": [
        "df.isna().sum()"
      ],
      "execution_count": null,
      "outputs": [
        {
          "output_type": "execute_result",
          "data": {
            "text/plain": [
              "neo               0\n",
              "pha               0\n",
              "H                 0\n",
              "diameter          0\n",
              "albedo            0\n",
              "diameter_sigma    0\n",
              "epoch             0\n",
              "epoch_mjd         0\n",
              "epoch_cal         0\n",
              "e                 0\n",
              "a                 0\n",
              "q                 0\n",
              "i                 0\n",
              "om                0\n",
              "w                 0\n",
              "ma                0\n",
              "ad                0\n",
              "n                 0\n",
              "tp                0\n",
              "tp_cal            0\n",
              "per               0\n",
              "per_y             0\n",
              "moid              0\n",
              "moid_ld           0\n",
              "sigma_e           0\n",
              "sigma_a           0\n",
              "sigma_q           0\n",
              "sigma_i           0\n",
              "sigma_om          0\n",
              "sigma_w           0\n",
              "sigma_ma          0\n",
              "sigma_ad          0\n",
              "sigma_n           0\n",
              "sigma_tp          0\n",
              "sigma_per         0\n",
              "class             0\n",
              "rms               0\n",
              "dtype: int64"
            ]
          },
          "metadata": {},
          "execution_count": 11
        }
      ]
    },
    {
      "cell_type": "code",
      "metadata": {
        "colab": {
          "base_uri": "https://localhost:8080/"
        },
        "id": "1LpMVqcWBId4",
        "outputId": "4c9f29b8-695d-4e41-869e-9d5ba58ca870"
      },
      "source": [
        "df.shape"
      ],
      "execution_count": null,
      "outputs": [
        {
          "output_type": "execute_result",
          "data": {
            "text/plain": [
              "(131142, 37)"
            ]
          },
          "metadata": {},
          "execution_count": 12
        }
      ]
    },
    {
      "cell_type": "code",
      "metadata": {
        "colab": {
          "base_uri": "https://localhost:8080/"
        },
        "id": "dx77gFlZ5Gy1",
        "outputId": "e2a570ab-f0d8-43a4-9c4a-c05de1b0071d"
      },
      "source": [
        "df['pha'] # целевая переменная"
      ],
      "execution_count": null,
      "outputs": [
        {
          "output_type": "execute_result",
          "data": {
            "text/plain": [
              "0         N\n",
              "1         N\n",
              "2         N\n",
              "3         N\n",
              "4         N\n",
              "         ..\n",
              "891599    N\n",
              "891841    N\n",
              "894103    N\n",
              "901055    N\n",
              "909489    N\n",
              "Name: pha, Length: 131142, dtype: object"
            ]
          },
          "metadata": {},
          "execution_count": 14
        }
      ]
    },
    {
      "cell_type": "code",
      "metadata": {
        "colab": {
          "base_uri": "https://localhost:8080/"
        },
        "id": "pXJCKbmf5O9R",
        "outputId": "02330752-ce04-40a4-8fd2-f2443d79c955"
      },
      "source": [
        "df['pha'].unique() # сколько классов?"
      ],
      "execution_count": null,
      "outputs": [
        {
          "output_type": "execute_result",
          "data": {
            "text/plain": [
              "array(['N', 'Y'], dtype=object)"
            ]
          },
          "metadata": {},
          "execution_count": 16
        }
      ]
    },
    {
      "cell_type": "code",
      "metadata": {
        "colab": {
          "base_uri": "https://localhost:8080/"
        },
        "id": "RAFYZuNM5jSk",
        "outputId": "9653d952-65d2-4cf4-efad-f12edc5919b9"
      },
      "source": [
        "df['pha'].value_counts()\n",
        "# дисбаланс классов"
      ],
      "execution_count": null,
      "outputs": [
        {
          "output_type": "execute_result",
          "data": {
            "text/plain": [
              "N    130961\n",
              "Y       181\n",
              "Name: pha, dtype: int64"
            ]
          },
          "metadata": {},
          "execution_count": 18
        }
      ]
    }
  ]
}
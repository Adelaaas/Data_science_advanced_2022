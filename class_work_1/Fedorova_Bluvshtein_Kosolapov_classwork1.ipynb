{
  "nbformat": 4,
  "nbformat_minor": 0,
  "metadata": {
    "colab": {
      "provenance": [],
      "toc_visible": true
    },
    "kernelspec": {
      "name": "python3",
      "display_name": "Python 3"
    },
    "language_info": {
      "name": "python"
    }
  },
  "cells": [
    {
      "cell_type": "code",
      "execution_count": 2,
      "metadata": {
        "id": "Eb5I8lwO5eDu"
      },
      "outputs": [],
      "source": [
        "import pandas as pd"
      ]
    },
    {
      "cell_type": "code",
      "source": [
        "df = pd.read_csv('dataset.csv')"
      ],
      "metadata": {
        "id": "21Viqmv06USb"
      },
      "execution_count": 3,
      "outputs": []
    },
    {
      "cell_type": "code",
      "source": [
        "df.info()"
      ],
      "metadata": {
        "colab": {
          "base_uri": "https://localhost:8080/"
        },
        "id": "d-yBWeRo6otz",
        "outputId": "af9d7c1d-8a8a-47ca-9afb-b3937d40d9ff"
      },
      "execution_count": 6,
      "outputs": [
        {
          "output_type": "stream",
          "name": "stdout",
          "text": [
            "<class 'pandas.core.frame.DataFrame'>\n",
            "RangeIndex: 35815 entries, 0 to 35814\n",
            "Data columns (total 45 columns):\n",
            " #   Column          Non-Null Count  Dtype  \n",
            "---  ------          --------------  -----  \n",
            " 0   id              35815 non-null  object \n",
            " 1   spkid           35815 non-null  int64  \n",
            " 2   full_name       35815 non-null  object \n",
            " 3   pdes            35815 non-null  int64  \n",
            " 4   name            17872 non-null  object \n",
            " 5   prefix          0 non-null      float64\n",
            " 6   neo             35815 non-null  object \n",
            " 7   pha             35815 non-null  object \n",
            " 8   H               35815 non-null  float64\n",
            " 9   diameter        26432 non-null  float64\n",
            " 10  albedo          26414 non-null  float64\n",
            " 11  diameter_sigma  26329 non-null  float64\n",
            " 12  orbit_id        35815 non-null  object \n",
            " 13  epoch           35814 non-null  float64\n",
            " 14  epoch_mjd       35814 non-null  float64\n",
            " 15  epoch_cal       35814 non-null  float64\n",
            " 16  equinox         35814 non-null  object \n",
            " 17  e               35814 non-null  float64\n",
            " 18  a               35814 non-null  float64\n",
            " 19  q               35814 non-null  float64\n",
            " 20  i               35814 non-null  float64\n",
            " 21  om              35814 non-null  float64\n",
            " 22  w               35814 non-null  float64\n",
            " 23  ma              35814 non-null  float64\n",
            " 24  ad              35814 non-null  float64\n",
            " 25  n               35814 non-null  float64\n",
            " 26  tp              35814 non-null  float64\n",
            " 27  tp_cal          35814 non-null  float64\n",
            " 28  per             35814 non-null  float64\n",
            " 29  per_y           35814 non-null  float64\n",
            " 30  moid            35814 non-null  float64\n",
            " 31  moid_ld         35814 non-null  float64\n",
            " 32  sigma_e         35814 non-null  float64\n",
            " 33  sigma_a         35814 non-null  float64\n",
            " 34  sigma_q         35814 non-null  float64\n",
            " 35  sigma_i         35814 non-null  float64\n",
            " 36  sigma_om        35814 non-null  float64\n",
            " 37  sigma_w         35814 non-null  float64\n",
            " 38  sigma_ma        35814 non-null  float64\n",
            " 39  sigma_ad        35814 non-null  float64\n",
            " 40  sigma_n         35814 non-null  float64\n",
            " 41  sigma_tp        35814 non-null  float64\n",
            " 42  sigma_per       35814 non-null  float64\n",
            " 43  class           35814 non-null  object \n",
            " 44  rms             35814 non-null  float64\n",
            "dtypes: float64(35), int64(2), object(8)\n",
            "memory usage: 12.3+ MB\n"
          ]
        }
      ]
    },
    {
      "cell_type": "code",
      "source": [
        "df.isnull().sum()\n"
      ],
      "metadata": {
        "colab": {
          "base_uri": "https://localhost:8080/"
        },
        "id": "-QeJ57Jr6168",
        "outputId": "d14893c4-043d-432a-efa2-7716bff092c8"
      },
      "execution_count": 10,
      "outputs": [
        {
          "output_type": "execute_result",
          "data": {
            "text/plain": [
              "neo                  0\n",
              "pha                  0\n",
              "H                    0\n",
              "diameter          9383\n",
              "albedo            9401\n",
              "diameter_sigma    9486\n",
              "epoch                1\n",
              "epoch_mjd            1\n",
              "epoch_cal            1\n",
              "e                    1\n",
              "a                    1\n",
              "q                    1\n",
              "i                    1\n",
              "om                   1\n",
              "w                    1\n",
              "ma                   1\n",
              "ad                   1\n",
              "n                    1\n",
              "tp                   1\n",
              "tp_cal               1\n",
              "per                  1\n",
              "per_y                1\n",
              "moid                 1\n",
              "moid_ld              1\n",
              "sigma_e              1\n",
              "sigma_a              1\n",
              "sigma_q              1\n",
              "sigma_i              1\n",
              "sigma_om             1\n",
              "sigma_w              1\n",
              "sigma_ma             1\n",
              "sigma_ad             1\n",
              "sigma_n              1\n",
              "sigma_tp             1\n",
              "sigma_per            1\n",
              "class                1\n",
              "rms                  1\n",
              "dtype: int64"
            ]
          },
          "metadata": {},
          "execution_count": 10
        }
      ]
    },
    {
      "cell_type": "code",
      "source": [
        "df = df.drop(['name', 'prefix'], axis=1)\n",
        "df = df.drop(['id', 'spkid','full_name', 'equinox','orbit_id','pdes'], axis=1)"
      ],
      "metadata": {
        "id": "1A5QH-GQ6-JB"
      },
      "execution_count": 8,
      "outputs": []
    },
    {
      "cell_type": "code",
      "source": [
        "df.info()"
      ],
      "metadata": {
        "colab": {
          "base_uri": "https://localhost:8080/"
        },
        "id": "OD3oarvv7BLa",
        "outputId": "30f7a5a1-da37-4df5-aac2-fa61fb0656d2"
      },
      "execution_count": 9,
      "outputs": [
        {
          "output_type": "stream",
          "name": "stdout",
          "text": [
            "<class 'pandas.core.frame.DataFrame'>\n",
            "RangeIndex: 35815 entries, 0 to 35814\n",
            "Data columns (total 37 columns):\n",
            " #   Column          Non-Null Count  Dtype  \n",
            "---  ------          --------------  -----  \n",
            " 0   neo             35815 non-null  object \n",
            " 1   pha             35815 non-null  object \n",
            " 2   H               35815 non-null  float64\n",
            " 3   diameter        26432 non-null  float64\n",
            " 4   albedo          26414 non-null  float64\n",
            " 5   diameter_sigma  26329 non-null  float64\n",
            " 6   epoch           35814 non-null  float64\n",
            " 7   epoch_mjd       35814 non-null  float64\n",
            " 8   epoch_cal       35814 non-null  float64\n",
            " 9   e               35814 non-null  float64\n",
            " 10  a               35814 non-null  float64\n",
            " 11  q               35814 non-null  float64\n",
            " 12  i               35814 non-null  float64\n",
            " 13  om              35814 non-null  float64\n",
            " 14  w               35814 non-null  float64\n",
            " 15  ma              35814 non-null  float64\n",
            " 16  ad              35814 non-null  float64\n",
            " 17  n               35814 non-null  float64\n",
            " 18  tp              35814 non-null  float64\n",
            " 19  tp_cal          35814 non-null  float64\n",
            " 20  per             35814 non-null  float64\n",
            " 21  per_y           35814 non-null  float64\n",
            " 22  moid            35814 non-null  float64\n",
            " 23  moid_ld         35814 non-null  float64\n",
            " 24  sigma_e         35814 non-null  float64\n",
            " 25  sigma_a         35814 non-null  float64\n",
            " 26  sigma_q         35814 non-null  float64\n",
            " 27  sigma_i         35814 non-null  float64\n",
            " 28  sigma_om        35814 non-null  float64\n",
            " 29  sigma_w         35814 non-null  float64\n",
            " 30  sigma_ma        35814 non-null  float64\n",
            " 31  sigma_ad        35814 non-null  float64\n",
            " 32  sigma_n         35814 non-null  float64\n",
            " 33  sigma_tp        35814 non-null  float64\n",
            " 34  sigma_per       35814 non-null  float64\n",
            " 35  class           35814 non-null  object \n",
            " 36  rms             35814 non-null  float64\n",
            "dtypes: float64(34), object(3)\n",
            "memory usage: 10.1+ MB\n"
          ]
        }
      ]
    },
    {
      "cell_type": "code",
      "source": [
        "df = df.dropna()\n"
      ],
      "metadata": {
        "id": "Xa7hCL__7McC"
      },
      "execution_count": 11,
      "outputs": []
    },
    {
      "cell_type": "code",
      "source": [
        "df.isna().sum()\n"
      ],
      "metadata": {
        "colab": {
          "base_uri": "https://localhost:8080/"
        },
        "id": "iQXBAGB07PIz",
        "outputId": "57be6b53-85bf-48fd-e05d-392068cfcb7b"
      },
      "execution_count": 12,
      "outputs": [
        {
          "output_type": "execute_result",
          "data": {
            "text/plain": [
              "neo               0\n",
              "pha               0\n",
              "H                 0\n",
              "diameter          0\n",
              "albedo            0\n",
              "diameter_sigma    0\n",
              "epoch             0\n",
              "epoch_mjd         0\n",
              "epoch_cal         0\n",
              "e                 0\n",
              "a                 0\n",
              "q                 0\n",
              "i                 0\n",
              "om                0\n",
              "w                 0\n",
              "ma                0\n",
              "ad                0\n",
              "n                 0\n",
              "tp                0\n",
              "tp_cal            0\n",
              "per               0\n",
              "per_y             0\n",
              "moid              0\n",
              "moid_ld           0\n",
              "sigma_e           0\n",
              "sigma_a           0\n",
              "sigma_q           0\n",
              "sigma_i           0\n",
              "sigma_om          0\n",
              "sigma_w           0\n",
              "sigma_ma          0\n",
              "sigma_ad          0\n",
              "sigma_n           0\n",
              "sigma_tp          0\n",
              "sigma_per         0\n",
              "class             0\n",
              "rms               0\n",
              "dtype: int64"
            ]
          },
          "metadata": {},
          "execution_count": 12
        }
      ]
    },
    {
      "cell_type": "code",
      "source": [
        "from sklearn import preprocessing"
      ],
      "metadata": {
        "id": "zDHwj-7N8TW7"
      },
      "execution_count": 13,
      "outputs": []
    },
    {
      "cell_type": "code",
      "source": [
        "label_encoder = preprocessing.LabelEncoder() \n",
        "label_encoder.fit(df['pha'])\n",
        "df['pha'] = label_encoder.transform(df['pha']) "
      ],
      "metadata": {
        "id": "70LwaoIL7wJ6"
      },
      "execution_count": 14,
      "outputs": []
    },
    {
      "cell_type": "code",
      "source": [
        "label_encoder = preprocessing.LabelEncoder() \n",
        "label_encoder.fit(df['neo'])\n",
        "df['neo'] = label_encoder.transform(df['neo']) \n",
        "label_encoder = preprocessing.LabelEncoder() \n",
        "label_encoder.fit(df['class'])\n",
        "df['class'] = label_encoder.transform(df['class']) "
      ],
      "metadata": {
        "id": "L9txsPY38o1S"
      },
      "execution_count": 15,
      "outputs": []
    },
    {
      "cell_type": "code",
      "source": [
        "from sklearn.model_selection import train_test_split\n",
        "y = df['pha']\n",
        "X= df.drop(['pha'], axis=1)\n",
        "x_train, x_test, y_train, y_test = train_test_split(X, y, test_size=0.3)"
      ],
      "metadata": {
        "id": "vuAy0Wde8zti"
      },
      "execution_count": 17,
      "outputs": []
    },
    {
      "cell_type": "code",
      "source": [
        "from imblearn.over_sampling import SMOTE\n",
        "\n",
        "os = SMOTE(random_state=0, k_neighbors=2)\n",
        "\n",
        "X= df.drop(['pha'], axis=1)\n",
        "y = df['pha']\n",
        "\n",
        "column = X.columns\n",
        "\n",
        "print(\"До балансировки\")\n",
        "print(X.shape)\n",
        "print(y.value_counts())\n",
        "\n",
        "os_data_X, os_data_y = os.fit_resample(X, y)\n",
        "os_data_X = pd.DataFrame(data=os_data_X, columns=column)\n",
        "os_data_y = pd.DataFrame(data=os_data_y, columns=['pha'])\n",
        "\n",
        "print(\"После балансировки\")\n",
        "print(os_data_X.shape)\n",
        "print(os_data_y.value_counts())"
      ],
      "metadata": {
        "colab": {
          "base_uri": "https://localhost:8080/"
        },
        "id": "4K0sJRsP7Qhb",
        "outputId": "50b4fca7-e96a-4ce1-ff87-8cb8e09a321c"
      },
      "execution_count": 23,
      "outputs": [
        {
          "output_type": "stream",
          "name": "stdout",
          "text": [
            "До балансировки\n",
            "(26328, 36)\n",
            "0    26310\n",
            "1       18\n",
            "Name: pha, dtype: int64\n",
            "После балансировки\n",
            "(52620, 36)\n",
            "pha\n",
            "0      26310\n",
            "1      26310\n",
            "dtype: int64\n"
          ]
        }
      ]
    },
    {
      "cell_type": "code",
      "source": [
        "from sklearn.linear_model import LogisticRegression\n",
        "model = LogisticRegression()\n",
        "model.fit(os_data_X, os_data_y)\n",
        "model_pred=model.predict(x_test)"
      ],
      "metadata": {
        "colab": {
          "base_uri": "https://localhost:8080/"
        },
        "id": "7KM99GkX9777",
        "outputId": "9a448330-bc0a-4091-868a-c79fec6cb97d"
      },
      "execution_count": 29,
      "outputs": [
        {
          "output_type": "stream",
          "name": "stderr",
          "text": [
            "/usr/local/lib/python3.7/dist-packages/sklearn/utils/validation.py:993: DataConversionWarning: A column-vector y was passed when a 1d array was expected. Please change the shape of y to (n_samples, ), for example using ravel().\n",
            "  y = column_or_1d(y, warn=True)\n"
          ]
        }
      ]
    },
    {
      "cell_type": "code",
      "source": [
        "from sklearn.metrics import accuracy_score, roc_auc_score, recall_score, f1_score, precision_score\n",
        "print(\"accuracy:\",accuracy_score(y_test,model_pred))\n",
        "print(\"recall:\",recall_score(y_test,model_pred))\n",
        "\n",
        "\n",
        "\n",
        "\n"
      ],
      "metadata": {
        "colab": {
          "base_uri": "https://localhost:8080/"
        },
        "id": "-zVRl_d0-Cur",
        "outputId": "16f1dc42-6787-4411-f8b2-ab8743c1a1d3"
      },
      "execution_count": 30,
      "outputs": [
        {
          "output_type": "stream",
          "name": "stdout",
          "text": [
            "accuracy: 0.9997468033928345\n",
            "recall: 1.0\n"
          ]
        }
      ]
    },
    {
      "cell_type": "code",
      "source": [
        "from sklearn.metrics import confusion_matrix\n",
        "confusion_matrix(model_pred, y_test)"
      ],
      "metadata": {
        "colab": {
          "base_uri": "https://localhost:8080/"
        },
        "id": "k3uCJOIV7lKG",
        "outputId": "0edc753a-315e-4225-a0da-66ab76195a9c"
      },
      "execution_count": 35,
      "outputs": [
        {
          "output_type": "execute_result",
          "data": {
            "text/plain": [
              "array([[7889,    0],\n",
              "       [   2,    8]])"
            ]
          },
          "metadata": {},
          "execution_count": 35
        }
      ]
    }
  ]
}
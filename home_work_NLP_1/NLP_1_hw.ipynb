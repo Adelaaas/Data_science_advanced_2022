{
  "nbformat": 4,
  "nbformat_minor": 0,
  "metadata": {
    "colab": {
      "provenance": []
    },
    "kernelspec": {
      "name": "python3",
      "display_name": "Python 3"
    },
    "language_info": {
      "name": "python"
    }
  },
  "cells": [
    {
      "cell_type": "markdown",
      "source": [
        "# получения N-грамм"
      ],
      "metadata": {
        "id": "SQPsHGWI5fho"
      }
    },
    {
      "cell_type": "code",
      "source": [
        "def token(s):\n",
        "  s=s.lower()\n",
        "  s+=\" \"\n",
        "  i=''\n",
        "  lst=[]\n",
        "  for simv in s:\n",
        "    if simv.isalpha():\n",
        "      i+=simv\n",
        "    elif simv==\" \":\n",
        "      if i!=\"\":\n",
        "        lst.append(i)\n",
        "      i=''\n",
        "  return lst"
      ],
      "metadata": {
        "id": "29-T7I8W6ub1"
      },
      "execution_count": null,
      "outputs": []
    },
    {
      "cell_type": "code",
      "source": [
        "def get_N_grams(s, n=2, slova=True):\n",
        "  lst=[]\n",
        "  listik=[]\n",
        "  if slova:\n",
        "    lst=token(s)  \n",
        "  else:\n",
        "    for simv in s:\n",
        "        lst.append(simv)\n",
        "  for i in range(len(lst)-n+1):\n",
        "    l=[]\n",
        "    for j in range (i, i+n):\n",
        "      l.append(lst[j])\n",
        "    listik.append(l)\n",
        "  return listik"
      ],
      "metadata": {
        "id": "ThnMdBoh5el7"
      },
      "execution_count": null,
      "outputs": []
    },
    {
      "cell_type": "code",
      "source": [
        "s=\"Мама, мыла, ####3 раму    !\"\n",
        "get_N_grams(s, n=2)"
      ],
      "metadata": {
        "colab": {
          "base_uri": "https://localhost:8080/"
        },
        "id": "NJab1VGA_p7u",
        "outputId": "f59e35bb-9e32-4c72-8add-0f64a6154704"
      },
      "execution_count": null,
      "outputs": [
        {
          "output_type": "execute_result",
          "data": {
            "text/plain": [
              "[['мама', 'мыла'], ['мыла', 'раму']]"
            ]
          },
          "metadata": {},
          "execution_count": 7
        }
      ]
    },
    {
      "cell_type": "markdown",
      "source": [
        "# TF-IDF\n",
        "\n",
        "Term Frequency TF - это частота слова, то есть на сколько важно слово для текста.\n",
        "\n",
        "TF термина а = (Количество раз, когда термин а встретился в тексте / количество всех слов в тексте)\n",
        "\n",
        "Inverse Document Frequency IDF - измеряет непосредственную важность данного термина для текущего текста. То есть, для TF каждое слово равное по важности в тексте.\n",
        "\n",
        "IDF термина а = логарифм(Общее количество документов / Количество документов, в которых встречается термин а)\n",
        "\n",
        "Term Frequency — Inverse Document Frequency- это умножение TF на IDF и получаем — TF-IDF\n",
        "\n",
        "TF-IDF термина а = (TF термина а) * (IDF термина а)"
      ],
      "metadata": {
        "id": "EpKwQn82CKVC"
      }
    },
    {
      "cell_type": "code",
      "source": [
        "import math\n",
        "\n",
        "def TF(word, text):\n",
        "  text=token(text)\n",
        "  c=0\n",
        "  for i in text:\n",
        "    if i==word:\n",
        "      c+=1\n",
        "  return c/len(text)\n",
        "\n",
        "\n",
        "def IDF(word, corpus):\n",
        "  c=0\n",
        "  for doc in corpus:\n",
        "    if word in token(doc):\n",
        "      c+=1\n",
        "  return math.log(len(corpus)/c)\n"
      ],
      "metadata": {
        "id": "JuP7owzMKBL7"
      },
      "execution_count": null,
      "outputs": []
    },
    {
      "cell_type": "code",
      "source": [
        "import pandas as pd\n",
        "def TF_IDF(corpus):\n",
        "  tf_idf=[]\n",
        "  for doc in corpus:\n",
        "    t=token(doc)\n",
        "    vec=[]\n",
        "    for word in t:\n",
        "      vec.append(TF(word, doc)*IDF(word, corpus))\n",
        "    tf_idf.append(vec)\n",
        "  tf_idf=pd.DataFrame(tf_idf)\n",
        "  return tf_idf"
      ],
      "metadata": {
        "id": "cVOsUMNzChxX"
      },
      "execution_count": null,
      "outputs": []
    },
    {
      "cell_type": "code",
      "source": [
        "corpus = [\n",
        "          'Text of first document.',\n",
        "          'Text of the second document made longer.',\n",
        "          'Number three.',\n",
        "          'This is number four.',\n",
        "]\n",
        "\n",
        "TF_IDF(corpus)"
      ],
      "metadata": {
        "id": "nDj9ai3zEQE4",
        "colab": {
          "base_uri": "https://localhost:8080/",
          "height": 175
        },
        "outputId": "021d4bc2-c138-478a-c546-b3d2f1d45a74"
      },
      "execution_count": null,
      "outputs": [
        {
          "output_type": "execute_result",
          "data": {
            "text/plain": [
              "          0         1         2         3         4         5         6\n",
              "0  0.173287  0.173287  0.346574  0.173287       NaN       NaN       NaN\n",
              "1  0.099021  0.099021  0.198042  0.198042  0.099021  0.198042  0.198042\n",
              "2  0.346574  0.693147       NaN       NaN       NaN       NaN       NaN\n",
              "3  0.346574  0.346574  0.173287  0.346574       NaN       NaN       NaN"
            ],
            "text/html": [
              "\n",
              "  <div id=\"df-a5770b7c-c7c3-4442-89dd-6265c0a4d16b\">\n",
              "    <div class=\"colab-df-container\">\n",
              "      <div>\n",
              "<style scoped>\n",
              "    .dataframe tbody tr th:only-of-type {\n",
              "        vertical-align: middle;\n",
              "    }\n",
              "\n",
              "    .dataframe tbody tr th {\n",
              "        vertical-align: top;\n",
              "    }\n",
              "\n",
              "    .dataframe thead th {\n",
              "        text-align: right;\n",
              "    }\n",
              "</style>\n",
              "<table border=\"1\" class=\"dataframe\">\n",
              "  <thead>\n",
              "    <tr style=\"text-align: right;\">\n",
              "      <th></th>\n",
              "      <th>0</th>\n",
              "      <th>1</th>\n",
              "      <th>2</th>\n",
              "      <th>3</th>\n",
              "      <th>4</th>\n",
              "      <th>5</th>\n",
              "      <th>6</th>\n",
              "    </tr>\n",
              "  </thead>\n",
              "  <tbody>\n",
              "    <tr>\n",
              "      <th>0</th>\n",
              "      <td>0.173287</td>\n",
              "      <td>0.173287</td>\n",
              "      <td>0.346574</td>\n",
              "      <td>0.173287</td>\n",
              "      <td>NaN</td>\n",
              "      <td>NaN</td>\n",
              "      <td>NaN</td>\n",
              "    </tr>\n",
              "    <tr>\n",
              "      <th>1</th>\n",
              "      <td>0.099021</td>\n",
              "      <td>0.099021</td>\n",
              "      <td>0.198042</td>\n",
              "      <td>0.198042</td>\n",
              "      <td>0.099021</td>\n",
              "      <td>0.198042</td>\n",
              "      <td>0.198042</td>\n",
              "    </tr>\n",
              "    <tr>\n",
              "      <th>2</th>\n",
              "      <td>0.346574</td>\n",
              "      <td>0.693147</td>\n",
              "      <td>NaN</td>\n",
              "      <td>NaN</td>\n",
              "      <td>NaN</td>\n",
              "      <td>NaN</td>\n",
              "      <td>NaN</td>\n",
              "    </tr>\n",
              "    <tr>\n",
              "      <th>3</th>\n",
              "      <td>0.346574</td>\n",
              "      <td>0.346574</td>\n",
              "      <td>0.173287</td>\n",
              "      <td>0.346574</td>\n",
              "      <td>NaN</td>\n",
              "      <td>NaN</td>\n",
              "      <td>NaN</td>\n",
              "    </tr>\n",
              "  </tbody>\n",
              "</table>\n",
              "</div>\n",
              "      <button class=\"colab-df-convert\" onclick=\"convertToInteractive('df-a5770b7c-c7c3-4442-89dd-6265c0a4d16b')\"\n",
              "              title=\"Convert this dataframe to an interactive table.\"\n",
              "              style=\"display:none;\">\n",
              "        \n",
              "  <svg xmlns=\"http://www.w3.org/2000/svg\" height=\"24px\"viewBox=\"0 0 24 24\"\n",
              "       width=\"24px\">\n",
              "    <path d=\"M0 0h24v24H0V0z\" fill=\"none\"/>\n",
              "    <path d=\"M18.56 5.44l.94 2.06.94-2.06 2.06-.94-2.06-.94-.94-2.06-.94 2.06-2.06.94zm-11 1L8.5 8.5l.94-2.06 2.06-.94-2.06-.94L8.5 2.5l-.94 2.06-2.06.94zm10 10l.94 2.06.94-2.06 2.06-.94-2.06-.94-.94-2.06-.94 2.06-2.06.94z\"/><path d=\"M17.41 7.96l-1.37-1.37c-.4-.4-.92-.59-1.43-.59-.52 0-1.04.2-1.43.59L10.3 9.45l-7.72 7.72c-.78.78-.78 2.05 0 2.83L4 21.41c.39.39.9.59 1.41.59.51 0 1.02-.2 1.41-.59l7.78-7.78 2.81-2.81c.8-.78.8-2.07 0-2.86zM5.41 20L4 18.59l7.72-7.72 1.47 1.35L5.41 20z\"/>\n",
              "  </svg>\n",
              "      </button>\n",
              "      \n",
              "  <style>\n",
              "    .colab-df-container {\n",
              "      display:flex;\n",
              "      flex-wrap:wrap;\n",
              "      gap: 12px;\n",
              "    }\n",
              "\n",
              "    .colab-df-convert {\n",
              "      background-color: #E8F0FE;\n",
              "      border: none;\n",
              "      border-radius: 50%;\n",
              "      cursor: pointer;\n",
              "      display: none;\n",
              "      fill: #1967D2;\n",
              "      height: 32px;\n",
              "      padding: 0 0 0 0;\n",
              "      width: 32px;\n",
              "    }\n",
              "\n",
              "    .colab-df-convert:hover {\n",
              "      background-color: #E2EBFA;\n",
              "      box-shadow: 0px 1px 2px rgba(60, 64, 67, 0.3), 0px 1px 3px 1px rgba(60, 64, 67, 0.15);\n",
              "      fill: #174EA6;\n",
              "    }\n",
              "\n",
              "    [theme=dark] .colab-df-convert {\n",
              "      background-color: #3B4455;\n",
              "      fill: #D2E3FC;\n",
              "    }\n",
              "\n",
              "    [theme=dark] .colab-df-convert:hover {\n",
              "      background-color: #434B5C;\n",
              "      box-shadow: 0px 1px 3px 1px rgba(0, 0, 0, 0.15);\n",
              "      filter: drop-shadow(0px 1px 2px rgba(0, 0, 0, 0.3));\n",
              "      fill: #FFFFFF;\n",
              "    }\n",
              "  </style>\n",
              "\n",
              "      <script>\n",
              "        const buttonEl =\n",
              "          document.querySelector('#df-a5770b7c-c7c3-4442-89dd-6265c0a4d16b button.colab-df-convert');\n",
              "        buttonEl.style.display =\n",
              "          google.colab.kernel.accessAllowed ? 'block' : 'none';\n",
              "\n",
              "        async function convertToInteractive(key) {\n",
              "          const element = document.querySelector('#df-a5770b7c-c7c3-4442-89dd-6265c0a4d16b');\n",
              "          const dataTable =\n",
              "            await google.colab.kernel.invokeFunction('convertToInteractive',\n",
              "                                                     [key], {});\n",
              "          if (!dataTable) return;\n",
              "\n",
              "          const docLinkHtml = 'Like what you see? Visit the ' +\n",
              "            '<a target=\"_blank\" href=https://colab.research.google.com/notebooks/data_table.ipynb>data table notebook</a>'\n",
              "            + ' to learn more about interactive tables.';\n",
              "          element.innerHTML = '';\n",
              "          dataTable['output_type'] = 'display_data';\n",
              "          await google.colab.output.renderOutput(dataTable, element);\n",
              "          const docLink = document.createElement('div');\n",
              "          docLink.innerHTML = docLinkHtml;\n",
              "          element.appendChild(docLink);\n",
              "        }\n",
              "      </script>\n",
              "    </div>\n",
              "  </div>\n",
              "  "
            ]
          },
          "metadata": {},
          "execution_count": 19
        }
      ]
    },
    {
      "cell_type": "markdown",
      "source": [
        "# **Стоп-слова**\n",
        "\n",
        "\n"
      ],
      "metadata": {
        "id": "sDoGDA2-VGLl"
      }
    },
    {
      "cell_type": "markdown",
      "source": [
        "**Стоп слова** \n",
        "\n",
        "Многие алгоритмы Machine Learning очень чувствительны к шумам. В NLP к таким шумам относятся стоп-слова. Чаще всего это слова, которые не несут большой информативной нагрузки.\n",
        "\n",
        "Часто к таким словам относят предлоги и междометия"
      ],
      "metadata": {
        "id": "7Z-dT2M_XPlz"
      }
    },
    {
      "cell_type": "code",
      "source": [
        "from nltk.corpus import stopwords\n",
        "nltk.download('punkt')\n",
        "nltk.download('stopwords')\n",
        "lst_stopwords = nltk.corpus.stopwords.words(\"russian\")\n",
        "#Всего их насчитывается в этом списке 151.\n",
        "\n",
        "lst_stopwords[10:20]"
      ],
      "metadata": {
        "colab": {
          "base_uri": "https://localhost:8080/"
        },
        "id": "elNb-zBKaI7E",
        "outputId": "c989d0bf-ea4e-4ce3-8323-38c3df1203ef"
      },
      "execution_count": null,
      "outputs": [
        {
          "output_type": "stream",
          "name": "stdout",
          "text": [
            " \n"
          ]
        },
        {
          "output_type": "stream",
          "name": "stderr",
          "text": [
            "[nltk_data] Downloading package punkt to /root/nltk_data...\n",
            "[nltk_data]   Package punkt is already up-to-date!\n",
            "[nltk_data] Downloading package stopwords to /root/nltk_data...\n",
            "[nltk_data]   Package stopwords is already up-to-date!\n"
          ]
        },
        {
          "output_type": "execute_result",
          "data": {
            "text/plain": [
              "['как', 'а', 'то', 'все', 'она', 'так', 'его', 'но', 'да', 'ты']"
            ]
          },
          "metadata": {},
          "execution_count": 41
        }
      ]
    },
    {
      "cell_type": "code",
      "source": [
        "from nltk import word_tokenize\n",
        "cleaned_token=[]\n",
        "text='Он зашел в комнату и сел на стул'\n",
        "token = word_tokenize(text)\n",
        "for word in token:\n",
        "    if word not in lst_stopwords:\n",
        "        cleaned_token.append(word)"
      ],
      "metadata": {
        "id": "HHFCQi-ga6aS"
      },
      "execution_count": null,
      "outputs": []
    },
    {
      "cell_type": "code",
      "source": [
        "cleaned_token"
      ],
      "metadata": {
        "colab": {
          "base_uri": "https://localhost:8080/"
        },
        "id": "vbRxM4-ObMSe",
        "outputId": "245b4a05-08fa-477a-fbec-10d2033e1c53"
      },
      "execution_count": null,
      "outputs": [
        {
          "output_type": "execute_result",
          "data": {
            "text/plain": [
              "['Он', 'зашел', 'комнату', 'сел', 'стул']"
            ]
          },
          "metadata": {},
          "execution_count": 32
        }
      ]
    },
    {
      "cell_type": "code",
      "source": [
        "#мы так же можем дописывать свои слова \n",
        "'''Поскольку это список, то к нему можно добавить дополнительные слова или, наоборот, \n",
        "удалить из него те, которые будут информативными для вашего случая'''\n",
        "\n",
        "\n",
        "stop='зашел'\n",
        "lst_stopwords.append(stop)\n",
        "cleaned_token=[]\n",
        "text='Он зашел в комнату и сел на стул'\n",
        "token = word_tokenize(text)\n",
        "for word in token:\n",
        "    if word not in lst_stopwords:\n",
        "        cleaned_token.append(word)\n",
        "cleaned_token"
      ],
      "metadata": {
        "colab": {
          "base_uri": "https://localhost:8080/"
        },
        "id": "eQBUSHDwbuGM",
        "outputId": "e9134fc5-3c73-4b01-a9ff-37e5f6c1495e"
      },
      "execution_count": null,
      "outputs": [
        {
          "output_type": "execute_result",
          "data": {
            "text/plain": [
              "['Он', 'комнату', 'сел', 'стул']"
            ]
          },
          "metadata": {},
          "execution_count": 33
        }
      ]
    }
  ]
}
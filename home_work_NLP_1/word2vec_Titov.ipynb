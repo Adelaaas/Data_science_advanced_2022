{
  "nbformat": 4,
  "nbformat_minor": 0,
  "metadata": {
    "colab": {
      "provenance": []
    },
    "kernelspec": {
      "name": "python3",
      "display_name": "Python 3"
    },
    "language_info": {
      "name": "python"
    }
  },
  "cells": [
    {
      "cell_type": "code",
      "source": [
        "import gensim\n",
        "from gensim.models import word2vec\n",
        "import pandas as pd\n",
        "import re\n",
        "from matplotlib import pyplot as plt\n",
        "import numpy as np"
      ],
      "metadata": {
        "id": "ppkfiBaIPwvP"
      },
      "execution_count": 65,
      "outputs": []
    },
    {
      "cell_type": "code",
      "source": [
        "sentences = [['i', 'like', 'apple', 'pie', 'for', 'dessert'],\n",
        "             ['i', 'dont', 'drive', 'fast', 'cars'], \n",
        "             ['data', 'science', 'is', 'fun'], \n",
        "             ['chocolate', 'is', 'my', 'favorite'], \n",
        "             ['my', 'favorite', 'movie', 'is', 'predator'],]"
      ],
      "metadata": {
        "id": "0B9pgTjmfmze"
      },
      "execution_count": 66,
      "outputs": []
    },
    {
      "cell_type": "code",
      "source": [
        "w2v = gensim.models.Word2Vec(sentences, min_count = 1, size = 5)\n",
        "print(w2v)"
      ],
      "metadata": {
        "colab": {
          "base_uri": "https://localhost:8080/"
        },
        "id": "WWG2S5JsgS4V",
        "outputId": "d1b6bc58-cca1-4819-9c46-11c1d7a7b7f9"
      },
      "execution_count": 67,
      "outputs": [
        {
          "output_type": "stream",
          "name": "stderr",
          "text": [
            "WARNING:gensim.models.base_any2vec:consider setting layer size to a multiple of 4 for greater performance\n",
            "WARNING:gensim.models.base_any2vec:under 10 jobs per worker: consider setting a smaller `batch_words' for smoother alpha decay\n"
          ]
        },
        {
          "output_type": "stream",
          "name": "stdout",
          "text": [
            "Word2Vec(vocab=19, size=5, alpha=0.025)\n"
          ]
        }
      ]
    },
    {
      "cell_type": "code",
      "source": [
        "list(w2v.wv.vocab)"
      ],
      "metadata": {
        "colab": {
          "base_uri": "https://localhost:8080/"
        },
        "id": "iMSDJgIOiBgf",
        "outputId": "39fb3b90-d346-4a29-aaf2-7cc76adc23f9"
      },
      "execution_count": 68,
      "outputs": [
        {
          "output_type": "execute_result",
          "data": {
            "text/plain": [
              "['i',\n",
              " 'like',\n",
              " 'apple',\n",
              " 'pie',\n",
              " 'for',\n",
              " 'dessert',\n",
              " 'dont',\n",
              " 'drive',\n",
              " 'fast',\n",
              " 'cars',\n",
              " 'data',\n",
              " 'science',\n",
              " 'is',\n",
              " 'fun',\n",
              " 'chocolate',\n",
              " 'my',\n",
              " 'favorite',\n",
              " 'movie',\n",
              " 'predator']"
            ]
          },
          "metadata": {},
          "execution_count": 68
        }
      ]
    },
    {
      "cell_type": "code",
      "source": [
        "print(w2v['chocolate'])"
      ],
      "metadata": {
        "colab": {
          "base_uri": "https://localhost:8080/"
        },
        "id": "wsLvHbAkh7i1",
        "outputId": "0e98e528-e537-4174-f8d4-94375793901b"
      },
      "execution_count": 69,
      "outputs": [
        {
          "output_type": "stream",
          "name": "stdout",
          "text": [
            "[-0.03296663  0.016215    0.09490803 -0.03750616 -0.03438345]\n"
          ]
        }
      ]
    },
    {
      "cell_type": "code",
      "source": [
        "print(w2v['is'])"
      ],
      "metadata": {
        "colab": {
          "base_uri": "https://localhost:8080/"
        },
        "id": "IbaATVfXh9hG",
        "outputId": "3b8435f4-8c11-4e11-8459-9e31322964e8"
      },
      "execution_count": 70,
      "outputs": [
        {
          "output_type": "stream",
          "name": "stdout",
          "text": [
            "[-0.05625263 -0.09504091 -0.08138581  0.07151507 -0.07704611]\n"
          ]
        }
      ]
    },
    {
      "cell_type": "code",
      "source": [
        "X = w2v[w2v.wv.vocab]\n",
        "pca = PCA(n_components=2)\n",
        "\n",
        "result = pca.fit_transform(X)\n",
        "\n",
        "plt.scatter(result[:, 0], result[:, 1])\n",
        "words = list(w2v.wv.vocab)\n",
        "\n",
        "for i, word in enumerate(words):\n",
        "  plt.annotate(word, xy=(result[i, 0], result[i, 1]))\n",
        "\n",
        "plt.show()"
      ],
      "metadata": {
        "colab": {
          "base_uri": "https://localhost:8080/",
          "height": 265
        },
        "id": "Hf7NuHYciYD1",
        "outputId": "7d24c31a-262a-48e7-eb7c-b4de950eb494"
      },
      "execution_count": 71,
      "outputs": [
        {
          "output_type": "display_data",
          "data": {
            "text/plain": [
              "<Figure size 432x288 with 1 Axes>"
            ],
            "image/png": "[encoded data removed]"
          },
          "metadata": {
            "needs_background": "light"
          }
        }
      ]
    }
  ]
}
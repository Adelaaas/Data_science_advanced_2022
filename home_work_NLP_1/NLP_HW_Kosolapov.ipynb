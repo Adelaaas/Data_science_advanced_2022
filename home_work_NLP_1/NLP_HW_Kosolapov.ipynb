{
  "nbformat": 4,
  "nbformat_minor": 0,
  "metadata": {
    "colab": {
      "provenance": []
    },
    "kernelspec": {
      "name": "python3",
      "display_name": "Python 3"
    },
    "language_info": {
      "name": "python"
    }
  },
  "cells": [
    {
      "cell_type": "code",
      "execution_count": 9,
      "metadata": {
        "id": "ms3UrVn4-Zha"
      },
      "outputs": [],
      "source": [
        "text = ''' I want a person available 7 days and with prompt response all most every time. Only Indian freelancer need I need PHP developer who have strong experience in Laravel and Codeigniter framework for daily 4 hours. I need this work by Monday 27th Jan. should be free from plagiarism . \n",
        "Need SAP FICO consultant for support project needs to be work on 6 months on FI AREAWe.  Want a same site to be created as the same as this https://www.facebook.com/?ref=logo, please check the site before contacting to me and i want this site to be ready in 10 days. They will be ready at noon tomorrow .'''\n"
      ]
    },
    {
      "cell_type": "markdown",
      "source": [
        "TF_IDF"
      ],
      "metadata": {
        "id": "AgahLXtzNGA7"
      }
    },
    {
      "cell_type": "code",
      "source": [
        "import re\n",
        "text = re.findall(r'\\w+', text)\n",
        "print(text)"
      ],
      "metadata": {
        "colab": {
          "base_uri": "https://localhost:8080/"
        },
        "id": "cySbCwXbcatk",
        "outputId": "b17093f5-3ae0-4d35-866a-7f3876a92fce"
      },
      "execution_count": 3,
      "outputs": [
        {
          "output_type": "stream",
          "name": "stdout",
          "text": [
            "['I', 'want', 'a', 'person', 'available', '7', 'days', 'and', 'with', 'prompt', 'response', 'all', 'most', 'every', 'time', 'Only', 'Indian', 'freelancer', 'need', 'I', 'need', 'PHP', 'developer', 'who', 'have', 'strong', 'experience', 'in', 'Laravel', 'and', 'Codeigniter', 'framework', 'for', 'daily', '4', 'hours', 'I', 'need', 'this', 'work', 'by', 'Monday', '27th', 'Jan', 'should', 'be', 'free', 'from', 'plagiarism', 'Need', 'SAP', 'FICO', 'consultant', 'for', 'support', 'project', 'needs', 'to', 'be', 'work', 'on', '6', 'months', 'on', 'FI', 'AREAWe', 'Want', 'a', 'same', 'site', 'to', 'be', 'created', 'as', 'the', 'same', 'as', 'this', 'https', 'www', 'facebook', 'com', 'ref', 'logo', 'please', 'check', 'the', 'site', 'before', 'contacting', 'to', 'me', 'and', 'i', 'want', 'this', 'site', 'to', 'be', 'ready', 'in', '10', 'days', 'They', 'will', 'be', 'ready', 'at', 'noon', 'tomorrow']\n"
          ]
        }
      ]
    },
    {
      "cell_type": "code",
      "source": [
        "def tf(text):\n",
        "  a = {}\n",
        "  text = list(re.findall(r'\\w+', text))\n",
        "  for i in text:\n",
        "    if i.lower() not in a.keys():\n",
        "      a[i.lower()] = 1\n",
        "    else:\n",
        "      a[i.lower()] += 1\n",
        "  for i in a.keys():\n",
        "    a[i] /= len(a.keys())\n",
        "  \n",
        "  return a\n",
        "print(tf(text))"
      ],
      "metadata": {
        "colab": {
          "base_uri": "https://localhost:8080/"
        },
        "id": "P--1zwHG-0vf",
        "outputId": "87bbde3e-ad36-4227-bb1d-2e8fccac0a1c"
      },
      "execution_count": 10,
      "outputs": [
        {
          "output_type": "stream",
          "name": "stdout",
          "text": [
            "{'i': 0.05063291139240506, 'want': 0.0379746835443038, 'a': 0.02531645569620253, 'person': 0.012658227848101266, 'available': 0.012658227848101266, '7': 0.012658227848101266, 'days': 0.02531645569620253, 'and': 0.0379746835443038, 'with': 0.012658227848101266, 'prompt': 0.012658227848101266, 'response': 0.012658227848101266, 'all': 0.012658227848101266, 'most': 0.012658227848101266, 'every': 0.012658227848101266, 'time': 0.012658227848101266, 'only': 0.012658227848101266, 'indian': 0.012658227848101266, 'freelancer': 0.012658227848101266, 'need': 0.05063291139240506, 'php': 0.012658227848101266, 'developer': 0.012658227848101266, 'who': 0.012658227848101266, 'have': 0.012658227848101266, 'strong': 0.012658227848101266, 'experience': 0.012658227848101266, 'in': 0.02531645569620253, 'laravel': 0.012658227848101266, 'codeigniter': 0.012658227848101266, 'framework': 0.012658227848101266, 'for': 0.02531645569620253, 'daily': 0.012658227848101266, '4': 0.012658227848101266, 'hours': 0.012658227848101266, 'this': 0.0379746835443038, 'work': 0.02531645569620253, 'by': 0.012658227848101266, 'monday': 0.012658227848101266, '27th': 0.012658227848101266, 'jan': 0.012658227848101266, 'should': 0.012658227848101266, 'be': 0.06329113924050633, 'free': 0.012658227848101266, 'from': 0.012658227848101266, 'plagiarism': 0.012658227848101266, 'sap': 0.012658227848101266, 'fico': 0.012658227848101266, 'consultant': 0.012658227848101266, 'support': 0.012658227848101266, 'project': 0.012658227848101266, 'needs': 0.012658227848101266, 'to': 0.05063291139240506, 'on': 0.02531645569620253, '6': 0.012658227848101266, 'months': 0.012658227848101266, 'fi': 0.012658227848101266, 'areawe': 0.012658227848101266, 'same': 0.02531645569620253, 'site': 0.0379746835443038, 'created': 0.012658227848101266, 'as': 0.02531645569620253, 'the': 0.02531645569620253, 'https': 0.012658227848101266, 'www': 0.012658227848101266, 'facebook': 0.012658227848101266, 'com': 0.012658227848101266, 'ref': 0.012658227848101266, 'logo': 0.012658227848101266, 'please': 0.012658227848101266, 'check': 0.012658227848101266, 'before': 0.012658227848101266, 'contacting': 0.012658227848101266, 'me': 0.012658227848101266, 'ready': 0.02531645569620253, '10': 0.012658227848101266, 'they': 0.012658227848101266, 'will': 0.012658227848101266, 'at': 0.012658227848101266, 'noon': 0.012658227848101266, 'tomorrow': 0.012658227848101266}\n"
          ]
        }
      ]
    },
    {
      "cell_type": "code",
      "source": [
        "import math\n",
        "def idf(text):\n",
        "  a = {}\n",
        "  text1 = text.lower().split('. ')\n",
        "  \n",
        "  text2 = list(re.findall(r'\\w+', text))\n",
        "  text2 = list(set(list(map(str.lower, text2))))\n",
        "  for i in text2:\n",
        "    a[i] = 0\n",
        "  for i in text1:\n",
        "    for j in text2:\n",
        "      if j in i:\n",
        "        a[j] += 1\n",
        "\n",
        "  for i in a.keys():\n",
        "    a[i] = math.log(len(text1) / a[i], 10)\n",
        "  return a\n",
        "\n",
        "print(idf(text))"
      ],
      "metadata": {
        "colab": {
          "base_uri": "https://localhost:8080/"
        },
        "id": "aWGYqo2kfluC",
        "outputId": "b123b93d-a4a4-4c8f-b12b-53b5db6e53a8"
      },
      "execution_count": 11,
      "outputs": [
        {
          "output_type": "stream",
          "name": "stdout",
          "text": [
            "{'7': 0.5440680443502756, 'strong': 0.8450980400142567, 'a': 0.0, 'need': 0.3679767852945944, 'fi': 0.8450980400142567, 'want': 0.5440680443502756, 'sap': 0.8450980400142567, 'site': 0.8450980400142567, 'codeigniter': 0.8450980400142567, 'daily': 0.8450980400142567, 'at': 0.5440680443502756, 'monday': 0.8450980400142567, 'laravel': 0.8450980400142567, '27th': 0.8450980400142567, 'jan': 0.8450980400142567, 'and': 0.3679767852945944, 'consultant': 0.8450980400142567, 'person': 0.8450980400142567, 'fico': 0.8450980400142567, 'as': 0.8450980400142567, 'i': 0.0, 'will': 0.8450980400142567, 'ref': 0.8450980400142567, 'all': 0.8450980400142567, 'free': 0.5440680443502756, 'the': 0.5440680443502756, 'to': 0.3679767852945944, 'logo': 0.8450980400142567, '10': 0.8450980400142567, 'project': 0.8450980400142567, 'contacting': 0.8450980400142567, 'me': 0.3679767852945944, 'they': 0.8450980400142567, 'only': 0.8450980400142567, 'same': 0.8450980400142567, 'this': 0.5440680443502756, 'from': 0.8450980400142567, 'freelancer': 0.8450980400142567, 'by': 0.8450980400142567, 'on': 0.06694678963061322, 'php': 0.8450980400142567, 'hours': 0.8450980400142567, 'time': 0.8450980400142567, 'most': 0.8450980400142567, 'indian': 0.8450980400142567, 'ready': 0.5440680443502756, 'every': 0.8450980400142567, 'should': 0.8450980400142567, 'https': 0.8450980400142567, 'created': 0.8450980400142567, 'plagiarism': 0.8450980400142567, 'before': 0.8450980400142567, 'facebook': 0.8450980400142567, 'with': 0.8450980400142567, '4': 0.8450980400142567, 'areawe': 0.8450980400142567, 'noon': 0.8450980400142567, 'for': 0.3679767852945944, 'please': 0.8450980400142567, 'tomorrow': 0.8450980400142567, 'prompt': 0.8450980400142567, 'days': 0.5440680443502756, '6': 0.8450980400142567, 'framework': 0.8450980400142567, 'response': 0.8450980400142567, 'who': 0.8450980400142567, 'www': 0.8450980400142567, 'in': 0.5440680443502756, 'available': 0.8450980400142567, 'developer': 0.8450980400142567, 'com': 0.8450980400142567, 'be': 0.24303804868629442, 'have': 0.8450980400142567, 'support': 0.8450980400142567, 'needs': 0.8450980400142567, 'experience': 0.8450980400142567, 'work': 0.3679767852945944, 'check': 0.8450980400142567, 'months': 0.8450980400142567}\n"
          ]
        }
      ]
    },
    {
      "cell_type": "code",
      "source": [
        "def tf_idf(a, b):\n",
        "  c = {}\n",
        "  for i in a.keys():\n",
        "    c[i] = a[i] * b[i]\n",
        "  return c\n",
        "\n",
        "print(tf_idf(tf(text), idf(text)))"
      ],
      "metadata": {
        "colab": {
          "base_uri": "https://localhost:8080/"
        },
        "id": "7Ni4jBrTIRgz",
        "outputId": "288c4b82-641e-4ca3-f154-d2c78ecb60ff"
      },
      "execution_count": 12,
      "outputs": [
        {
          "output_type": "stream",
          "name": "stdout",
          "text": [
            "{'i': 0.0, 'want': 0.02066081181076996, 'a': 0.0, 'person': 0.010697443544484262, 'available': 0.010697443544484262, '7': 0.006886937270256652, 'days': 0.013773874540513304, 'and': 0.013973801973212446, 'with': 0.010697443544484262, 'prompt': 0.010697443544484262, 'response': 0.010697443544484262, 'all': 0.010697443544484262, 'most': 0.010697443544484262, 'every': 0.010697443544484262, 'time': 0.010697443544484262, 'only': 0.010697443544484262, 'indian': 0.010697443544484262, 'freelancer': 0.010697443544484262, 'need': 0.01863173596428326, 'php': 0.010697443544484262, 'developer': 0.010697443544484262, 'who': 0.010697443544484262, 'have': 0.010697443544484262, 'strong': 0.010697443544484262, 'experience': 0.010697443544484262, 'in': 0.013773874540513304, 'laravel': 0.010697443544484262, 'codeigniter': 0.010697443544484262, 'framework': 0.010697443544484262, 'for': 0.00931586798214163, 'daily': 0.010697443544484262, '4': 0.010697443544484262, 'hours': 0.010697443544484262, 'this': 0.02066081181076996, 'work': 0.00931586798214163, 'by': 0.010697443544484262, 'monday': 0.010697443544484262, '27th': 0.010697443544484262, 'jan': 0.010697443544484262, 'should': 0.010697443544484262, 'be': 0.015382154980145217, 'free': 0.006886937270256652, 'from': 0.010697443544484262, 'plagiarism': 0.010697443544484262, 'sap': 0.010697443544484262, 'fico': 0.010697443544484262, 'consultant': 0.010697443544484262, 'support': 0.010697443544484262, 'project': 0.010697443544484262, 'needs': 0.010697443544484262, 'to': 0.01863173596428326, 'on': 0.0016948554336864107, '6': 0.010697443544484262, 'months': 0.010697443544484262, 'fi': 0.010697443544484262, 'areawe': 0.010697443544484262, 'same': 0.021394887088968525, 'site': 0.032092330633452786, 'created': 0.010697443544484262, 'as': 0.021394887088968525, 'the': 0.013773874540513304, 'https': 0.010697443544484262, 'www': 0.010697443544484262, 'facebook': 0.010697443544484262, 'com': 0.010697443544484262, 'ref': 0.010697443544484262, 'logo': 0.010697443544484262, 'please': 0.010697443544484262, 'check': 0.010697443544484262, 'before': 0.010697443544484262, 'contacting': 0.010697443544484262, 'me': 0.004657933991070815, 'ready': 0.013773874540513304, '10': 0.010697443544484262, 'they': 0.010697443544484262, 'will': 0.010697443544484262, 'at': 0.006886937270256652, 'noon': 0.010697443544484262, 'tomorrow': 0.010697443544484262}\n"
          ]
        }
      ]
    },
    {
      "cell_type": "markdown",
      "source": [
        "N_gram"
      ],
      "metadata": {
        "id": "v7eY4FicNI1c"
      }
    },
    {
      "cell_type": "code",
      "source": [
        "def n_gram(text, n):\n",
        "  a = []\n",
        "  text = text.replace(\" \", '_')\n",
        "  s = 0\n",
        "  while s + n <= len(text):\n",
        "    a.append(text[s:s+n])\n",
        "    s += 1\n",
        "  return a\n",
        "\n",
        "print(n_gram(text, 2))"
      ],
      "metadata": {
        "colab": {
          "base_uri": "https://localhost:8080/"
        },
        "id": "c5ky5O_Kdrc0",
        "outputId": "c9c08108-d0d5-4b87-a6f5-7b96921ab46f"
      },
      "execution_count": 16,
      "outputs": [
        {
          "output_type": "stream",
          "name": "stdout",
          "text": [
            "['_I', 'I_', '_w', 'wa', 'an', 'nt', 't_', '_a', 'a_', '_p', 'pe', 'er', 'rs', 'so', 'on', 'n_', '_a', 'av', 'va', 'ai', 'il', 'la', 'ab', 'bl', 'le', 'e_', '_7', '7_', '_d', 'da', 'ay', 'ys', 's_', '_a', 'an', 'nd', 'd_', '_w', 'wi', 'it', 'th', 'h_', '_p', 'pr', 'ro', 'om', 'mp', 'pt', 't_', '_r', 're', 'es', 'sp', 'po', 'on', 'ns', 'se', 'e_', '_a', 'al', 'll', 'l_', '_m', 'mo', 'os', 'st', 't_', '_e', 'ev', 've', 'er', 'ry', 'y_', '_t', 'ti', 'im', 'me', 'e.', '._', '_O', 'On', 'nl', 'ly', 'y_', '_I', 'In', 'nd', 'di', 'ia', 'an', 'n_', '_f', 'fr', 're', 'ee', 'el', 'la', 'an', 'nc', 'ce', 'er', 'r_', '_n', 'ne', 'ee', 'ed', 'd_', '_I', 'I_', '_n', 'ne', 'ee', 'ed', 'd_', '_P', 'PH', 'HP', 'P_', '_d', 'de', 'ev', 've', 'el', 'lo', 'op', 'pe', 'er', 'r_', '_w', 'wh', 'ho', 'o_', '_h', 'ha', 'av', 've', 'e_', '_s', 'st', 'tr', 'ro', 'on', 'ng', 'g_', '_e', 'ex', 'xp', 'pe', 'er', 'ri', 'ie', 'en', 'nc', 'ce', 'e_', '_i', 'in', 'n_', '_L', 'La', 'ar', 'ra', 'av', 've', 'el', 'l_', '_a', 'an', 'nd', 'd_', '_C', 'Co', 'od', 'de', 'ei', 'ig', 'gn', 'ni', 'it', 'te', 'er', 'r_', '_f', 'fr', 'ra', 'am', 'me', 'ew', 'wo', 'or', 'rk', 'k_', '_f', 'fo', 'or', 'r_', '_d', 'da', 'ai', 'il', 'ly', 'y_', '_4', '4_', '_h', 'ho', 'ou', 'ur', 'rs', 's.', '._', '_I', 'I_', '_n', 'ne', 'ee', 'ed', 'd_', '_t', 'th', 'hi', 'is', 's_', '_w', 'wo', 'or', 'rk', 'k_', '_b', 'by', 'y_', '_M', 'Mo', 'on', 'nd', 'da', 'ay', 'y_', '_2', '27', '7t', 'th', 'h_', '_J', 'Ja', 'an', 'n.', '._', '_s', 'sh', 'ho', 'ou', 'ul', 'ld', 'd_', '_b', 'be', 'e_', '_f', 'fr', 're', 'ee', 'e_', '_f', 'fr', 'ro', 'om', 'm_', '_p', 'pl', 'la', 'ag', 'gi', 'ia', 'ar', 'ri', 'is', 'sm', 'm_', '_.', '._', '_\\n', '\\nN', 'Ne', 'ee', 'ed', 'd_', '_S', 'SA', 'AP', 'P_', '_F', 'FI', 'IC', 'CO', 'O_', '_c', 'co', 'on', 'ns', 'su', 'ul', 'lt', 'ta', 'an', 'nt', 't_', '_f', 'fo', 'or', 'r_', '_s', 'su', 'up', 'pp', 'po', 'or', 'rt', 't_', '_p', 'pr', 'ro', 'oj', 'je', 'ec', 'ct', 't_', '_n', 'ne', 'ee', 'ed', 'ds', 's_', '_t', 'to', 'o_', '_b', 'be', 'e_', '_w', 'wo', 'or', 'rk', 'k_', '_o', 'on', 'n_', '_6', '6_', '_m', 'mo', 'on', 'nt', 'th', 'hs', 's_', '_o', 'on', 'n_', '_F', 'FI', 'I_', '_A', 'AR', 'RE', 'EA', 'AW', 'We', 'e.', '._', '__', '_W', 'Wa', 'an', 'nt', 't_', '_a', 'a_', '_s', 'sa', 'am', 'me', 'e_', '_s', 'si', 'it', 'te', 'e_', '_t', 'to', 'o_', '_b', 'be', 'e_', '_c', 'cr', 're', 'ea', 'at', 'te', 'ed', 'd_', '_a', 'as', 's_', '_t', 'th', 'he', 'e_', '_s', 'sa', 'am', 'me', 'e_', '_a', 'as', 's_', '_t', 'th', 'hi', 'is', 's_', '_h', 'ht', 'tt', 'tp', 'ps', 's:', ':/', '//', '/w', 'ww', 'ww', 'w.', '.f', 'fa', 'ac', 'ce', 'eb', 'bo', 'oo', 'ok', 'k.', '.c', 'co', 'om', 'm/', '/?', '?r', 're', 'ef', 'f=', '=l', 'lo', 'og', 'go', 'o,', ',_', '_p', 'pl', 'le', 'ea', 'as', 'se', 'e_', '_c', 'ch', 'he', 'ec', 'ck', 'k_', '_t', 'th', 'he', 'e_', '_s', 'si', 'it', 'te', 'e_', '_b', 'be', 'ef', 'fo', 'or', 're', 'e_', '_c', 'co', 'on', 'nt', 'ta', 'ac', 'ct', 'ti', 'in', 'ng', 'g_', '_t', 'to', 'o_', '_m', 'me', 'e_', '_a', 'an', 'nd', 'd_', '_i', 'i_', '_w', 'wa', 'an', 'nt', 't_', '_t', 'th', 'hi', 'is', 's_', '_s', 'si', 'it', 'te', 'e_', '_t', 'to', 'o_', '_b', 'be', 'e_', '_r', 're', 'ea', 'ad', 'dy', 'y_', '_i', 'in', 'n_', '_1', '10', '0_', '_d', 'da', 'ay', 'ys', 's.', '._', '_T', 'Th', 'he', 'ey', 'y_', '_w', 'wi', 'il', 'll', 'l_', '_b', 'be', 'e_', '_r', 're', 'ea', 'ad', 'dy', 'y_', '_a', 'at', 't_', '_n', 'no', 'oo', 'on', 'n_', '_t', 'to', 'om', 'mo', 'or', 'rr', 'ro', 'ow', 'w_', '_.']\n"
          ]
        }
      ]
    },
    {
      "cell_type": "code",
      "source": [],
      "metadata": {
        "id": "VZKkyHFnNMTY"
      },
      "execution_count": null,
      "outputs": []
    }
  ]
}